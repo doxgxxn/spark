{
 "cells": [
  {
   "cell_type": "code",
   "execution_count": 0,
   "metadata": {
    "application/vnd.databricks.v1+cell": {
     "cellMetadata": {
      "byteLimit": 2048000,
      "rowLimit": 10000
     },
     "inputWidgets": {},
     "nuid": "dddf5b8c-88b0-47b7-94ed-8ed0735853c8",
     "showTitle": false,
     "title": ""
    }
   },
   "outputs": [],
   "source": [
    "from pyspark.sql.functions import col,isnan, when, count\n",
    "from pyspark.sql.types import IntegerType, DoubleType\n",
    "from pyspark import SparkFiles\n",
    "\n",
    "import os\n",
    "import numpy as np\n",
    "import pandas as pd\n",
    "import matplotlib.pyplot as plt\n",
    "import seaborn as sns\n",
    "\n",
    "plt.style.use('seaborn')\n",
    "sns.set(font_scale=2)\n",
    "\n",
    "import warnings\n",
    "warnings.filterwarnings('ignore')"
   ]
  },
  {
   "cell_type": "code",
   "execution_count": 0,
   "metadata": {
    "application/vnd.databricks.v1+cell": {
     "cellMetadata": {
      "byteLimit": 2048000,
      "rowLimit": 10000
     },
     "inputWidgets": {},
     "nuid": "5233cf4b-23bc-4425-a7f6-de7708962d1c",
     "showTitle": false,
     "title": ""
    }
   },
   "outputs": [],
   "source": [
    "#구글 드라이버에서 다운로드 받을 파일의 URL\n",
    "url = \"https://drive.google.com/uc?id=1hLyqMbl5foc96lDJk6_KWJ_RLVOtIzIJ\"\n",
    "\n"
   ]
  },
  {
   "cell_type": "code",
   "execution_count": 0,
   "metadata": {
    "application/vnd.databricks.v1+cell": {
     "cellMetadata": {
      "byteLimit": 2048000,
      "rowLimit": 10000
     },
     "inputWidgets": {},
     "nuid": "f9fc4154-f308-4a5e-b023-986e4347fc52",
     "showTitle": false,
     "title": ""
    }
   },
   "outputs": [],
   "source": [
    "spark.sparkContext.addFile(url)\n"
   ]
  },
  {
   "cell_type": "code",
   "execution_count": 0,
   "metadata": {
    "application/vnd.databricks.v1+cell": {
     "cellMetadata": {
      "byteLimit": 2048000,
      "rowLimit": 10000
     },
     "inputWidgets": {},
     "nuid": "60990649-25a8-4e4a-9b66-da13f76da9f2",
     "showTitle": false,
     "title": ""
    }
   },
   "outputs": [
    {
     "output_type": "stream",
     "name": "stdout",
     "output_type": "stream",
     "text": [
      "Out[4]: '/local_disk0/spark-2f061881-1bf7-4d2d-a6ef-86ecd6b9765f/userFiles-174100bb-929e-436b-88fe-7dda49b4952d'"
     ]
    }
   ],
   "source": [
    "SparkFiles.getRootDirectory()"
   ]
  },
  {
   "cell_type": "code",
   "execution_count": 0,
   "metadata": {
    "application/vnd.databricks.v1+cell": {
     "cellMetadata": {
      "byteLimit": 2048000,
      "rowLimit": 10000
     },
     "inputWidgets": {},
     "nuid": "f4220c31-ff15-4ba7-a61a-7c35764607c6",
     "showTitle": false,
     "title": ""
    }
   },
   "outputs": [
    {
     "output_type": "stream",
     "name": "stdout",
     "output_type": "stream",
     "text": [
      "Out[5]: ['uc']"
     ]
    }
   ],
   "source": [
    "os.listdir(SparkFiles.getRootDirectory())"
   ]
  },
  {
   "cell_type": "code",
   "execution_count": 0,
   "metadata": {
    "application/vnd.databricks.v1+cell": {
     "cellMetadata": {
      "byteLimit": 2048000,
      "rowLimit": 10000
     },
     "inputWidgets": {},
     "nuid": "69840cbf-2bba-408d-a7c2-7a32dc3ed401",
     "showTitle": false,
     "title": ""
    }
   },
   "outputs": [],
   "source": [
    "df_train = spark.read.csv(\"file://\"+SparkFiles.get('uc'), header=True)"
   ]
  },
  {
   "cell_type": "code",
   "execution_count": 0,
   "metadata": {
    "application/vnd.databricks.v1+cell": {
     "cellMetadata": {
      "byteLimit": 2048000,
      "rowLimit": 10000
     },
     "inputWidgets": {},
     "nuid": "d214d33e-5efd-4491-8123-be3dfd32d3fe",
     "showTitle": false,
     "title": ""
    }
   },
   "outputs": [
    {
     "output_type": "stream",
     "name": "stdout",
     "output_type": "stream",
     "text": [
      "Out[7]: pyspark.sql.dataframe.DataFrame"
     ]
    }
   ],
   "source": [
    "type(df_train)"
   ]
  },
  {
   "cell_type": "code",
   "execution_count": 0,
   "metadata": {
    "application/vnd.databricks.v1+cell": {
     "cellMetadata": {
      "byteLimit": 2048000,
      "rowLimit": 10000
     },
     "inputWidgets": {},
     "nuid": "d420d4c2-8121-4cf5-80a7-525d4ec7d27a",
     "showTitle": false,
     "title": ""
    }
   },
   "outputs": [
    {
     "output_type": "stream",
     "name": "stdout",
     "output_type": "stream",
     "text": [
      "Out[8]: StructType(List(StructField(PassengerId,StringType,true),StructField(Pclass,StringType,true),StructField(Name,StringType,true),StructField(Sex,StringType,true),StructField(Age,StringType,true),StructField(SibSp,StringType,true),StructField(Parch,StringType,true),StructField(Ticket,StringType,true),StructField(Fare,StringType,true),StructField(Cabin,StringType,true),StructField(Embarked,StringType,true),StructField(Survived,StringType,true)))"
     ]
    }
   ],
   "source": [
    "df_train.schema"
   ]
  },
  {
   "cell_type": "code",
   "execution_count": 0,
   "metadata": {
    "application/vnd.databricks.v1+cell": {
     "cellMetadata": {
      "byteLimit": 2048000,
      "rowLimit": 10000
     },
     "inputWidgets": {},
     "nuid": "9213f3fb-f9b4-43d1-8a14-793255ce4592",
     "showTitle": false,
     "title": ""
    }
   },
   "outputs": [
    {
     "output_type": "stream",
     "name": "stdout",
     "output_type": "stream",
     "text": [
      "Out[9]: ['PassengerId',\n 'Pclass',\n 'Name',\n 'Sex',\n 'Age',\n 'SibSp',\n 'Parch',\n 'Ticket',\n 'Fare',\n 'Cabin',\n 'Embarked',\n 'Survived']"
     ]
    }
   ],
   "source": [
    "df_train.schema.names"
   ]
  },
  {
   "cell_type": "code",
   "execution_count": 0,
   "metadata": {
    "application/vnd.databricks.v1+cell": {
     "cellMetadata": {
      "byteLimit": 2048000,
      "rowLimit": 10000
     },
     "inputWidgets": {},
     "nuid": "404563f8-63e6-4d47-a1e3-c2502fa4dacb",
     "showTitle": false,
     "title": ""
    }
   },
   "outputs": [],
   "source": [
    "column_name_list = df_train.columns"
   ]
  },
  {
   "cell_type": "code",
   "execution_count": 0,
   "metadata": {
    "application/vnd.databricks.v1+cell": {
     "cellMetadata": {
      "byteLimit": 2048000,
      "rowLimit": 10000
     },
     "inputWidgets": {},
     "nuid": "ce088d2d-5f00-412a-ba58-c48e3dc62df6",
     "showTitle": false,
     "title": ""
    }
   },
   "outputs": [
    {
     "output_type": "stream",
     "name": "stdout",
     "output_type": "stream",
     "text": [
      "Out[12]: ['PassengerId',\n 'Pclass',\n 'Name',\n 'Sex',\n 'Age',\n 'SibSp',\n 'Parch',\n 'Ticket',\n 'Fare',\n 'Cabin',\n 'Embarked',\n 'Survived']"
     ]
    }
   ],
   "source": [
    "column_name_list"
   ]
  },
  {
   "cell_type": "code",
   "execution_count": 0,
   "metadata": {
    "application/vnd.databricks.v1+cell": {
     "cellMetadata": {
      "byteLimit": 2048000,
      "rowLimit": 10000
     },
     "inputWidgets": {},
     "nuid": "de2c1c07-83fe-476b-8de0-bae7a0a61a2d",
     "showTitle": false,
     "title": ""
    }
   },
   "outputs": [
    {
     "output_type": "stream",
     "name": "stdout",
     "output_type": "stream",
     "text": [
      "Out[13]: 'Pclass'"
     ]
    }
   ],
   "source": [
    "column_name_list[1]"
   ]
  },
  {
   "cell_type": "code",
   "execution_count": 0,
   "metadata": {
    "application/vnd.databricks.v1+cell": {
     "cellMetadata": {
      "byteLimit": 2048000,
      "rowLimit": 10000
     },
     "inputWidgets": {},
     "nuid": "4d7ec967-e2bf-47e6-ac08-0c2526575749",
     "showTitle": false,
     "title": ""
    }
   },
   "outputs": [],
   "source": [
    "int_column_list = column_name_list[1:2]+column_name_list[5:7] + column_name_list[11:12]"
   ]
  },
  {
   "cell_type": "code",
   "execution_count": 0,
   "metadata": {
    "application/vnd.databricks.v1+cell": {
     "cellMetadata": {
      "byteLimit": 2048000,
      "rowLimit": 10000
     },
     "inputWidgets": {},
     "nuid": "30dfa525-b4d3-4679-9a14-9b75c5def295",
     "showTitle": false,
     "title": ""
    }
   },
   "outputs": [
    {
     "output_type": "stream",
     "name": "stdout",
     "output_type": "stream",
     "text": [
      "Out[16]: ['Pclass', 'SibSp', 'Parch', 'Survived']"
     ]
    }
   ],
   "source": [
    "int_column_list"
   ]
  },
  {
   "cell_type": "code",
   "execution_count": 0,
   "metadata": {
    "application/vnd.databricks.v1+cell": {
     "cellMetadata": {
      "byteLimit": 2048000,
      "rowLimit": 10000
     },
     "inputWidgets": {},
     "nuid": "9de96da4-c2f0-444b-b724-486224fcf343",
     "showTitle": false,
     "title": ""
    }
   },
   "outputs": [
    {
     "output_type": "stream",
     "name": "stdout",
     "output_type": "stream",
     "text": [
      "column_name =  Pclass\n====================================================================================================\ncolumn_name =  SibSp\n====================================================================================================\ncolumn_name =  Parch\n====================================================================================================\ncolumn_name =  Survived\n====================================================================================================\n"
     ]
    }
   ],
   "source": [
    "for column_name in int_column_list:\n",
    "\n",
    "    print(\"column_name = \", column_name)\n",
    "    df_train = df_train.withColumn(column_name, df_train[column_name].cast('int'))\n",
    "    print('='*100)"
   ]
  },
  {
   "cell_type": "code",
   "execution_count": 0,
   "metadata": {
    "application/vnd.databricks.v1+cell": {
     "cellMetadata": {
      "byteLimit": 2048000,
      "rowLimit": 10000
     },
     "inputWidgets": {},
     "nuid": "2511b142-dfb9-4aea-9516-ed06e2fe3d5f",
     "showTitle": false,
     "title": ""
    }
   },
   "outputs": [
    {
     "output_type": "stream",
     "name": "stdout",
     "output_type": "stream",
     "text": [
      "root\n |-- PassengerId: string (nullable = true)\n |-- Pclass: integer (nullable = true)\n |-- Name: string (nullable = true)\n |-- Sex: string (nullable = true)\n |-- Age: string (nullable = true)\n |-- SibSp: integer (nullable = true)\n |-- Parch: integer (nullable = true)\n |-- Ticket: string (nullable = true)\n |-- Fare: string (nullable = true)\n |-- Cabin: string (nullable = true)\n |-- Embarked: string (nullable = true)\n |-- Survived: integer (nullable = true)\n\n"
     ]
    }
   ],
   "source": [
    "df_train.printSchema()"
   ]
  },
  {
   "cell_type": "code",
   "execution_count": 0,
   "metadata": {
    "application/vnd.databricks.v1+cell": {
     "cellMetadata": {
      "byteLimit": 2048000,
      "rowLimit": 10000
     },
     "inputWidgets": {},
     "nuid": "6ac7c3a1-9072-4bb4-90b9-edff6b4dea33",
     "showTitle": false,
     "title": ""
    }
   },
   "outputs": [],
   "source": [
    "double_column_list = column_name_list[4:5] + column_name_list[8:9]"
   ]
  },
  {
   "cell_type": "code",
   "execution_count": 0,
   "metadata": {
    "application/vnd.databricks.v1+cell": {
     "cellMetadata": {
      "byteLimit": 2048000,
      "rowLimit": 10000
     },
     "inputWidgets": {},
     "nuid": "8e04dd31-61aa-406a-8d98-09865b75bb45",
     "showTitle": false,
     "title": ""
    }
   },
   "outputs": [
    {
     "output_type": "stream",
     "name": "stdout",
     "output_type": "stream",
     "text": [
      "Out[24]: ['Age', 'Fare']"
     ]
    }
   ],
   "source": [
    "double_column_list"
   ]
  },
  {
   "cell_type": "code",
   "execution_count": 0,
   "metadata": {
    "application/vnd.databricks.v1+cell": {
     "cellMetadata": {
      "byteLimit": 2048000,
      "rowLimit": 10000
     },
     "inputWidgets": {},
     "nuid": "9461edc3-7469-4f26-b912-d3b125bf9cd1",
     "showTitle": false,
     "title": ""
    }
   },
   "outputs": [
    {
     "output_type": "stream",
     "name": "stdout",
     "output_type": "stream",
     "text": [
      "column_name =  Age\n====================================================================================================\ncolumn_name =  Fare\n====================================================================================================\n"
     ]
    }
   ],
   "source": [
    "for column_name in double_column_list:\n",
    "\n",
    "    print('column_name = ', column_name)\n",
    "    df_train = df_train.withColumn(column_name, df_train[column_name].cast('double'))\n",
    "    print('='*100)"
   ]
  },
  {
   "cell_type": "code",
   "execution_count": 0,
   "metadata": {
    "application/vnd.databricks.v1+cell": {
     "cellMetadata": {
      "byteLimit": 2048000,
      "rowLimit": 10000
     },
     "inputWidgets": {},
     "nuid": "ed44ae47-5880-4cde-ab0f-0da3b7e944ea",
     "showTitle": false,
     "title": ""
    }
   },
   "outputs": [
    {
     "output_type": "stream",
     "name": "stdout",
     "output_type": "stream",
     "text": [
      "root\n |-- PassengerId: string (nullable = true)\n |-- Pclass: integer (nullable = true)\n |-- Name: string (nullable = true)\n |-- Sex: string (nullable = true)\n |-- Age: double (nullable = true)\n |-- SibSp: integer (nullable = true)\n |-- Parch: integer (nullable = true)\n |-- Ticket: string (nullable = true)\n |-- Fare: double (nullable = true)\n |-- Cabin: string (nullable = true)\n |-- Embarked: string (nullable = true)\n |-- Survived: integer (nullable = true)\n\n"
     ]
    }
   ],
   "source": [
    "df_train.printSchema()"
   ]
  },
  {
   "cell_type": "code",
   "execution_count": 0,
   "metadata": {
    "application/vnd.databricks.v1+cell": {
     "cellMetadata": {
      "byteLimit": 2048000,
      "rowLimit": 10000
     },
     "inputWidgets": {},
     "nuid": "7f1274d8-e920-4fb7-8f33-482915bd24bf",
     "showTitle": false,
     "title": ""
    }
   },
   "outputs": [
    {
     "output_type": "stream",
     "name": "stdout",
     "output_type": "stream",
     "text": [
      "+-----------+------+--------------------+------+----+-----+-----+----------------+-------+-----+--------+--------+\n|PassengerId|Pclass|                Name|   Sex| Age|SibSp|Parch|          Ticket|   Fare|Cabin|Embarked|Survived|\n+-----------+------+--------------------+------+----+-----+-----+----------------+-------+-----+--------+--------+\n|          1|     3|Braund, Mr. Owen ...|  male|22.0|    1|    0|       A/5 21171|   7.25| null|       S|       0|\n|          2|     1|Cumings, Mrs. Joh...|female|38.0|    1|    0|        PC 17599|71.2833|  C85|       C|       1|\n|          3|     3|Heikkinen, Miss. ...|female|26.0|    0|    0|STON/O2. 3101282|  7.925| null|       S|       1|\n|          4|     1|Futrelle, Mrs. Ja...|female|35.0|    1|    0|          113803|   53.1| C123|       S|       1|\n|          5|     3|Allen, Mr. Willia...|  male|35.0|    0|    0|          373450|   8.05| null|       S|       0|\n|          6|     3|    Moran, Mr. James|  male|null|    0|    0|          330877| 8.4583| null|       Q|       0|\n|          7|     1|McCarthy, Mr. Tim...|  male|54.0|    0|    0|           17463|51.8625|  E46|       S|       0|\n|          8|     3|Palsson, Master. ...|  male| 2.0|    3|    1|          349909| 21.075| null|       S|       0|\n|          9|     3|Johnson, Mrs. Osc...|female|27.0|    0|    2|          347742|11.1333| null|       S|       1|\n|         10|     2|Nasser, Mrs. Nich...|female|14.0|    1|    0|          237736|30.0708| null|       C|       1|\n|         11|     3|Sandstrom, Miss. ...|female| 4.0|    1|    1|         PP 9549|   16.7|   G6|       S|       1|\n|         12|     1|Bonnell, Miss. El...|female|58.0|    0|    0|          113783|  26.55| C103|       S|       1|\n|         13|     3|Saundercock, Mr. ...|  male|20.0|    0|    0|       A/5. 2151|   8.05| null|       S|       0|\n|         14|     3|Andersson, Mr. An...|  male|39.0|    1|    5|          347082| 31.275| null|       S|       0|\n|         15|     3|Vestrom, Miss. Hu...|female|14.0|    0|    0|          350406| 7.8542| null|       S|       0|\n|         16|     2|Hewlett, Mrs. (Ma...|female|55.0|    0|    0|          248706|   16.0| null|       S|       1|\n|         17|     3|Rice, Master. Eugene|  male| 2.0|    4|    1|          382652| 29.125| null|       Q|       0|\n|         18|     2|Williams, Mr. Cha...|  male|null|    0|    0|          244373|   13.0| null|       S|       1|\n|         19|     3|Vander Planke, Mr...|female|31.0|    1|    0|          345763|   18.0| null|       S|       0|\n|         20|     3|Masselmani, Mrs. ...|female|null|    0|    0|            2649|  7.225| null|       C|       1|\n+-----------+------+--------------------+------+----+-----+-----+----------------+-------+-----+--------+--------+\nonly showing top 20 rows\n\n"
     ]
    }
   ],
   "source": [
    "df_train.show()"
   ]
  },
  {
   "cell_type": "code",
   "execution_count": 0,
   "metadata": {
    "application/vnd.databricks.v1+cell": {
     "cellMetadata": {
      "byteLimit": 2048000,
      "rowLimit": 10000
     },
     "inputWidgets": {},
     "nuid": "0b69c65f-c335-4558-ba32-28c96a2737c9",
     "showTitle": false,
     "title": ""
    }
   },
   "outputs": [
    {
     "output_type": "display_data",
     "data": {
      "text/html": [
       "<style scoped>\n",
       "  .table-result-container {\n",
       "    max-height: 300px;\n",
       "    overflow: auto;\n",
       "  }\n",
       "  table, th, td {\n",
       "    border: 1px solid black;\n",
       "    border-collapse: collapse;\n",
       "  }\n",
       "  th, td {\n",
       "    padding: 5px;\n",
       "  }\n",
       "  th {\n",
       "    text-align: left;\n",
       "  }\n",
       "</style><div class='table-result-container'><table class='table-result'><thead style='background-color: white'><tr><th>summary</th><th>PassengerId</th><th>Pclass</th><th>Name</th><th>Sex</th><th>Age</th><th>SibSp</th><th>Parch</th><th>Ticket</th><th>Fare</th><th>Cabin</th><th>Embarked</th><th>Survived</th></tr></thead><tbody><tr><td>count</td><td>891</td><td>891</td><td>891</td><td>891</td><td>714</td><td>891</td><td>891</td><td>891</td><td>891</td><td>204</td><td>889</td><td>891</td></tr><tr><td>mean</td><td>446.0</td><td>2.308641975308642</td><td>null</td><td>null</td><td>29.69911764705882</td><td>0.5230078563411896</td><td>0.38159371492704824</td><td>260318.54916792738</td><td>32.2042079685746</td><td>null</td><td>null</td><td>0.3838383838383838</td></tr><tr><td>stddev</td><td>257.3538420152301</td><td>0.8360712409770491</td><td>null</td><td>null</td><td>14.526497332334035</td><td>1.1027434322934315</td><td>0.8060572211299488</td><td>471609.26868834975</td><td>49.69342859718089</td><td>null</td><td>null</td><td>0.48659245426485753</td></tr><tr><td>min</td><td>1</td><td>1</td><td>\"Andersson, Mr. August Edvard (\"\"Wennerstrom\"\")\"</td><td>female</td><td>0.42</td><td>0</td><td>0</td><td>110152</td><td>0.0</td><td>A10</td><td>C</td><td>0</td></tr><tr><td>25%</td><td>223.0</td><td>2</td><td>null</td><td>null</td><td>20.0</td><td>0</td><td>0</td><td>19996.0</td><td>7.8958</td><td>null</td><td>null</td><td>0</td></tr><tr><td>50%</td><td>446.0</td><td>3</td><td>null</td><td>null</td><td>28.0</td><td>0</td><td>0</td><td>236171.0</td><td>14.4542</td><td>null</td><td>null</td><td>0</td></tr><tr><td>75%</td><td>669.0</td><td>3</td><td>null</td><td>null</td><td>38.0</td><td>1</td><td>0</td><td>347743.0</td><td>31.0</td><td>null</td><td>null</td><td>1</td></tr><tr><td>max</td><td>99</td><td>3</td><td>van Melkebeke, Mr. Philemon</td><td>male</td><td>80.0</td><td>8</td><td>6</td><td>WE/P 5735</td><td>512.3292</td><td>T</td><td>S</td><td>1</td></tr></tbody></table></div>"
      ]
     },
     "metadata": {
      "application/vnd.databricks.v1+output": {
       "addedWidgets": {},
       "aggData": [],
       "aggError": "",
       "aggOverflow": false,
       "aggSchema": [],
       "aggSeriesLimitReached": false,
       "aggType": "",
       "arguments": {},
       "columnCustomDisplayInfos": {},
       "data": [
        [
         "count",
         "891",
         "891",
         "891",
         "891",
         "714",
         "891",
         "891",
         "891",
         "891",
         "204",
         "889",
         "891"
        ],
        [
         "mean",
         "446.0",
         "2.308641975308642",
         null,
         null,
         "29.69911764705882",
         "0.5230078563411896",
         "0.38159371492704824",
         "260318.54916792738",
         "32.2042079685746",
         null,
         null,
         "0.3838383838383838"
        ],
        [
         "stddev",
         "257.3538420152301",
         "0.8360712409770491",
         null,
         null,
         "14.526497332334035",
         "1.1027434322934315",
         "0.8060572211299488",
         "471609.26868834975",
         "49.69342859718089",
         null,
         null,
         "0.48659245426485753"
        ],
        [
         "min",
         "1",
         "1",
         "\"Andersson, Mr. August Edvard (\"\"Wennerstrom\"\")\"",
         "female",
         "0.42",
         "0",
         "0",
         "110152",
         "0.0",
         "A10",
         "C",
         "0"
        ],
        [
         "25%",
         "223.0",
         "2",
         null,
         null,
         "20.0",
         "0",
         "0",
         "19996.0",
         "7.8958",
         null,
         null,
         "0"
        ],
        [
         "50%",
         "446.0",
         "3",
         null,
         null,
         "28.0",
         "0",
         "0",
         "236171.0",
         "14.4542",
         null,
         null,
         "0"
        ],
        [
         "75%",
         "669.0",
         "3",
         null,
         null,
         "38.0",
         "1",
         "0",
         "347743.0",
         "31.0",
         null,
         null,
         "1"
        ],
        [
         "max",
         "99",
         "3",
         "van Melkebeke, Mr. Philemon",
         "male",
         "80.0",
         "8",
         "6",
         "WE/P 5735",
         "512.3292",
         "T",
         "S",
         "1"
        ]
       ],
       "datasetInfos": [],
       "dbfsResultPath": null,
       "isJsonSchema": true,
       "metadata": {},
       "overflow": false,
       "plotOptions": {
        "customPlotOptions": {},
        "displayType": "table",
        "pivotAggregation": null,
        "pivotColumns": null,
        "xColumns": null,
        "yColumns": null
       },
       "removedWidgets": [],
       "schema": [
        {
         "metadata": "{}",
         "name": "summary",
         "type": "\"string\""
        },
        {
         "metadata": "{}",
         "name": "PassengerId",
         "type": "\"string\""
        },
        {
         "metadata": "{}",
         "name": "Pclass",
         "type": "\"string\""
        },
        {
         "metadata": "{}",
         "name": "Name",
         "type": "\"string\""
        },
        {
         "metadata": "{}",
         "name": "Sex",
         "type": "\"string\""
        },
        {
         "metadata": "{}",
         "name": "Age",
         "type": "\"string\""
        },
        {
         "metadata": "{}",
         "name": "SibSp",
         "type": "\"string\""
        },
        {
         "metadata": "{}",
         "name": "Parch",
         "type": "\"string\""
        },
        {
         "metadata": "{}",
         "name": "Ticket",
         "type": "\"string\""
        },
        {
         "metadata": "{}",
         "name": "Fare",
         "type": "\"string\""
        },
        {
         "metadata": "{}",
         "name": "Cabin",
         "type": "\"string\""
        },
        {
         "metadata": "{}",
         "name": "Embarked",
         "type": "\"string\""
        },
        {
         "metadata": "{}",
         "name": "Survived",
         "type": "\"string\""
        }
       ],
       "type": "table"
      }
     },
     "output_type": "display_data"
    }
   ],
   "source": [
    "display(df_train.summary())"
   ]
  },
  {
   "cell_type": "code",
   "execution_count": 0,
   "metadata": {
    "application/vnd.databricks.v1+cell": {
     "cellMetadata": {
      "byteLimit": 2048000,
      "rowLimit": 10000
     },
     "inputWidgets": {},
     "nuid": "8581daf5-14d6-4f93-9185-108b7818f3af",
     "showTitle": false,
     "title": ""
    }
   },
   "outputs": [
    {
     "output_type": "stream",
     "name": "stdout",
     "output_type": "stream",
     "text": [
      "Out[29]: 891"
     ]
    }
   ],
   "source": [
    "df_train.count()"
   ]
  },
  {
   "cell_type": "code",
   "execution_count": 0,
   "metadata": {
    "application/vnd.databricks.v1+cell": {
     "cellMetadata": {
      "byteLimit": 2048000,
      "rowLimit": 10000
     },
     "inputWidgets": {},
     "nuid": "a84e4ed7-3a2d-4c43-94b0-09afb90c35e1",
     "showTitle": false,
     "title": ""
    }
   },
   "outputs": [
    {
     "output_type": "stream",
     "name": "stdout",
     "output_type": "stream",
     "text": [
      "Out[30]: ['PassengerId',\n 'Pclass',\n 'Name',\n 'Sex',\n 'Age',\n 'SibSp',\n 'Parch',\n 'Ticket',\n 'Fare',\n 'Cabin',\n 'Embarked',\n 'Survived']"
     ]
    }
   ],
   "source": [
    "df_train.columns"
   ]
  },
  {
   "cell_type": "code",
   "execution_count": 0,
   "metadata": {
    "application/vnd.databricks.v1+cell": {
     "cellMetadata": {
      "byteLimit": 2048000,
      "rowLimit": 10000
     },
     "inputWidgets": {},
     "nuid": "eaff7e80-ac1f-4419-8dd8-adc1b1bcf9cc",
     "showTitle": false,
     "title": ""
    }
   },
   "outputs": [
    {
     "output_type": "stream",
     "name": "stdout",
     "output_type": "stream",
     "text": [
      "column_name =  PassengerId\n- -- -- -- -- -- -- -- -- -- -- -- -- -- -- -- -- -- -- -- -\ncolumn_name =  Pclass\n- -- -- -- -- -- -- -- -- -- -- -- -- -- -- -- -- -- -- -- -\ncolumn_name =  Name\n- -- -- -- -- -- -- -- -- -- -- -- -- -- -- -- -- -- -- -- -\ncolumn_name =  Sex\n- -- -- -- -- -- -- -- -- -- -- -- -- -- -- -- -- -- -- -- -\ncolumn_name =  Age\n- -- -- -- -- -- -- -- -- -- -- -- -- -- -- -- -- -- -- -- -\ncolumn_name =  SibSp\n- -- -- -- -- -- -- -- -- -- -- -- -- -- -- -- -- -- -- -- -\ncolumn_name =  Parch\n- -- -- -- -- -- -- -- -- -- -- -- -- -- -- -- -- -- -- -- -\ncolumn_name =  Ticket\n- -- -- -- -- -- -- -- -- -- -- -- -- -- -- -- -- -- -- -- -\ncolumn_name =  Fare\n- -- -- -- -- -- -- -- -- -- -- -- -- -- -- -- -- -- -- -- -\ncolumn_name =  Cabin\n- -- -- -- -- -- -- -- -- -- -- -- -- -- -- -- -- -- -- -- -\ncolumn_name =  Embarked\n- -- -- -- -- -- -- -- -- -- -- -- -- -- -- -- -- -- -- -- -\ncolumn_name =  Survived\n- -- -- -- -- -- -- -- -- -- -- -- -- -- -- -- -- -- -- -- -\n"
     ]
    }
   ],
   "source": [
    "for column_name in df_train.columns:\n",
    "    print('column_name = ', column_name)\n",
    "    print('- -' *20)"
   ]
  },
  {
   "cell_type": "code",
   "execution_count": 0,
   "metadata": {
    "application/vnd.databricks.v1+cell": {
     "cellMetadata": {
      "byteLimit": 2048000,
      "rowLimit": 10000
     },
     "inputWidgets": {},
     "nuid": "d6973c24-8dcf-4a97-b417-6f00d892c056",
     "showTitle": false,
     "title": ""
    }
   },
   "outputs": [
    {
     "output_type": "stream",
     "name": "stdout",
     "output_type": "stream",
     "text": [
      "+------------------+-------------+-----------+----------+----------+------------+------------+-------------+-----------+------------+---------------+---------------+\n|count(PassengerId)|count(Pclass)|count(Name)|count(Sex)|count(Age)|count(SibSp)|count(Parch)|count(Ticket)|count(Fare)|count(Cabin)|count(Embarked)|count(Survived)|\n+------------------+-------------+-----------+----------+----------+------------+------------+-------------+-----------+------------+---------------+---------------+\n|               891|          891|        891|       891|       714|         891|         891|          891|        891|         204|            889|            891|\n+------------------+-------------+-----------+----------+----------+------------+------------+-------------+-----------+------------+---------------+---------------+\n\n"
     ]
    }
   ],
   "source": [
    "df_train.select([count(column_name) for column_name in df_train.columns]).show()"
   ]
  },
  {
   "cell_type": "code",
   "execution_count": 0,
   "metadata": {
    "application/vnd.databricks.v1+cell": {
     "cellMetadata": {
      "byteLimit": 2048000,
      "rowLimit": 10000
     },
     "inputWidgets": {},
     "nuid": "901f8bfa-27b7-467d-b775-1d9e96b22ae5",
     "showTitle": false,
     "title": ""
    }
   },
   "outputs": [
    {
     "output_type": "stream",
     "name": "stdout",
     "output_type": "stream",
     "text": [
      "+-----------+------+----+---+---+-----+-----+------+----+-----+--------+--------+\n|PassengerId|Pclass|Name|Sex|Age|SibSp|Parch|Ticket|Fare|Cabin|Embarked|Survived|\n+-----------+------+----+---+---+-----+-----+------+----+-----+--------+--------+\n|        891|   891| 891|891|714|  891|  891|   891| 891|  204|     889|     891|\n+-----------+------+----+---+---+-----+-----+------+----+-----+--------+--------+\n\n"
     ]
    }
   ],
   "source": [
    "df_train.select([count(column_name).alias(column_name) for column_name in df_train.columns]).show()"
   ]
  },
  {
   "cell_type": "code",
   "execution_count": 0,
   "metadata": {
    "application/vnd.databricks.v1+cell": {
     "cellMetadata": {
      "byteLimit": 2048000,
      "rowLimit": 10000
     },
     "inputWidgets": {},
     "nuid": "76249a21-8396-4e9c-9e8a-53a1ca7f54d5",
     "showTitle": false,
     "title": ""
    }
   },
   "outputs": [
    {
     "output_type": "stream",
     "name": "stdout",
     "output_type": "stream",
     "text": [
      "+-----------+------+----+---+---+-----+-----+------+----+-----+--------+--------+\n|PassengerId|Pclass|Name|Sex|Age|SibSp|Parch|Ticket|Fare|Cabin|Embarked|Survived|\n+-----------+------+----+---+---+-----+-----+------+----+-----+--------+--------+\n|          0|     0|   0|  0|177|    0|    0|     0|   0|  687|       2|       0|\n+-----------+------+----+---+---+-----+-----+------+----+-----+--------+--------+\n\n"
     ]
    }
   ],
   "source": [
    "df_train.select( \n",
    "                [\n",
    "                    count(when(isnan(column_name) | col(column_name).isNull(), column_name)).alias(column_name)\n",
    "                    for column_name in df_train.columns\n",
    "                ]\n",
    ").show()"
   ]
  },
  {
   "cell_type": "code",
   "execution_count": 0,
   "metadata": {
    "application/vnd.databricks.v1+cell": {
     "cellMetadata": {
      "byteLimit": 2048000,
      "rowLimit": 10000
     },
     "inputWidgets": {},
     "nuid": "c7ab0e7d-fbcc-45be-8288-550ad9b0a44f",
     "showTitle": false,
     "title": ""
    }
   },
   "outputs": [
    {
     "output_type": "stream",
     "name": "stdout",
     "output_type": "stream",
     "text": [
      "+-----------+------+----+---+-------------------+-----+-----+------+----+------------------+--------------------+--------+\n|PassengerId|Pclass|Name|Sex|                Age|SibSp|Parch|Ticket|Fare|             Cabin|            Embarked|Survived|\n+-----------+------+----+---+-------------------+-----+-----+------+----+------------------+--------------------+--------+\n|        0.0|   0.0| 0.0|0.0|0.19865319865319866|  0.0|  0.0|   0.0| 0.0|0.7710437710437711|0.002244668911335578|     0.0|\n+-----------+------+----+---+-------------------+-----+-----+------+----+------------------+--------------------+--------+\n\n"
     ]
    }
   ],
   "source": [
    "df_train.select( \n",
    "                [\n",
    "                    (count(when(isnan(column_name) | col(column_name).isNull(), column_name))/ df_train.count()).alias(column_name)\n",
    "                    for column_name in df_train.columns\n",
    "                ]\n",
    ").show()"
   ]
  },
  {
   "cell_type": "code",
   "execution_count": 0,
   "metadata": {
    "application/vnd.databricks.v1+cell": {
     "cellMetadata": {
      "byteLimit": 2048000,
      "rowLimit": 10000
     },
     "inputWidgets": {},
     "nuid": "5378dea1-94a3-444b-a813-bf9290af76d9",
     "showTitle": false,
     "title": ""
    }
   },
   "outputs": [
    {
     "output_type": "stream",
     "name": "stdout",
     "output_type": "stream",
     "text": [
      "Out[39]: <AxesSubplot:>"
     ]
    },
    {
     "output_type": "display_data",
     "data": {
      "image/png": "[encoded data removed]"
     },
     "metadata": {
      "application/vnd.databricks.v1+output": {
       "addedWidgets": {},
       "arguments": {},
       "data": "data:image/png;base64,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\n",
       "datasetInfos": [],
       "metadata": {},
       "removedWidgets": [],
       "type": "image"
      }
     },
     "output_type": "display_data"
    }
   ],
   "source": [
    "import missingno as msno\n",
    "msno.bar(df=df_train.toPandas())"
   ]
  },
  {
   "cell_type": "code",
   "execution_count": 0,
   "metadata": {
    "application/vnd.databricks.v1+cell": {
     "cellMetadata": {
      "byteLimit": 2048000,
      "rowLimit": 10000
     },
     "inputWidgets": {},
     "nuid": "7b8b3070-b12a-4209-8858-b34a17fae89f",
     "showTitle": false,
     "title": ""
    }
   },
   "outputs": [
    {
     "output_type": "stream",
     "name": "stdout",
     "output_type": "stream",
     "text": [
      "+--------+-----+\n|Survived|count|\n+--------+-----+\n|       1|  342|\n|       0|  549|\n+--------+-----+\n\n"
     ]
    }
   ],
   "source": [
    "df_train.groupBy('Survived').count().show()"
   ]
  },
  {
   "cell_type": "code",
   "execution_count": 0,
   "metadata": {
    "application/vnd.databricks.v1+cell": {
     "cellMetadata": {
      "byteLimit": 2048000,
      "rowLimit": 10000
     },
     "inputWidgets": {},
     "nuid": "7711e33e-22eb-421b-b3fc-3e4e040ec672",
     "showTitle": false,
     "title": ""
    }
   },
   "outputs": [
    {
     "output_type": "stream",
     "name": "stdout",
     "output_type": "stream",
     "text": [
      "+------+-----+\n|Pclass|count|\n+------+-----+\n|     1|  216|\n|     3|  491|\n|     2|  184|\n+------+-----+\n\n"
     ]
    }
   ],
   "source": [
    "df_train.groupBy('Pclass').count().show()"
   ]
  },
  {
   "cell_type": "code",
   "execution_count": 0,
   "metadata": {
    "application/vnd.databricks.v1+cell": {
     "cellMetadata": {
      "byteLimit": 2048000,
      "rowLimit": 10000
     },
     "inputWidgets": {},
     "nuid": "f1144c56-f97d-4ca4-8141-f93a8fc562a0",
     "showTitle": false,
     "title": ""
    }
   },
   "outputs": [],
   "source": [
    "df_train.createOrReplaceTempView('titanic_view')"
   ]
  },
  {
   "cell_type": "code",
   "execution_count": 0,
   "metadata": {
    "application/vnd.databricks.v1+cell": {
     "cellMetadata": {
      "byteLimit": 2048000,
      "implicitDf": true,
      "rowLimit": 10000
     },
     "inputWidgets": {},
     "nuid": "29c65a95-14c3-4fa9-a589-564b9b2abc86",
     "showTitle": false,
     "title": ""
    }
   },
   "outputs": [
    {
     "output_type": "display_data",
     "data": {
      "text/html": [
       "<style scoped>\n",
       "  .table-result-container {\n",
       "    max-height: 300px;\n",
       "    overflow: auto;\n",
       "  }\n",
       "  table, th, td {\n",
       "    border: 1px solid black;\n",
       "    border-collapse: collapse;\n",
       "  }\n",
       "  th, td {\n",
       "    padding: 5px;\n",
       "  }\n",
       "  th {\n",
       "    text-align: left;\n",
       "  }\n",
       "</style><div class='table-result-container'><table class='table-result'><thead style='background-color: white'><tr><th>PassengerId</th><th>Pclass</th><th>Name</th><th>Sex</th><th>Age</th><th>SibSp</th><th>Parch</th><th>Ticket</th><th>Fare</th><th>Cabin</th><th>Embarked</th><th>Survived</th></tr></thead><tbody><tr><td>2</td><td>1</td><td>Cumings, Mrs. John Bradley (Florence Briggs Thayer)</td><td>female</td><td>38.0</td><td>1</td><td>0</td><td>PC 17599</td><td>71.2833</td><td>C85</td><td>C</td><td>1</td></tr><tr><td>3</td><td>3</td><td>Heikkinen, Miss. Laina</td><td>female</td><td>26.0</td><td>0</td><td>0</td><td>STON/O2. 3101282</td><td>7.925</td><td>null</td><td>S</td><td>1</td></tr><tr><td>4</td><td>1</td><td>Futrelle, Mrs. Jacques Heath (Lily May Peel)</td><td>female</td><td>35.0</td><td>1</td><td>0</td><td>113803</td><td>53.1</td><td>C123</td><td>S</td><td>1</td></tr><tr><td>9</td><td>3</td><td>Johnson, Mrs. Oscar W (Elisabeth Vilhelmina Berg)</td><td>female</td><td>27.0</td><td>0</td><td>2</td><td>347742</td><td>11.1333</td><td>null</td><td>S</td><td>1</td></tr><tr><td>10</td><td>2</td><td>Nasser, Mrs. Nicholas (Adele Achem)</td><td>female</td><td>14.0</td><td>1</td><td>0</td><td>237736</td><td>30.0708</td><td>null</td><td>C</td><td>1</td></tr><tr><td>11</td><td>3</td><td>Sandstrom, Miss. Marguerite Rut</td><td>female</td><td>4.0</td><td>1</td><td>1</td><td>PP 9549</td><td>16.7</td><td>G6</td><td>S</td><td>1</td></tr><tr><td>12</td><td>1</td><td>Bonnell, Miss. Elizabeth</td><td>female</td><td>58.0</td><td>0</td><td>0</td><td>113783</td><td>26.55</td><td>C103</td><td>S</td><td>1</td></tr><tr><td>16</td><td>2</td><td>Hewlett, Mrs. (Mary D Kingcome) </td><td>female</td><td>55.0</td><td>0</td><td>0</td><td>248706</td><td>16.0</td><td>null</td><td>S</td><td>1</td></tr><tr><td>18</td><td>2</td><td>Williams, Mr. Charles Eugene</td><td>male</td><td>null</td><td>0</td><td>0</td><td>244373</td><td>13.0</td><td>null</td><td>S</td><td>1</td></tr><tr><td>20</td><td>3</td><td>Masselmani, Mrs. Fatima</td><td>female</td><td>null</td><td>0</td><td>0</td><td>2649</td><td>7.225</td><td>null</td><td>C</td><td>1</td></tr><tr><td>22</td><td>2</td><td>Beesley, Mr. Lawrence</td><td>male</td><td>34.0</td><td>0</td><td>0</td><td>248698</td><td>13.0</td><td>D56</td><td>S</td><td>1</td></tr><tr><td>23</td><td>3</td><td>\"McGowan, Miss. Anna \"\"Annie\"\"\"</td><td>female</td><td>15.0</td><td>0</td><td>0</td><td>330923</td><td>8.0292</td><td>null</td><td>Q</td><td>1</td></tr><tr><td>24</td><td>1</td><td>Sloper, Mr. William Thompson</td><td>male</td><td>28.0</td><td>0</td><td>0</td><td>113788</td><td>35.5</td><td>A6</td><td>S</td><td>1</td></tr><tr><td>26</td><td>3</td><td>Asplund, Mrs. Carl Oscar (Selma Augusta Emilia Johansson)</td><td>female</td><td>38.0</td><td>1</td><td>5</td><td>347077</td><td>31.3875</td><td>null</td><td>S</td><td>1</td></tr><tr><td>29</td><td>3</td><td>\"O'Dwyer, Miss. Ellen \"\"Nellie\"\"\"</td><td>female</td><td>null</td><td>0</td><td>0</td><td>330959</td><td>7.8792</td><td>null</td><td>Q</td><td>1</td></tr><tr><td>32</td><td>1</td><td>Spencer, Mrs. William Augustus (Marie Eugenie)</td><td>female</td><td>null</td><td>1</td><td>0</td><td>PC 17569</td><td>146.5208</td><td>B78</td><td>C</td><td>1</td></tr><tr><td>33</td><td>3</td><td>Glynn, Miss. Mary Agatha</td><td>female</td><td>null</td><td>0</td><td>0</td><td>335677</td><td>7.75</td><td>null</td><td>Q</td><td>1</td></tr><tr><td>37</td><td>3</td><td>Mamee, Mr. Hanna</td><td>male</td><td>null</td><td>0</td><td>0</td><td>2677</td><td>7.2292</td><td>null</td><td>C</td><td>1</td></tr><tr><td>40</td><td>3</td><td>Nicola-Yarred, Miss. Jamila</td><td>female</td><td>14.0</td><td>1</td><td>0</td><td>2651</td><td>11.2417</td><td>null</td><td>C</td><td>1</td></tr><tr><td>44</td><td>2</td><td>Laroche, Miss. Simonne Marie Anne Andree</td><td>female</td><td>3.0</td><td>1</td><td>2</td><td>SC/Paris 2123</td><td>41.5792</td><td>null</td><td>C</td><td>1</td></tr><tr><td>45</td><td>3</td><td>Devaney, Miss. Margaret Delia</td><td>female</td><td>19.0</td><td>0</td><td>0</td><td>330958</td><td>7.8792</td><td>null</td><td>Q</td><td>1</td></tr><tr><td>48</td><td>3</td><td>O'Driscoll, Miss. Bridget</td><td>female</td><td>null</td><td>0</td><td>0</td><td>14311</td><td>7.75</td><td>null</td><td>Q</td><td>1</td></tr><tr><td>53</td><td>1</td><td>Harper, Mrs. Henry Sleeper (Myna Haxtun)</td><td>female</td><td>49.0</td><td>1</td><td>0</td><td>PC 17572</td><td>76.7292</td><td>D33</td><td>C</td><td>1</td></tr><tr><td>54</td><td>2</td><td>Faunthorpe, Mrs. Lizzie (Elizabeth Anne Wilkinson)</td><td>female</td><td>29.0</td><td>1</td><td>0</td><td>2926</td><td>26.0</td><td>null</td><td>S</td><td>1</td></tr><tr><td>56</td><td>1</td><td>Woolner, Mr. Hugh</td><td>male</td><td>null</td><td>0</td><td>0</td><td>19947</td><td>35.5</td><td>C52</td><td>S</td><td>1</td></tr><tr><td>57</td><td>2</td><td>Rugg, Miss. Emily</td><td>female</td><td>21.0</td><td>0</td><td>0</td><td>C.A. 31026</td><td>10.5</td><td>null</td><td>S</td><td>1</td></tr><tr><td>59</td><td>2</td><td>West, Miss. Constance Mirium</td><td>female</td><td>5.0</td><td>1</td><td>2</td><td>C.A. 34651</td><td>27.75</td><td>null</td><td>S</td><td>1</td></tr><tr><td>62</td><td>1</td><td>Icard, Miss. Amelie</td><td>female</td><td>38.0</td><td>0</td><td>0</td><td>113572</td><td>80.0</td><td>B28</td><td>null</td><td>1</td></tr><tr><td>66</td><td>3</td><td>Moubarek, Master. Gerios</td><td>male</td><td>null</td><td>1</td><td>1</td><td>2661</td><td>15.2458</td><td>null</td><td>C</td><td>1</td></tr><tr><td>67</td><td>2</td><td>Nye, Mrs. (Elizabeth Ramell)</td><td>female</td><td>29.0</td><td>0</td><td>0</td><td>C.A. 29395</td><td>10.5</td><td>F33</td><td>S</td><td>1</td></tr><tr><td>69</td><td>3</td><td>Andersson, Miss. Erna Alexandra</td><td>female</td><td>17.0</td><td>4</td><td>2</td><td>3101281</td><td>7.925</td><td>null</td><td>S</td><td>1</td></tr><tr><td>75</td><td>3</td><td>Bing, Mr. Lee</td><td>male</td><td>32.0</td><td>0</td><td>0</td><td>1601</td><td>56.4958</td><td>null</td><td>S</td><td>1</td></tr><tr><td>79</td><td>2</td><td>Caldwell, Master. Alden Gates</td><td>male</td><td>0.83</td><td>0</td><td>2</td><td>248738</td><td>29.0</td><td>null</td><td>S</td><td>1</td></tr><tr><td>80</td><td>3</td><td>Dowdell, Miss. Elizabeth</td><td>female</td><td>30.0</td><td>0</td><td>0</td><td>364516</td><td>12.475</td><td>null</td><td>S</td><td>1</td></tr><tr><td>82</td><td>3</td><td>Sheerlinck, Mr. Jan Baptist</td><td>male</td><td>29.0</td><td>0</td><td>0</td><td>345779</td><td>9.5</td><td>null</td><td>S</td><td>1</td></tr><tr><td>83</td><td>3</td><td>McDermott, Miss. Brigdet Delia</td><td>female</td><td>null</td><td>0</td><td>0</td><td>330932</td><td>7.7875</td><td>null</td><td>Q</td><td>1</td></tr><tr><td>85</td><td>2</td><td>Ilett, Miss. Bertha</td><td>female</td><td>17.0</td><td>0</td><td>0</td><td>SO/C 14885</td><td>10.5</td><td>null</td><td>S</td><td>1</td></tr><tr><td>86</td><td>3</td><td>Backstrom, Mrs. Karl Alfred (Maria Mathilda Gustafsson)</td><td>female</td><td>33.0</td><td>3</td><td>0</td><td>3101278</td><td>15.85</td><td>null</td><td>S</td><td>1</td></tr><tr><td>89</td><td>1</td><td>Fortune, Miss. Mabel Helen</td><td>female</td><td>23.0</td><td>3</td><td>2</td><td>19950</td><td>263.0</td><td>C23 C25 C27</td><td>S</td><td>1</td></tr><tr><td>98</td><td>1</td><td>Greenfield, Mr. William Bertram</td><td>male</td><td>23.0</td><td>0</td><td>1</td><td>PC 17759</td><td>63.3583</td><td>D10 D12</td><td>C</td><td>1</td></tr><tr><td>99</td><td>2</td><td>Doling, Mrs. John T (Ada Julia Bone)</td><td>female</td><td>34.0</td><td>0</td><td>1</td><td>231919</td><td>23.0</td><td>null</td><td>S</td><td>1</td></tr><tr><td>107</td><td>3</td><td>Salkjelsvik, Miss. Anna Kristine</td><td>female</td><td>21.0</td><td>0</td><td>0</td><td>343120</td><td>7.65</td><td>null</td><td>S</td><td>1</td></tr><tr><td>108</td><td>3</td><td>Moss, Mr. Albert Johan</td><td>male</td><td>null</td><td>0</td><td>0</td><td>312991</td><td>7.775</td><td>null</td><td>S</td><td>1</td></tr><tr><td>110</td><td>3</td><td>Moran, Miss. Bertha</td><td>female</td><td>null</td><td>1</td><td>0</td><td>371110</td><td>24.15</td><td>null</td><td>Q</td><td>1</td></tr><tr><td>124</td><td>2</td><td>Webber, Miss. Susan</td><td>female</td><td>32.5</td><td>0</td><td>0</td><td>27267</td><td>13.0</td><td>E101</td><td>S</td><td>1</td></tr><tr><td>126</td><td>3</td><td>Nicola-Yarred, Master. Elias</td><td>male</td><td>12.0</td><td>1</td><td>0</td><td>2651</td><td>11.2417</td><td>null</td><td>C</td><td>1</td></tr><tr><td>128</td><td>3</td><td>Madsen, Mr. Fridtjof Arne</td><td>male</td><td>24.0</td><td>0</td><td>0</td><td>C 17369</td><td>7.1417</td><td>null</td><td>S</td><td>1</td></tr><tr><td>129</td><td>3</td><td>Peter, Miss. Anna</td><td>female</td><td>null</td><td>1</td><td>1</td><td>2668</td><td>22.3583</td><td>F E69</td><td>C</td><td>1</td></tr><tr><td>134</td><td>2</td><td>Weisz, Mrs. Leopold (Mathilde Francoise Pede)</td><td>female</td><td>29.0</td><td>1</td><td>0</td><td>228414</td><td>26.0</td><td>null</td><td>S</td><td>1</td></tr><tr><td>137</td><td>1</td><td>Newsom, Miss. Helen Monypeny</td><td>female</td><td>19.0</td><td>0</td><td>2</td><td>11752</td><td>26.2833</td><td>D47</td><td>S</td><td>1</td></tr><tr><td>142</td><td>3</td><td>Nysten, Miss. Anna Sofia</td><td>female</td><td>22.0</td><td>0</td><td>0</td><td>347081</td><td>7.75</td><td>null</td><td>S</td><td>1</td></tr><tr><td>143</td><td>3</td><td>Hakkarainen, Mrs. Pekka Pietari (Elin Matilda Dolck)</td><td>female</td><td>24.0</td><td>1</td><td>0</td><td>STON/O2. 3101279</td><td>15.85</td><td>null</td><td>S</td><td>1</td></tr><tr><td>147</td><td>3</td><td>\"Andersson, Mr. August Edvard (\"\"Wennerstrom\"\")\"</td><td>male</td><td>27.0</td><td>0</td><td>0</td><td>350043</td><td>7.7958</td><td>null</td><td>S</td><td>1</td></tr><tr><td>152</td><td>1</td><td>Pears, Mrs. Thomas (Edith Wearne)</td><td>female</td><td>22.0</td><td>1</td><td>0</td><td>113776</td><td>66.6</td><td>C2</td><td>S</td><td>1</td></tr><tr><td>157</td><td>3</td><td>\"Gilnagh, Miss. Katherine \"\"Katie\"\"\"</td><td>female</td><td>16.0</td><td>0</td><td>0</td><td>35851</td><td>7.7333</td><td>null</td><td>Q</td><td>1</td></tr><tr><td>162</td><td>2</td><td>\"Watt, Mrs. James (Elizabeth \"\"Bessie\"\" Inglis Milne)\"</td><td>female</td><td>40.0</td><td>0</td><td>0</td><td>C.A. 33595</td><td>15.75</td><td>null</td><td>S</td><td>1</td></tr><tr><td>166</td><td>3</td><td>\"Goldsmith, Master. Frank John William \"\"Frankie\"\"\"</td><td>male</td><td>9.0</td><td>0</td><td>2</td><td>363291</td><td>20.525</td><td>null</td><td>S</td><td>1</td></tr><tr><td>167</td><td>1</td><td>Chibnall, Mrs. (Edith Martha Bowerman)</td><td>female</td><td>null</td><td>0</td><td>1</td><td>113505</td><td>55.0</td><td>E33</td><td>S</td><td>1</td></tr><tr><td>173</td><td>3</td><td>Johnson, Miss. Eleanor Ileen</td><td>female</td><td>1.0</td><td>1</td><td>1</td><td>347742</td><td>11.1333</td><td>null</td><td>S</td><td>1</td></tr><tr><td>184</td><td>2</td><td>Becker, Master. Richard F</td><td>male</td><td>1.0</td><td>2</td><td>1</td><td>230136</td><td>39.0</td><td>F4</td><td>S</td><td>1</td></tr><tr><td>185</td><td>3</td><td>Kink-Heilmann, Miss. Luise Gretchen</td><td>female</td><td>4.0</td><td>0</td><td>2</td><td>315153</td><td>22.025</td><td>null</td><td>S</td><td>1</td></tr><tr><td>187</td><td>3</td><td>\"O'Brien, Mrs. Thomas (Johanna \"\"Hannah\"\" Godfrey)\"</td><td>female</td><td>null</td><td>1</td><td>0</td><td>370365</td><td>15.5</td><td>null</td><td>Q</td><td>1</td></tr><tr><td>188</td><td>1</td><td>\"Romaine, Mr. Charles Hallace (\"\"Mr C Rolmane\"\")\"</td><td>male</td><td>45.0</td><td>0</td><td>0</td><td>111428</td><td>26.55</td><td>null</td><td>S</td><td>1</td></tr><tr><td>191</td><td>2</td><td>Pinsky, Mrs. (Rosa)</td><td>female</td><td>32.0</td><td>0</td><td>0</td><td>234604</td><td>13.0</td><td>null</td><td>S</td><td>1</td></tr><tr><td>193</td><td>3</td><td>Andersen-Jensen, Miss. Carla Christine Nielsine</td><td>female</td><td>19.0</td><td>1</td><td>0</td><td>350046</td><td>7.8542</td><td>null</td><td>S</td><td>1</td></tr><tr><td>194</td><td>2</td><td>Navratil, Master. Michel M</td><td>male</td><td>3.0</td><td>1</td><td>1</td><td>230080</td><td>26.0</td><td>F2</td><td>S</td><td>1</td></tr><tr><td>195</td><td>1</td><td>Brown, Mrs. James Joseph (Margaret Tobin)</td><td>female</td><td>44.0</td><td>0</td><td>0</td><td>PC 17610</td><td>27.7208</td><td>B4</td><td>C</td><td>1</td></tr><tr><td>196</td><td>1</td><td>Lurette, Miss. Elise</td><td>female</td><td>58.0</td><td>0</td><td>0</td><td>PC 17569</td><td>146.5208</td><td>B80</td><td>C</td><td>1</td></tr><tr><td>199</td><td>3</td><td>\"Madigan, Miss. Margaret \"\"Maggie\"\"\"</td><td>female</td><td>null</td><td>0</td><td>0</td><td>370370</td><td>7.75</td><td>null</td><td>Q</td><td>1</td></tr><tr><td>205</td><td>3</td><td>\"Cohen, Mr. Gurshon \"\"Gus\"\"\"</td><td>male</td><td>18.0</td><td>0</td><td>0</td><td>A/5 3540</td><td>8.05</td><td>null</td><td>S</td><td>1</td></tr><tr><td>208</td><td>3</td><td>Albimona, Mr. Nassef Cassem</td><td>male</td><td>26.0</td><td>0</td><td>0</td><td>2699</td><td>18.7875</td><td>null</td><td>C</td><td>1</td></tr><tr><td>209</td><td>3</td><td>\"Carr, Miss. Helen \"\"Ellen\"\"\"</td><td>female</td><td>16.0</td><td>0</td><td>0</td><td>367231</td><td>7.75</td><td>null</td><td>Q</td><td>1</td></tr><tr><td>210</td><td>1</td><td>Blank, Mr. Henry</td><td>male</td><td>40.0</td><td>0</td><td>0</td><td>112277</td><td>31.0</td><td>A31</td><td>C</td><td>1</td></tr><tr><td>212</td><td>2</td><td>Cameron, Miss. Clear Annie</td><td>female</td><td>35.0</td><td>0</td><td>0</td><td>F.C.C. 13528</td><td>21.0</td><td>null</td><td>S</td><td>1</td></tr><tr><td>216</td><td>1</td><td>Newell, Miss. Madeleine</td><td>female</td><td>31.0</td><td>1</td><td>0</td><td>35273</td><td>113.275</td><td>D36</td><td>C</td><td>1</td></tr><tr><td>217</td><td>3</td><td>Honkanen, Miss. Eliina</td><td>female</td><td>27.0</td><td>0</td><td>0</td><td>STON/O2. 3101283</td><td>7.925</td><td>null</td><td>S</td><td>1</td></tr><tr><td>219</td><td>1</td><td>Bazzani, Miss. Albina</td><td>female</td><td>32.0</td><td>0</td><td>0</td><td>11813</td><td>76.2917</td><td>D15</td><td>C</td><td>1</td></tr><tr><td>221</td><td>3</td><td>Sunderland, Mr. Victor Francis</td><td>male</td><td>16.0</td><td>0</td><td>0</td><td>SOTON/OQ 392089</td><td>8.05</td><td>null</td><td>S</td><td>1</td></tr><tr><td>225</td><td>1</td><td>Hoyt, Mr. Frederick Maxfield</td><td>male</td><td>38.0</td><td>1</td><td>0</td><td>19943</td><td>90.0</td><td>C93</td><td>S</td><td>1</td></tr><tr><td>227</td><td>2</td><td>Mellors, Mr. William John</td><td>male</td><td>19.0</td><td>0</td><td>0</td><td>SW/PP 751</td><td>10.5</td><td>null</td><td>S</td><td>1</td></tr><tr><td>231</td><td>1</td><td>Harris, Mrs. Henry Birkhardt (Irene Wallach)</td><td>female</td><td>35.0</td><td>1</td><td>0</td><td>36973</td><td>83.475</td><td>C83</td><td>S</td><td>1</td></tr><tr><td>234</td><td>3</td><td>Asplund, Miss. Lillian Gertrud</td><td>female</td><td>5.0</td><td>4</td><td>2</td><td>347077</td><td>31.3875</td><td>null</td><td>S</td><td>1</td></tr><tr><td>238</td><td>2</td><td>\"Collyer, Miss. Marjorie \"\"Lottie\"\"\"</td><td>female</td><td>8.0</td><td>0</td><td>2</td><td>C.A. 31921</td><td>26.25</td><td>null</td><td>S</td><td>1</td></tr><tr><td>242</td><td>3</td><td>\"Murphy, Miss. Katherine \"\"Kate\"\"\"</td><td>female</td><td>null</td><td>1</td><td>0</td><td>367230</td><td>15.5</td><td>null</td><td>Q</td><td>1</td></tr><tr><td>248</td><td>2</td><td>Hamalainen, Mrs. William (Anna)</td><td>female</td><td>24.0</td><td>0</td><td>2</td><td>250649</td><td>14.5</td><td>null</td><td>S</td><td>1</td></tr><tr><td>249</td><td>1</td><td>Beckwith, Mr. Richard Leonard</td><td>male</td><td>37.0</td><td>1</td><td>1</td><td>11751</td><td>52.5542</td><td>D35</td><td>S</td><td>1</td></tr><tr><td>256</td><td>3</td><td>Touma, Mrs. Darwis (Hanne Youssef Razi)</td><td>female</td><td>29.0</td><td>0</td><td>2</td><td>2650</td><td>15.2458</td><td>null</td><td>C</td><td>1</td></tr><tr><td>257</td><td>1</td><td>Thorne, Mrs. Gertrude Maybelle</td><td>female</td><td>null</td><td>0</td><td>0</td><td>PC 17585</td><td>79.2</td><td>null</td><td>C</td><td>1</td></tr><tr><td>258</td><td>1</td><td>Cherry, Miss. Gladys</td><td>female</td><td>30.0</td><td>0</td><td>0</td><td>110152</td><td>86.5</td><td>B77</td><td>S</td><td>1</td></tr><tr><td>259</td><td>1</td><td>Ward, Miss. Anna</td><td>female</td><td>35.0</td><td>0</td><td>0</td><td>PC 17755</td><td>512.3292</td><td>null</td><td>C</td><td>1</td></tr><tr><td>260</td><td>2</td><td>Parrish, Mrs. (Lutie Davis)</td><td>female</td><td>50.0</td><td>0</td><td>1</td><td>230433</td><td>26.0</td><td>null</td><td>S</td><td>1</td></tr><tr><td>262</td><td>3</td><td>Asplund, Master. Edvin Rojj Felix</td><td>male</td><td>3.0</td><td>4</td><td>2</td><td>347077</td><td>31.3875</td><td>null</td><td>S</td><td>1</td></tr><tr><td>268</td><td>3</td><td>Persson, Mr. Ernst Ulrik</td><td>male</td><td>25.0</td><td>1</td><td>0</td><td>347083</td><td>7.775</td><td>null</td><td>S</td><td>1</td></tr><tr><td>269</td><td>1</td><td>Graham, Mrs. William Thompson (Edith Junkins)</td><td>female</td><td>58.0</td><td>0</td><td>1</td><td>PC 17582</td><td>153.4625</td><td>C125</td><td>S</td><td>1</td></tr><tr><td>270</td><td>1</td><td>Bissette, Miss. Amelia</td><td>female</td><td>35.0</td><td>0</td><td>0</td><td>PC 17760</td><td>135.6333</td><td>C99</td><td>S</td><td>1</td></tr><tr><td>272</td><td>3</td><td>Tornquist, Mr. William Henry</td><td>male</td><td>25.0</td><td>0</td><td>0</td><td>LINE</td><td>0.0</td><td>null</td><td>S</td><td>1</td></tr><tr><td>273</td><td>2</td><td>Mellinger, Mrs. (Elizabeth Anne Maidment)</td><td>female</td><td>41.0</td><td>0</td><td>1</td><td>250644</td><td>19.5</td><td>null</td><td>S</td><td>1</td></tr><tr><td>275</td><td>3</td><td>\"Healy, Miss. Hanora \"\"Nora\"\"\"</td><td>female</td><td>null</td><td>0</td><td>0</td><td>370375</td><td>7.75</td><td>null</td><td>Q</td><td>1</td></tr><tr><td>276</td><td>1</td><td>Andrews, Miss. Kornelia Theodosia</td><td>female</td><td>63.0</td><td>1</td><td>0</td><td>13502</td><td>77.9583</td><td>D7</td><td>S</td><td>1</td></tr><tr><td>280</td><td>3</td><td>Abbott, Mrs. Stanton (Rosa Hunt)</td><td>female</td><td>35.0</td><td>1</td><td>1</td><td>C.A. 2673</td><td>20.25</td><td>null</td><td>S</td><td>1</td></tr><tr><td>284</td><td>3</td><td>Dorking, Mr. Edward Arthur</td><td>male</td><td>19.0</td><td>0</td><td>0</td><td>A/5. 10482</td><td>8.05</td><td>null</td><td>S</td><td>1</td></tr><tr><td>287</td><td>3</td><td>de Mulder, Mr. Theodore</td><td>male</td><td>30.0</td><td>0</td><td>0</td><td>345774</td><td>9.5</td><td>null</td><td>S</td><td>1</td></tr><tr><td>289</td><td>2</td><td>Hosono, Mr. Masabumi</td><td>male</td><td>42.0</td><td>0</td><td>0</td><td>237798</td><td>13.0</td><td>null</td><td>S</td><td>1</td></tr><tr><td>290</td><td>3</td><td>Connolly, Miss. Kate</td><td>female</td><td>22.0</td><td>0</td><td>0</td><td>370373</td><td>7.75</td><td>null</td><td>Q</td><td>1</td></tr><tr><td>291</td><td>1</td><td>\"Barber, Miss. Ellen \"\"Nellie\"\"\"</td><td>female</td><td>26.0</td><td>0</td><td>0</td><td>19877</td><td>78.85</td><td>null</td><td>S</td><td>1</td></tr><tr><td>292</td><td>1</td><td>Bishop, Mrs. Dickinson H (Helen Walton)</td><td>female</td><td>19.0</td><td>1</td><td>0</td><td>11967</td><td>91.0792</td><td>B49</td><td>C</td><td>1</td></tr><tr><td>299</td><td>1</td><td>Saalfeld, Mr. Adolphe</td><td>male</td><td>null</td><td>0</td><td>0</td><td>19988</td><td>30.5</td><td>C106</td><td>S</td><td>1</td></tr><tr><td>300</td><td>1</td><td>Baxter, Mrs. James (Helene DeLaudeniere Chaput)</td><td>female</td><td>50.0</td><td>0</td><td>1</td><td>PC 17558</td><td>247.5208</td><td>B58 B60</td><td>C</td><td>1</td></tr><tr><td>301</td><td>3</td><td>\"Kelly, Miss. Anna Katherine \"\"Annie Kate\"\"\"</td><td>female</td><td>null</td><td>0</td><td>0</td><td>9234</td><td>7.75</td><td>null</td><td>Q</td><td>1</td></tr><tr><td>302</td><td>3</td><td>McCoy, Mr. Bernard</td><td>male</td><td>null</td><td>2</td><td>0</td><td>367226</td><td>23.25</td><td>null</td><td>Q</td><td>1</td></tr><tr><td>304</td><td>2</td><td>Keane, Miss. Nora A</td><td>female</td><td>null</td><td>0</td><td>0</td><td>226593</td><td>12.35</td><td>E101</td><td>Q</td><td>1</td></tr><tr><td>306</td><td>1</td><td>Allison, Master. Hudson Trevor</td><td>male</td><td>0.92</td><td>1</td><td>2</td><td>113781</td><td>151.55</td><td>C22 C26</td><td>S</td><td>1</td></tr><tr><td>307</td><td>1</td><td>Fleming, Miss. Margaret</td><td>female</td><td>null</td><td>0</td><td>0</td><td>17421</td><td>110.8833</td><td>null</td><td>C</td><td>1</td></tr><tr><td>308</td><td>1</td><td>Penasco y Castellana, Mrs. Victor de Satode (Maria Josefa Perez de Soto y Vallejo)</td><td>female</td><td>17.0</td><td>1</td><td>0</td><td>PC 17758</td><td>108.9</td><td>C65</td><td>C</td><td>1</td></tr><tr><td>310</td><td>1</td><td>Francatelli, Miss. Laura Mabel</td><td>female</td><td>30.0</td><td>0</td><td>0</td><td>PC 17485</td><td>56.9292</td><td>E36</td><td>C</td><td>1</td></tr><tr><td>311</td><td>1</td><td>Hays, Miss. Margaret Bechstein</td><td>female</td><td>24.0</td><td>0</td><td>0</td><td>11767</td><td>83.1583</td><td>C54</td><td>C</td><td>1</td></tr><tr><td>312</td><td>1</td><td>Ryerson, Miss. Emily Borie</td><td>female</td><td>18.0</td><td>2</td><td>2</td><td>PC 17608</td><td>262.375</td><td>B57 B59 B63 B66</td><td>C</td><td>1</td></tr><tr><td>316</td><td>3</td><td>Nilsson, Miss. Helmina Josefina</td><td>female</td><td>26.0</td><td>0</td><td>0</td><td>347470</td><td>7.8542</td><td>null</td><td>S</td><td>1</td></tr><tr><td>317</td><td>2</td><td>Kantor, Mrs. Sinai (Miriam Sternin)</td><td>female</td><td>24.0</td><td>1</td><td>0</td><td>244367</td><td>26.0</td><td>null</td><td>S</td><td>1</td></tr><tr><td>319</td><td>1</td><td>Wick, Miss. Mary Natalie</td><td>female</td><td>31.0</td><td>0</td><td>2</td><td>36928</td><td>164.8667</td><td>C7</td><td>S</td><td>1</td></tr><tr><td>320</td><td>1</td><td>Spedden, Mrs. Frederic Oakley (Margaretta Corning Stone)</td><td>female</td><td>40.0</td><td>1</td><td>1</td><td>16966</td><td>134.5</td><td>E34</td><td>C</td><td>1</td></tr><tr><td>323</td><td>2</td><td>Slayter, Miss. Hilda Mary</td><td>female</td><td>30.0</td><td>0</td><td>0</td><td>234818</td><td>12.35</td><td>null</td><td>Q</td><td>1</td></tr><tr><td>324</td><td>2</td><td>Caldwell, Mrs. Albert Francis (Sylvia Mae Harbaugh)</td><td>female</td><td>22.0</td><td>1</td><td>1</td><td>248738</td><td>29.0</td><td>null</td><td>S</td><td>1</td></tr><tr><td>326</td><td>1</td><td>Young, Miss. Marie Grice</td><td>female</td><td>36.0</td><td>0</td><td>0</td><td>PC 17760</td><td>135.6333</td><td>C32</td><td>C</td><td>1</td></tr><tr><td>328</td><td>2</td><td>Ball, Mrs. (Ada E Hall)</td><td>female</td><td>36.0</td><td>0</td><td>0</td><td>28551</td><td>13.0</td><td>D</td><td>S</td><td>1</td></tr><tr><td>329</td><td>3</td><td>Goldsmith, Mrs. Frank John (Emily Alice Brown)</td><td>female</td><td>31.0</td><td>1</td><td>1</td><td>363291</td><td>20.525</td><td>null</td><td>S</td><td>1</td></tr><tr><td>330</td><td>1</td><td>Hippach, Miss. Jean Gertrude</td><td>female</td><td>16.0</td><td>0</td><td>1</td><td>111361</td><td>57.9792</td><td>B18</td><td>C</td><td>1</td></tr><tr><td>331</td><td>3</td><td>McCoy, Miss. Agnes</td><td>female</td><td>null</td><td>2</td><td>0</td><td>367226</td><td>23.25</td><td>null</td><td>Q</td><td>1</td></tr><tr><td>335</td><td>1</td><td>Frauenthal, Mrs. Henry William (Clara Heinsheimer)</td><td>female</td><td>null</td><td>1</td><td>0</td><td>PC 17611</td><td>133.65</td><td>null</td><td>S</td><td>1</td></tr><tr><td>338</td><td>1</td><td>Burns, Miss. Elizabeth Margaret</td><td>female</td><td>41.0</td><td>0</td><td>0</td><td>16966</td><td>134.5</td><td>E40</td><td>C</td><td>1</td></tr><tr><td>339</td><td>3</td><td>Dahl, Mr. Karl Edwart</td><td>male</td><td>45.0</td><td>0</td><td>0</td><td>7598</td><td>8.05</td><td>null</td><td>S</td><td>1</td></tr><tr><td>341</td><td>2</td><td>Navratil, Master. Edmond Roger</td><td>male</td><td>2.0</td><td>1</td><td>1</td><td>230080</td><td>26.0</td><td>F2</td><td>S</td><td>1</td></tr><tr><td>342</td><td>1</td><td>Fortune, Miss. Alice Elizabeth</td><td>female</td><td>24.0</td><td>3</td><td>2</td><td>19950</td><td>263.0</td><td>C23 C25 C27</td><td>S</td><td>1</td></tr><tr><td>346</td><td>2</td><td>\"Brown, Miss. Amelia \"\"Mildred\"\"\"</td><td>female</td><td>24.0</td><td>0</td><td>0</td><td>248733</td><td>13.0</td><td>F33</td><td>S</td><td>1</td></tr><tr><td>347</td><td>2</td><td>Smith, Miss. Marion Elsie</td><td>female</td><td>40.0</td><td>0</td><td>0</td><td>31418</td><td>13.0</td><td>null</td><td>S</td><td>1</td></tr><tr><td>348</td><td>3</td><td>Davison, Mrs. Thomas Henry (Mary E Finck)</td><td>female</td><td>null</td><td>1</td><td>0</td><td>386525</td><td>16.1</td><td>null</td><td>S</td><td>1</td></tr><tr><td>349</td><td>3</td><td>\"Coutts, Master. William Loch \"\"William\"\"\"</td><td>male</td><td>3.0</td><td>1</td><td>1</td><td>C.A. 37671</td><td>15.9</td><td>null</td><td>S</td><td>1</td></tr><tr><td>357</td><td>1</td><td>Bowerman, Miss. Elsie Edith</td><td>female</td><td>22.0</td><td>0</td><td>1</td><td>113505</td><td>55.0</td><td>E33</td><td>S</td><td>1</td></tr><tr><td>359</td><td>3</td><td>McGovern, Miss. Mary</td><td>female</td><td>null</td><td>0</td><td>0</td><td>330931</td><td>7.8792</td><td>null</td><td>Q</td><td>1</td></tr><tr><td>360</td><td>3</td><td>\"Mockler, Miss. Helen Mary \"\"Ellie\"\"\"</td><td>female</td><td>null</td><td>0</td><td>0</td><td>330980</td><td>7.8792</td><td>null</td><td>Q</td><td>1</td></tr><tr><td>367</td><td>1</td><td>Warren, Mrs. Frank Manley (Anna Sophia Atkinson)</td><td>female</td><td>60.0</td><td>1</td><td>0</td><td>110813</td><td>75.25</td><td>D37</td><td>C</td><td>1</td></tr><tr><td>368</td><td>3</td><td>Moussa, Mrs. (Mantoura Boulos)</td><td>female</td><td>null</td><td>0</td><td>0</td><td>2626</td><td>7.2292</td><td>null</td><td>C</td><td>1</td></tr><tr><td>369</td><td>3</td><td>Jermyn, Miss. Annie</td><td>female</td><td>null</td><td>0</td><td>0</td><td>14313</td><td>7.75</td><td>null</td><td>Q</td><td>1</td></tr><tr><td>370</td><td>1</td><td>Aubart, Mme. Leontine Pauline</td><td>female</td><td>24.0</td><td>0</td><td>0</td><td>PC 17477</td><td>69.3</td><td>B35</td><td>C</td><td>1</td></tr><tr><td>371</td><td>1</td><td>Harder, Mr. George Achilles</td><td>male</td><td>25.0</td><td>1</td><td>0</td><td>11765</td><td>55.4417</td><td>E50</td><td>C</td><td>1</td></tr><tr><td>376</td><td>1</td><td>Meyer, Mrs. Edgar Joseph (Leila Saks)</td><td>female</td><td>null</td><td>1</td><td>0</td><td>PC 17604</td><td>82.1708</td><td>null</td><td>C</td><td>1</td></tr><tr><td>377</td><td>3</td><td>Landergren, Miss. Aurora Adelia</td><td>female</td><td>22.0</td><td>0</td><td>0</td><td>C 7077</td><td>7.25</td><td>null</td><td>S</td><td>1</td></tr><tr><td>381</td><td>1</td><td>Bidois, Miss. Rosalie</td><td>female</td><td>42.0</td><td>0</td><td>0</td><td>PC 17757</td><td>227.525</td><td>null</td><td>C</td><td>1</td></tr><tr><td>382</td><td>3</td><td>\"Nakid, Miss. Maria (\"\"Mary\"\")\"</td><td>female</td><td>1.0</td><td>0</td><td>2</td><td>2653</td><td>15.7417</td><td>null</td><td>C</td><td>1</td></tr><tr><td>384</td><td>1</td><td>Holverson, Mrs. Alexander Oskar (Mary Aline Towner)</td><td>female</td><td>35.0</td><td>1</td><td>0</td><td>113789</td><td>52.0</td><td>null</td><td>S</td><td>1</td></tr><tr><td>388</td><td>2</td><td>Buss, Miss. Kate</td><td>female</td><td>36.0</td><td>0</td><td>0</td><td>27849</td><td>13.0</td><td>null</td><td>S</td><td>1</td></tr><tr><td>390</td><td>2</td><td>Lehmann, Miss. Bertha</td><td>female</td><td>17.0</td><td>0</td><td>0</td><td>SC 1748</td><td>12.0</td><td>null</td><td>C</td><td>1</td></tr><tr><td>391</td><td>1</td><td>Carter, Mr. William Ernest</td><td>male</td><td>36.0</td><td>1</td><td>2</td><td>113760</td><td>120.0</td><td>B96 B98</td><td>S</td><td>1</td></tr><tr><td>392</td><td>3</td><td>Jansson, Mr. Carl Olof</td><td>male</td><td>21.0</td><td>0</td><td>0</td><td>350034</td><td>7.7958</td><td>null</td><td>S</td><td>1</td></tr><tr><td>394</td><td>1</td><td>Newell, Miss. Marjorie</td><td>female</td><td>23.0</td><td>1</td><td>0</td><td>35273</td><td>113.275</td><td>D36</td><td>C</td><td>1</td></tr><tr><td>395</td><td>3</td><td>Sandstrom, Mrs. Hjalmar (Agnes Charlotta Bengtsson)</td><td>female</td><td>24.0</td><td>0</td><td>2</td><td>PP 9549</td><td>16.7</td><td>G6</td><td>S</td><td>1</td></tr><tr><td>400</td><td>2</td><td>Trout, Mrs. William H (Jessie L)</td><td>female</td><td>28.0</td><td>0</td><td>0</td><td>240929</td><td>12.65</td><td>null</td><td>S</td><td>1</td></tr><tr><td>401</td><td>3</td><td>Niskanen, Mr. Juha</td><td>male</td><td>39.0</td><td>0</td><td>0</td><td>STON/O 2. 3101289</td><td>7.925</td><td>null</td><td>S</td><td>1</td></tr><tr><td>408</td><td>2</td><td>Richards, Master. William Rowe</td><td>male</td><td>3.0</td><td>1</td><td>1</td><td>29106</td><td>18.75</td><td>null</td><td>S</td><td>1</td></tr><tr><td>413</td><td>1</td><td>Minahan, Miss. Daisy E</td><td>female</td><td>33.0</td><td>1</td><td>0</td><td>19928</td><td>90.0</td><td>C78</td><td>Q</td><td>1</td></tr><tr><td>415</td><td>3</td><td>Sundman, Mr. Johan Julian</td><td>male</td><td>44.0</td><td>0</td><td>0</td><td>STON/O 2. 3101269</td><td>7.925</td><td>null</td><td>S</td><td>1</td></tr><tr><td>417</td><td>2</td><td>Drew, Mrs. James Vivian (Lulu Thorne Christian)</td><td>female</td><td>34.0</td><td>1</td><td>1</td><td>28220</td><td>32.5</td><td>null</td><td>S</td><td>1</td></tr><tr><td>418</td><td>2</td><td>Silven, Miss. Lyyli Karoliina</td><td>female</td><td>18.0</td><td>0</td><td>2</td><td>250652</td><td>13.0</td><td>null</td><td>S</td><td>1</td></tr><tr><td>427</td><td>2</td><td>Clarke, Mrs. Charles V (Ada Maria Winfield)</td><td>female</td><td>28.0</td><td>1</td><td>0</td><td>2003</td><td>26.0</td><td>null</td><td>S</td><td>1</td></tr><tr><td>428</td><td>2</td><td>\"Phillips, Miss. Kate Florence (\"\"Mrs Kate Louise Phillips Marshall\"\")\"</td><td>female</td><td>19.0</td><td>0</td><td>0</td><td>250655</td><td>26.0</td><td>null</td><td>S</td><td>1</td></tr><tr><td>430</td><td>3</td><td>Pickard, Mr. Berk (Berk Trembisky)</td><td>male</td><td>32.0</td><td>0</td><td>0</td><td>SOTON/O.Q. 392078</td><td>8.05</td><td>E10</td><td>S</td><td>1</td></tr><tr><td>431</td><td>1</td><td>Bjornstrom-Steffansson, Mr. Mauritz Hakan</td><td>male</td><td>28.0</td><td>0</td><td>0</td><td>110564</td><td>26.55</td><td>C52</td><td>S</td><td>1</td></tr><tr><td>432</td><td>3</td><td>Thorneycroft, Mrs. Percival (Florence Kate White)</td><td>female</td><td>null</td><td>1</td><td>0</td><td>376564</td><td>16.1</td><td>null</td><td>S</td><td>1</td></tr><tr><td>433</td><td>2</td><td>Louch, Mrs. Charles Alexander (Alice Adelaide Slow)</td><td>female</td><td>42.0</td><td>1</td><td>0</td><td>SC/AH 3085</td><td>26.0</td><td>null</td><td>S</td><td>1</td></tr><tr><td>436</td><td>1</td><td>Carter, Miss. Lucile Polk</td><td>female</td><td>14.0</td><td>1</td><td>2</td><td>113760</td><td>120.0</td><td>B96 B98</td><td>S</td><td>1</td></tr><tr><td>438</td><td>2</td><td>Richards, Mrs. Sidney (Emily Hocking)</td><td>female</td><td>24.0</td><td>2</td><td>3</td><td>29106</td><td>18.75</td><td>null</td><td>S</td><td>1</td></tr><tr><td>441</td><td>2</td><td>Hart, Mrs. Benjamin (Esther Ada Bloomfield)</td><td>female</td><td>45.0</td><td>1</td><td>1</td><td>F.C.C. 13529</td><td>26.25</td><td>null</td><td>S</td><td>1</td></tr><tr><td>444</td><td>2</td><td>Reynaldo, Ms. Encarnacion</td><td>female</td><td>28.0</td><td>0</td><td>0</td><td>230434</td><td>13.0</td><td>null</td><td>S</td><td>1</td></tr><tr><td>445</td><td>3</td><td>Johannesen-Bratthammer, Mr. Bernt</td><td>male</td><td>null</td><td>0</td><td>0</td><td>65306</td><td>8.1125</td><td>null</td><td>S</td><td>1</td></tr><tr><td>446</td><td>1</td><td>Dodge, Master. Washington</td><td>male</td><td>4.0</td><td>0</td><td>2</td><td>33638</td><td>81.8583</td><td>A34</td><td>S</td><td>1</td></tr><tr><td>447</td><td>2</td><td>Mellinger, Miss. Madeleine Violet</td><td>female</td><td>13.0</td><td>0</td><td>1</td><td>250644</td><td>19.5</td><td>null</td><td>S</td><td>1</td></tr><tr><td>448</td><td>1</td><td>Seward, Mr. Frederic Kimber</td><td>male</td><td>34.0</td><td>0</td><td>0</td><td>113794</td><td>26.55</td><td>null</td><td>S</td><td>1</td></tr><tr><td>449</td><td>3</td><td>Baclini, Miss. Marie Catherine</td><td>female</td><td>5.0</td><td>2</td><td>1</td><td>2666</td><td>19.2583</td><td>null</td><td>C</td><td>1</td></tr><tr><td>450</td><td>1</td><td>Peuchen, Major. Arthur Godfrey</td><td>male</td><td>52.0</td><td>0</td><td>0</td><td>113786</td><td>30.5</td><td>C104</td><td>S</td><td>1</td></tr><tr><td>454</td><td>1</td><td>Goldenberg, Mr. Samuel L</td><td>male</td><td>49.0</td><td>1</td><td>0</td><td>17453</td><td>89.1042</td><td>C92</td><td>C</td><td>1</td></tr><tr><td>456</td><td>3</td><td>Jalsevac, Mr. Ivan</td><td>male</td><td>29.0</td><td>0</td><td>0</td><td>349240</td><td>7.8958</td><td>null</td><td>C</td><td>1</td></tr><tr><td>458</td><td>1</td><td>Kenyon, Mrs. Frederick R (Marion)</td><td>female</td><td>null</td><td>1</td><td>0</td><td>17464</td><td>51.8625</td><td>D21</td><td>S</td><td>1</td></tr><tr><td>459</td><td>2</td><td>Toomey, Miss. Ellen</td><td>female</td><td>50.0</td><td>0</td><td>0</td><td>F.C.C. 13531</td><td>10.5</td><td>null</td><td>S</td><td>1</td></tr><tr><td>461</td><td>1</td><td>Anderson, Mr. Harry</td><td>male</td><td>48.0</td><td>0</td><td>0</td><td>19952</td><td>26.55</td><td>E12</td><td>S</td><td>1</td></tr><tr><td>470</td><td>3</td><td>Baclini, Miss. Helene Barbara</td><td>female</td><td>0.75</td><td>2</td><td>1</td><td>2666</td><td>19.2583</td><td>null</td><td>C</td><td>1</td></tr><tr><td>473</td><td>2</td><td>West, Mrs. Edwy Arthur (Ada Mary Worth)</td><td>female</td><td>33.0</td><td>1</td><td>2</td><td>C.A. 34651</td><td>27.75</td><td>null</td><td>S</td><td>1</td></tr><tr><td>474</td><td>2</td><td>Jerwan, Mrs. Amin S (Marie Marthe Thuillard)</td><td>female</td><td>23.0</td><td>0</td><td>0</td><td>SC/AH Basle 541</td><td>13.7917</td><td>D</td><td>C</td><td>1</td></tr><tr><td>480</td><td>3</td><td>Hirvonen, Miss. Hildur E</td><td>female</td><td>2.0</td><td>0</td><td>1</td><td>3101298</td><td>12.2875</td><td>null</td><td>S</td><td>1</td></tr><tr><td>484</td><td>3</td><td>Turkula, Mrs. (Hedwig)</td><td>female</td><td>63.0</td><td>0</td><td>0</td><td>4134</td><td>9.5875</td><td>null</td><td>S</td><td>1</td></tr><tr><td>485</td><td>1</td><td>Bishop, Mr. Dickinson H</td><td>male</td><td>25.0</td><td>1</td><td>0</td><td>11967</td><td>91.0792</td><td>B49</td><td>C</td><td>1</td></tr><tr><td>487</td><td>1</td><td>Hoyt, Mrs. Frederick Maxfield (Jane Anne Forby)</td><td>female</td><td>35.0</td><td>1</td><td>0</td><td>19943</td><td>90.0</td><td>C93</td><td>S</td><td>1</td></tr><tr><td>490</td><td>3</td><td>\"Coutts, Master. Eden Leslie \"\"Neville\"\"\"</td><td>male</td><td>9.0</td><td>1</td><td>1</td><td>C.A. 37671</td><td>15.9</td><td>null</td><td>S</td><td>1</td></tr><tr><td>497</td><td>1</td><td>Eustis, Miss. Elizabeth Mussey</td><td>female</td><td>54.0</td><td>1</td><td>0</td><td>36947</td><td>78.2667</td><td>D20</td><td>C</td><td>1</td></tr><tr><td>505</td><td>1</td><td>Maioni, Miss. Roberta</td><td>female</td><td>16.0</td><td>0</td><td>0</td><td>110152</td><td>86.5</td><td>B79</td><td>S</td><td>1</td></tr><tr><td>507</td><td>2</td><td>Quick, Mrs. Frederick Charles (Jane Richards)</td><td>female</td><td>33.0</td><td>0</td><td>2</td><td>26360</td><td>26.0</td><td>null</td><td>S</td><td>1</td></tr><tr><td>508</td><td>1</td><td>\"Bradley, Mr. George (\"\"George Arthur Brayton\"\")\"</td><td>male</td><td>null</td><td>0</td><td>0</td><td>111427</td><td>26.55</td><td>null</td><td>S</td><td>1</td></tr><tr><td>510</td><td>3</td><td>Lang, Mr. Fang</td><td>male</td><td>26.0</td><td>0</td><td>0</td><td>1601</td><td>56.4958</td><td>null</td><td>S</td><td>1</td></tr><tr><td>511</td><td>3</td><td>Daly, Mr. Eugene Patrick</td><td>male</td><td>29.0</td><td>0</td><td>0</td><td>382651</td><td>7.75</td><td>null</td><td>Q</td><td>1</td></tr><tr><td>513</td><td>1</td><td>McGough, Mr. James Robert</td><td>male</td><td>36.0</td><td>0</td><td>0</td><td>PC 17473</td><td>26.2875</td><td>E25</td><td>S</td><td>1</td></tr><tr><td>514</td><td>1</td><td>Rothschild, Mrs. Martin (Elizabeth L. Barrett)</td><td>female</td><td>54.0</td><td>1</td><td>0</td><td>PC 17603</td><td>59.4</td><td>null</td><td>C</td><td>1</td></tr><tr><td>517</td><td>2</td><td>Lemore, Mrs. (Amelia Milley)</td><td>female</td><td>34.0</td><td>0</td><td>0</td><td>C.A. 34260</td><td>10.5</td><td>F33</td><td>S</td><td>1</td></tr><tr><td>519</td><td>2</td><td>\"Angle, Mrs. William A (Florence \"\"Mary\"\" Agnes Hughes)\"</td><td>female</td><td>36.0</td><td>1</td><td>0</td><td>226875</td><td>26.0</td><td>null</td><td>S</td><td>1</td></tr><tr><td>521</td><td>1</td><td>Perreault, Miss. Anne</td><td>female</td><td>30.0</td><td>0</td><td>0</td><td>12749</td><td>93.5</td><td>B73</td><td>S</td><td>1</td></tr><tr><td>524</td><td>1</td><td>Hippach, Mrs. Louis Albert (Ida Sophia Fischer)</td><td>female</td><td>44.0</td><td>0</td><td>1</td><td>111361</td><td>57.9792</td><td>B18</td><td>C</td><td>1</td></tr><tr><td>527</td><td>2</td><td>Ridsdale, Miss. Lucy</td><td>female</td><td>50.0</td><td>0</td><td>0</td><td>W./C. 14258</td><td>10.5</td><td>null</td><td>S</td><td>1</td></tr><tr><td>531</td><td>2</td><td>Quick, Miss. Phyllis May</td><td>female</td><td>2.0</td><td>1</td><td>1</td><td>26360</td><td>26.0</td><td>null</td><td>S</td><td>1</td></tr><tr><td>534</td><td>3</td><td>Peter, Mrs. Catherine (Catherine Rizk)</td><td>female</td><td>null</td><td>0</td><td>2</td><td>2668</td><td>22.3583</td><td>null</td><td>C</td><td>1</td></tr><tr><td>536</td><td>2</td><td>Hart, Miss. Eva Miriam</td><td>female</td><td>7.0</td><td>0</td><td>2</td><td>F.C.C. 13529</td><td>26.25</td><td>null</td><td>S</td><td>1</td></tr><tr><td>538</td><td>1</td><td>LeRoy, Miss. Bertha</td><td>female</td><td>30.0</td><td>0</td><td>0</td><td>PC 17761</td><td>106.425</td><td>null</td><td>C</td><td>1</td></tr><tr><td>540</td><td>1</td><td>Frolicher, Miss. Hedwig Margaritha</td><td>female</td><td>22.0</td><td>0</td><td>2</td><td>13568</td><td>49.5</td><td>B39</td><td>C</td><td>1</td></tr><tr><td>541</td><td>1</td><td>Crosby, Miss. Harriet R</td><td>female</td><td>36.0</td><td>0</td><td>2</td><td>WE/P 5735</td><td>71.0</td><td>B22</td><td>S</td><td>1</td></tr><tr><td>544</td><td>2</td><td>Beane, Mr. Edward</td><td>male</td><td>32.0</td><td>1</td><td>0</td><td>2908</td><td>26.0</td><td>null</td><td>S</td><td>1</td></tr><tr><td>547</td><td>2</td><td>Beane, Mrs. Edward (Ethel Clarke)</td><td>female</td><td>19.0</td><td>1</td><td>0</td><td>2908</td><td>26.0</td><td>null</td><td>S</td><td>1</td></tr><tr><td>548</td><td>2</td><td>Padro y Manent, Mr. Julian</td><td>male</td><td>null</td><td>0</td><td>0</td><td>SC/PARIS 2146</td><td>13.8625</td><td>null</td><td>C</td><td>1</td></tr><tr><td>550</td><td>2</td><td>Davies, Master. John Morgan Jr</td><td>male</td><td>8.0</td><td>1</td><td>1</td><td>C.A. 33112</td><td>36.75</td><td>null</td><td>S</td><td>1</td></tr><tr><td>551</td><td>1</td><td>Thayer, Mr. John Borland Jr</td><td>male</td><td>17.0</td><td>0</td><td>2</td><td>17421</td><td>110.8833</td><td>C70</td><td>C</td><td>1</td></tr><tr><td>554</td><td>3</td><td>\"Leeni, Mr. Fahim (\"\"Philip Zenni\"\")\"</td><td>male</td><td>22.0</td><td>0</td><td>0</td><td>2620</td><td>7.225</td><td>null</td><td>C</td><td>1</td></tr><tr><td>555</td><td>3</td><td>Ohman, Miss. Velin</td><td>female</td><td>22.0</td><td>0</td><td>0</td><td>347085</td><td>7.775</td><td>null</td><td>S</td><td>1</td></tr><tr><td>557</td><td>1</td><td>\"Duff Gordon, Lady. (Lucille Christiana Sutherland) (\"\"Mrs Morgan\"\")\"</td><td>female</td><td>48.0</td><td>1</td><td>0</td><td>11755</td><td>39.6</td><td>A16</td><td>C</td><td>1</td></tr><tr><td>559</td><td>1</td><td>Taussig, Mrs. Emil (Tillie Mandelbaum)</td><td>female</td><td>39.0</td><td>1</td><td>1</td><td>110413</td><td>79.65</td><td>E67</td><td>S</td><td>1</td></tr><tr><td>560</td><td>3</td><td>de Messemaeker, Mrs. Guillaume Joseph (Emma)</td><td>female</td><td>36.0</td><td>1</td><td>0</td><td>345572</td><td>17.4</td><td>null</td><td>S</td><td>1</td></tr><tr><td>570</td><td>3</td><td>Jonsson, Mr. Carl</td><td>male</td><td>32.0</td><td>0</td><td>0</td><td>350417</td><td>7.8542</td><td>null</td><td>S</td><td>1</td></tr><tr><td>571</td><td>2</td><td>Harris, Mr. George</td><td>male</td><td>62.0</td><td>0</td><td>0</td><td>S.W./PP 752</td><td>10.5</td><td>null</td><td>S</td><td>1</td></tr><tr><td>572</td><td>1</td><td>Appleton, Mrs. Edward Dale (Charlotte Lamson)</td><td>female</td><td>53.0</td><td>2</td><td>0</td><td>11769</td><td>51.4792</td><td>C101</td><td>S</td><td>1</td></tr><tr><td>573</td><td>1</td><td>\"Flynn, Mr. John Irwin (\"\"Irving\"\")\"</td><td>male</td><td>36.0</td><td>0</td><td>0</td><td>PC 17474</td><td>26.3875</td><td>E25</td><td>S</td><td>1</td></tr><tr><td>574</td><td>3</td><td>Kelly, Miss. Mary</td><td>female</td><td>null</td><td>0</td><td>0</td><td>14312</td><td>7.75</td><td>null</td><td>Q</td><td>1</td></tr><tr><td>577</td><td>2</td><td>Garside, Miss. Ethel</td><td>female</td><td>34.0</td><td>0</td><td>0</td><td>243880</td><td>13.0</td><td>null</td><td>S</td><td>1</td></tr><tr><td>578</td><td>1</td><td>Silvey, Mrs. William Baird (Alice Munger)</td><td>female</td><td>39.0</td><td>1</td><td>0</td><td>13507</td><td>55.9</td><td>E44</td><td>S</td><td>1</td></tr><tr><td>580</td><td>3</td><td>Jussila, Mr. Eiriik</td><td>male</td><td>32.0</td><td>0</td><td>0</td><td>STON/O 2. 3101286</td><td>7.925</td><td>null</td><td>S</td><td>1</td></tr><tr><td>581</td><td>2</td><td>Christy, Miss. Julie Rachel</td><td>female</td><td>25.0</td><td>1</td><td>1</td><td>237789</td><td>30.0</td><td>null</td><td>S</td><td>1</td></tr><tr><td>582</td><td>1</td><td>Thayer, Mrs. John Borland (Marian Longstreth Morris)</td><td>female</td><td>39.0</td><td>1</td><td>1</td><td>17421</td><td>110.8833</td><td>C68</td><td>C</td><td>1</td></tr><tr><td>586</td><td>1</td><td>Taussig, Miss. Ruth</td><td>female</td><td>18.0</td><td>0</td><td>2</td><td>110413</td><td>79.65</td><td>E68</td><td>S</td><td>1</td></tr><tr><td>588</td><td>1</td><td>Frolicher-Stehli, Mr. Maxmillian</td><td>male</td><td>60.0</td><td>1</td><td>1</td><td>13567</td><td>79.2</td><td>B41</td><td>C</td><td>1</td></tr><tr><td>592</td><td>1</td><td>Stephenson, Mrs. Walter Bertram (Martha Eustis)</td><td>female</td><td>52.0</td><td>1</td><td>0</td><td>36947</td><td>78.2667</td><td>D20</td><td>C</td><td>1</td></tr><tr><td>597</td><td>2</td><td>Leitch, Miss. Jessie Wills</td><td>female</td><td>null</td><td>0</td><td>0</td><td>248727</td><td>33.0</td><td>null</td><td>S</td><td>1</td></tr><tr><td>600</td><td>1</td><td>\"Duff Gordon, Sir. Cosmo Edmund (\"\"Mr Morgan\"\")\"</td><td>male</td><td>49.0</td><td>1</td><td>0</td><td>PC 17485</td><td>56.9292</td><td>A20</td><td>C</td><td>1</td></tr><tr><td>601</td><td>2</td><td>Jacobsohn, Mrs. Sidney Samuel (Amy Frances Christy)</td><td>female</td><td>24.0</td><td>2</td><td>1</td><td>243847</td><td>27.0</td><td>null</td><td>S</td><td>1</td></tr><tr><td>605</td><td>1</td><td>\"Homer, Mr. Harry (\"\"Mr E Haven\"\")\"</td><td>male</td><td>35.0</td><td>0</td><td>0</td><td>111426</td><td>26.55</td><td>null</td><td>C</td><td>1</td></tr><tr><td>608</td><td>1</td><td>Daniel, Mr. Robert Williams</td><td>male</td><td>27.0</td><td>0</td><td>0</td><td>113804</td><td>30.5</td><td>null</td><td>S</td><td>1</td></tr><tr><td>609</td><td>2</td><td>Laroche, Mrs. Joseph (Juliette Marie Louise Lafargue)</td><td>female</td><td>22.0</td><td>1</td><td>2</td><td>SC/Paris 2123</td><td>41.5792</td><td>null</td><td>C</td><td>1</td></tr><tr><td>610</td><td>1</td><td>Shutes, Miss. Elizabeth W</td><td>female</td><td>40.0</td><td>0</td><td>0</td><td>PC 17582</td><td>153.4625</td><td>C125</td><td>S</td><td>1</td></tr><tr><td>613</td><td>3</td><td>Murphy, Miss. Margaret Jane</td><td>female</td><td>null</td><td>1</td><td>0</td><td>367230</td><td>15.5</td><td>null</td><td>Q</td><td>1</td></tr><tr><td>616</td><td>2</td><td>Herman, Miss. Alice</td><td>female</td><td>24.0</td><td>1</td><td>2</td><td>220845</td><td>65.0</td><td>null</td><td>S</td><td>1</td></tr><tr><td>619</td><td>2</td><td>Becker, Miss. Marion Louise</td><td>female</td><td>4.0</td><td>2</td><td>1</td><td>230136</td><td>39.0</td><td>F4</td><td>S</td><td>1</td></tr><tr><td>622</td><td>1</td><td>Kimball, Mr. Edwin Nelson Jr</td><td>male</td><td>42.0</td><td>1</td><td>0</td><td>11753</td><td>52.5542</td><td>D19</td><td>S</td><td>1</td></tr><tr><td>623</td><td>3</td><td>Nakid, Mr. Sahid</td><td>male</td><td>20.0</td><td>1</td><td>1</td><td>2653</td><td>15.7417</td><td>null</td><td>C</td><td>1</td></tr><tr><td>628</td><td>1</td><td>Longley, Miss. Gretchen Fiske</td><td>female</td><td>21.0</td><td>0</td><td>0</td><td>13502</td><td>77.9583</td><td>D9</td><td>S</td><td>1</td></tr><tr><td>631</td><td>1</td><td>Barkworth, Mr. Algernon Henry Wilson</td><td>male</td><td>80.0</td><td>0</td><td>0</td><td>27042</td><td>30.0</td><td>A23</td><td>S</td><td>1</td></tr><tr><td>633</td><td>1</td><td>Stahelin-Maeglin, Dr. Max</td><td>male</td><td>32.0</td><td>0</td><td>0</td><td>13214</td><td>30.5</td><td>B50</td><td>C</td><td>1</td></tr><tr><td>636</td><td>2</td><td>Davis, Miss. Mary</td><td>female</td><td>28.0</td><td>0</td><td>0</td><td>237668</td><td>13.0</td><td>null</td><td>S</td><td>1</td></tr><tr><td>642</td><td>1</td><td>Sagesser, Mlle. Emma</td><td>female</td><td>24.0</td><td>0</td><td>0</td><td>PC 17477</td><td>69.3</td><td>B35</td><td>C</td><td>1</td></tr><tr><td>644</td><td>3</td><td>Foo, Mr. Choong</td><td>male</td><td>null</td><td>0</td><td>0</td><td>1601</td><td>56.4958</td><td>null</td><td>S</td><td>1</td></tr><tr><td>645</td><td>3</td><td>Baclini, Miss. Eugenie</td><td>female</td><td>0.75</td><td>2</td><td>1</td><td>2666</td><td>19.2583</td><td>null</td><td>C</td><td>1</td></tr><tr><td>646</td><td>1</td><td>Harper, Mr. Henry Sleeper</td><td>male</td><td>48.0</td><td>1</td><td>0</td><td>PC 17572</td><td>76.7292</td><td>D33</td><td>C</td><td>1</td></tr><tr><td>648</td><td>1</td><td>Simonius-Blumer, Col. Oberst Alfons</td><td>male</td><td>56.0</td><td>0</td><td>0</td><td>13213</td><td>35.5</td><td>A26</td><td>C</td><td>1</td></tr><tr><td>650</td><td>3</td><td>Stanley, Miss. Amy Zillah Elsie</td><td>female</td><td>23.0</td><td>0</td><td>0</td><td>CA. 2314</td><td>7.55</td><td>null</td><td>S</td><td>1</td></tr><tr><td>652</td><td>2</td><td>Doling, Miss. Elsie</td><td>female</td><td>18.0</td><td>0</td><td>1</td><td>231919</td><td>23.0</td><td>null</td><td>S</td><td>1</td></tr><tr><td>654</td><td>3</td><td>\"O'Leary, Miss. Hanora \"\"Norah\"\"\"</td><td>female</td><td>null</td><td>0</td><td>0</td><td>330919</td><td>7.8292</td><td>null</td><td>Q</td><td>1</td></tr><tr><td>661</td><td>1</td><td>Frauenthal, Dr. Henry William</td><td>male</td><td>50.0</td><td>2</td><td>0</td><td>PC 17611</td><td>133.65</td><td>null</td><td>S</td><td>1</td></tr><tr><td>665</td><td>3</td><td>Lindqvist, Mr. Eino William</td><td>male</td><td>20.0</td><td>1</td><td>0</td><td>STON/O 2. 3101285</td><td>7.925</td><td>null</td><td>S</td><td>1</td></tr><tr><td>670</td><td>1</td><td>Taylor, Mrs. Elmer Zebley (Juliet Cummins Wright)</td><td>female</td><td>null</td><td>1</td><td>0</td><td>19996</td><td>52.0</td><td>C126</td><td>S</td><td>1</td></tr><tr><td>671</td><td>2</td><td>Brown, Mrs. Thomas William Solomon (Elizabeth Catherine Ford)</td><td>female</td><td>40.0</td><td>1</td><td>1</td><td>29750</td><td>39.0</td><td>null</td><td>S</td><td>1</td></tr><tr><td>674</td><td>2</td><td>Wilhelms, Mr. Charles</td><td>male</td><td>31.0</td><td>0</td><td>0</td><td>244270</td><td>13.0</td><td>null</td><td>S</td><td>1</td></tr><tr><td>678</td><td>3</td><td>Turja, Miss. Anna Sofia</td><td>female</td><td>18.0</td><td>0</td><td>0</td><td>4138</td><td>9.8417</td><td>null</td><td>S</td><td>1</td></tr><tr><td>680</td><td>1</td><td>Cardeza, Mr. Thomas Drake Martinez</td><td>male</td><td>36.0</td><td>0</td><td>1</td><td>PC 17755</td><td>512.3292</td><td>B51 B53 B55</td><td>C</td><td>1</td></tr><tr><td>682</td><td>1</td><td>Hassab, Mr. Hammad</td><td>male</td><td>27.0</td><td>0</td><td>0</td><td>PC 17572</td><td>76.7292</td><td>D49</td><td>C</td><td>1</td></tr><tr><td>690</td><td>1</td><td>Madill, Miss. Georgette Alexandra</td><td>female</td><td>15.0</td><td>0</td><td>1</td><td>24160</td><td>211.3375</td><td>B5</td><td>S</td><td>1</td></tr><tr><td>691</td><td>1</td><td>Dick, Mr. Albert Adrian</td><td>male</td><td>31.0</td><td>1</td><td>0</td><td>17474</td><td>57.0</td><td>B20</td><td>S</td><td>1</td></tr><tr><td>692</td><td>3</td><td>Karun, Miss. Manca</td><td>female</td><td>4.0</td><td>0</td><td>1</td><td>349256</td><td>13.4167</td><td>null</td><td>C</td><td>1</td></tr><tr><td>693</td><td>3</td><td>Lam, Mr. Ali</td><td>male</td><td>null</td><td>0</td><td>0</td><td>1601</td><td>56.4958</td><td>null</td><td>S</td><td>1</td></tr><tr><td>698</td><td>3</td><td>\"Mullens, Miss. Katherine \"\"Katie\"\"\"</td><td>female</td><td>null</td><td>0</td><td>0</td><td>35852</td><td>7.7333</td><td>null</td><td>Q</td><td>1</td></tr><tr><td>701</td><td>1</td><td>Astor, Mrs. John Jacob (Madeleine Talmadge Force)</td><td>female</td><td>18.0</td><td>1</td><td>0</td><td>PC 17757</td><td>227.525</td><td>C62 C64</td><td>C</td><td>1</td></tr><tr><td>702</td><td>1</td><td>Silverthorne, Mr. Spencer Victor</td><td>male</td><td>35.0</td><td>0</td><td>0</td><td>PC 17475</td><td>26.2875</td><td>E24</td><td>S</td><td>1</td></tr><tr><td>707</td><td>2</td><td>\"Kelly, Mrs. Florence \"\"Fannie\"\"\"</td><td>female</td><td>45.0</td><td>0</td><td>0</td><td>223596</td><td>13.5</td><td>null</td><td>S</td><td>1</td></tr><tr><td>708</td><td>1</td><td>Calderhead, Mr. Edward Pennington</td><td>male</td><td>42.0</td><td>0</td><td>0</td><td>PC 17476</td><td>26.2875</td><td>E24</td><td>S</td><td>1</td></tr><tr><td>709</td><td>1</td><td>Cleaver, Miss. Alice</td><td>female</td><td>22.0</td><td>0</td><td>0</td><td>113781</td><td>151.55</td><td>null</td><td>S</td><td>1</td></tr><tr><td>710</td><td>3</td><td>\"Moubarek, Master. Halim Gonios (\"\"William George\"\")\"</td><td>male</td><td>null</td><td>1</td><td>1</td><td>2661</td><td>15.2458</td><td>null</td><td>C</td><td>1</td></tr><tr><td>711</td><td>1</td><td>\"Mayne, Mlle. Berthe Antonine (\"\"Mrs de Villiers\"\")\"</td><td>female</td><td>24.0</td><td>0</td><td>0</td><td>PC 17482</td><td>49.5042</td><td>C90</td><td>C</td><td>1</td></tr><tr><td>713</td><td>1</td><td>Taylor, Mr. Elmer Zebley</td><td>male</td><td>48.0</td><td>1</td><td>0</td><td>19996</td><td>52.0</td><td>C126</td><td>S</td><td>1</td></tr><tr><td>717</td><td>1</td><td>Endres, Miss. Caroline Louise</td><td>female</td><td>38.0</td><td>0</td><td>0</td><td>PC 17757</td><td>227.525</td><td>C45</td><td>C</td><td>1</td></tr><tr><td>718</td><td>2</td><td>\"Troutt, Miss. Edwina Celia \"\"Winnie\"\"\"</td><td>female</td><td>27.0</td><td>0</td><td>0</td><td>34218</td><td>10.5</td><td>E101</td><td>S</td><td>1</td></tr><tr><td>721</td><td>2</td><td>\"Harper, Miss. Annie Jessie \"\"Nina\"\"\"</td><td>female</td><td>6.0</td><td>0</td><td>1</td><td>248727</td><td>33.0</td><td>null</td><td>S</td><td>1</td></tr><tr><td>725</td><td>1</td><td>Chambers, Mr. Norman Campbell</td><td>male</td><td>27.0</td><td>1</td><td>0</td><td>113806</td><td>53.1</td><td>E8</td><td>S</td><td>1</td></tr><tr><td>727</td><td>2</td><td>Renouf, Mrs. Peter Henry (Lillian Jefferys)</td><td>female</td><td>30.0</td><td>3</td><td>0</td><td>31027</td><td>21.0</td><td>null</td><td>S</td><td>1</td></tr><tr><td>728</td><td>3</td><td>Mannion, Miss. Margareth</td><td>female</td><td>null</td><td>0</td><td>0</td><td>36866</td><td>7.7375</td><td>null</td><td>Q</td><td>1</td></tr><tr><td>731</td><td>1</td><td>Allen, Miss. Elisabeth Walton</td><td>female</td><td>29.0</td><td>0</td><td>0</td><td>24160</td><td>211.3375</td><td>B5</td><td>S</td><td>1</td></tr><tr><td>738</td><td>1</td><td>Lesurer, Mr. Gustave J</td><td>male</td><td>35.0</td><td>0</td><td>0</td><td>PC 17755</td><td>512.3292</td><td>B101</td><td>C</td><td>1</td></tr><tr><td>741</td><td>1</td><td>Hawksford, Mr. Walter James</td><td>male</td><td>null</td><td>0</td><td>0</td><td>16988</td><td>30.0</td><td>D45</td><td>S</td><td>1</td></tr><tr><td>743</td><td>1</td><td>\"Ryerson, Miss. Susan Parker \"\"Suzette\"\"\"</td><td>female</td><td>21.0</td><td>2</td><td>2</td><td>PC 17608</td><td>262.375</td><td>B57 B59 B63 B66</td><td>C</td><td>1</td></tr><tr><td>745</td><td>3</td><td>Stranden, Mr. Juho</td><td>male</td><td>31.0</td><td>0</td><td>0</td><td>STON/O 2. 3101288</td><td>7.925</td><td>null</td><td>S</td><td>1</td></tr><tr><td>748</td><td>2</td><td>Sinkkonen, Miss. Anna</td><td>female</td><td>30.0</td><td>0</td><td>0</td><td>250648</td><td>13.0</td><td>null</td><td>S</td><td>1</td></tr><tr><td>751</td><td>2</td><td>Wells, Miss. Joan</td><td>female</td><td>4.0</td><td>1</td><td>1</td><td>29103</td><td>23.0</td><td>null</td><td>S</td><td>1</td></tr><tr><td>752</td><td>3</td><td>Moor, Master. Meier</td><td>male</td><td>6.0</td><td>0</td><td>1</td><td>392096</td><td>12.475</td><td>E121</td><td>S</td><td>1</td></tr><tr><td>755</td><td>2</td><td>Herman, Mrs. Samuel (Jane Laver)</td><td>female</td><td>48.0</td><td>1</td><td>2</td><td>220845</td><td>65.0</td><td>null</td><td>S</td><td>1</td></tr><tr><td>756</td><td>2</td><td>Hamalainen, Master. Viljo</td><td>male</td><td>0.67</td><td>1</td><td>1</td><td>250649</td><td>14.5</td><td>null</td><td>S</td><td>1</td></tr><tr><td>760</td><td>1</td><td>Rothes, the Countess. of (Lucy Noel Martha Dyer-Edwards)</td><td>female</td><td>33.0</td><td>0</td><td>0</td><td>110152</td><td>86.5</td><td>B77</td><td>S</td><td>1</td></tr><tr><td>763</td><td>3</td><td>Barah, Mr. Hanna Assi</td><td>male</td><td>20.0</td><td>0</td><td>0</td><td>2663</td><td>7.2292</td><td>null</td><td>C</td><td>1</td></tr><tr><td>764</td><td>1</td><td>Carter, Mrs. William Ernest (Lucile Polk)</td><td>female</td><td>36.0</td><td>1</td><td>2</td><td>113760</td><td>120.0</td><td>B96 B98</td><td>S</td><td>1</td></tr><tr><td>766</td><td>1</td><td>Hogeboom, Mrs. John C (Anna Andrews)</td><td>female</td><td>51.0</td><td>1</td><td>0</td><td>13502</td><td>77.9583</td><td>D11</td><td>S</td><td>1</td></tr><tr><td>775</td><td>2</td><td>Hocking, Mrs. Elizabeth (Eliza Needs)</td><td>female</td><td>54.0</td><td>1</td><td>3</td><td>29105</td><td>23.0</td><td>null</td><td>S</td><td>1</td></tr><tr><td>778</td><td>3</td><td>Emanuel, Miss. Virginia Ethel</td><td>female</td><td>5.0</td><td>0</td><td>0</td><td>364516</td><td>12.475</td><td>null</td><td>S</td><td>1</td></tr><tr><td>780</td><td>1</td><td>Robert, Mrs. Edward Scott (Elisabeth Walton McMillan)</td><td>female</td><td>43.0</td><td>0</td><td>1</td><td>24160</td><td>211.3375</td><td>B3</td><td>S</td><td>1</td></tr><tr><td>781</td><td>3</td><td>Ayoub, Miss. Banoura</td><td>female</td><td>13.0</td><td>0</td><td>0</td><td>2687</td><td>7.2292</td><td>null</td><td>C</td><td>1</td></tr><tr><td>782</td><td>1</td><td>Dick, Mrs. Albert Adrian (Vera Gillespie)</td><td>female</td><td>17.0</td><td>1</td><td>0</td><td>17474</td><td>57.0</td><td>B20</td><td>S</td><td>1</td></tr><tr><td>787</td><td>3</td><td>Sjoblom, Miss. Anna Sofia</td><td>female</td><td>18.0</td><td>0</td><td>0</td><td>3101265</td><td>7.4958</td><td>null</td><td>S</td><td>1</td></tr><tr><td>789</td><td>3</td><td>Dean, Master. Bertram Vere</td><td>male</td><td>1.0</td><td>1</td><td>2</td><td>C.A. 2315</td><td>20.575</td><td>null</td><td>S</td><td>1</td></tr><tr><td>797</td><td>1</td><td>Leader, Dr. Alice (Farnham)</td><td>female</td><td>49.0</td><td>0</td><td>0</td><td>17465</td><td>25.9292</td><td>D17</td><td>S</td><td>1</td></tr><tr><td>798</td><td>3</td><td>Osman, Mrs. Mara</td><td>female</td><td>31.0</td><td>0</td><td>0</td><td>349244</td><td>8.6833</td><td>null</td><td>S</td><td>1</td></tr><tr><td>802</td><td>2</td><td>Collyer, Mrs. Harvey (Charlotte Annie Tate)</td><td>female</td><td>31.0</td><td>1</td><td>1</td><td>C.A. 31921</td><td>26.25</td><td>null</td><td>S</td><td>1</td></tr><tr><td>803</td><td>1</td><td>Carter, Master. William Thornton II</td><td>male</td><td>11.0</td><td>1</td><td>2</td><td>113760</td><td>120.0</td><td>B96 B98</td><td>S</td><td>1</td></tr><tr><td>804</td><td>3</td><td>Thomas, Master. Assad Alexander</td><td>male</td><td>0.42</td><td>0</td><td>1</td><td>2625</td><td>8.5167</td><td>null</td><td>C</td><td>1</td></tr><tr><td>805</td><td>3</td><td>Hedman, Mr. Oskar Arvid</td><td>male</td><td>27.0</td><td>0</td><td>0</td><td>347089</td><td>6.975</td><td>null</td><td>S</td><td>1</td></tr><tr><td>810</td><td>1</td><td>Chambers, Mrs. Norman Campbell (Bertha Griggs)</td><td>female</td><td>33.0</td><td>1</td><td>0</td><td>113806</td><td>53.1</td><td>E8</td><td>S</td><td>1</td></tr><tr><td>821</td><td>1</td><td>Hays, Mrs. Charles Melville (Clara Jennings Gregg)</td><td>female</td><td>52.0</td><td>1</td><td>1</td><td>12749</td><td>93.5</td><td>B69</td><td>S</td><td>1</td></tr><tr><td>822</td><td>3</td><td>Lulic, Mr. Nikola</td><td>male</td><td>27.0</td><td>0</td><td>0</td><td>315098</td><td>8.6625</td><td>null</td><td>S</td><td>1</td></tr><tr><td>824</td><td>3</td><td>Moor, Mrs. (Beila)</td><td>female</td><td>27.0</td><td>0</td><td>1</td><td>392096</td><td>12.475</td><td>E121</td><td>S</td><td>1</td></tr><tr><td>828</td><td>2</td><td>Mallet, Master. Andre</td><td>male</td><td>1.0</td><td>0</td><td>2</td><td>S.C./PARIS 2079</td><td>37.0042</td><td>null</td><td>C</td><td>1</td></tr><tr><td>829</td><td>3</td><td>McCormack, Mr. Thomas Joseph</td><td>male</td><td>null</td><td>0</td><td>0</td><td>367228</td><td>7.75</td><td>null</td><td>Q</td><td>1</td></tr><tr><td>830</td><td>1</td><td>Stone, Mrs. George Nelson (Martha Evelyn)</td><td>female</td><td>62.0</td><td>0</td><td>0</td><td>113572</td><td>80.0</td><td>B28</td><td>null</td><td>1</td></tr><tr><td>831</td><td>3</td><td>Yasbeck, Mrs. Antoni (Selini Alexander)</td><td>female</td><td>15.0</td><td>1</td><td>0</td><td>2659</td><td>14.4542</td><td>null</td><td>C</td><td>1</td></tr><tr><td>832</td><td>2</td><td>Richards, Master. George Sibley</td><td>male</td><td>0.83</td><td>1</td><td>1</td><td>29106</td><td>18.75</td><td>null</td><td>S</td><td>1</td></tr><tr><td>836</td><td>1</td><td>Compton, Miss. Sara Rebecca</td><td>female</td><td>39.0</td><td>1</td><td>1</td><td>PC 17756</td><td>83.1583</td><td>E49</td><td>C</td><td>1</td></tr><tr><td>839</td><td>3</td><td>Chip, Mr. Chang</td><td>male</td><td>32.0</td><td>0</td><td>0</td><td>1601</td><td>56.4958</td><td>null</td><td>S</td><td>1</td></tr><tr><td>840</td><td>1</td><td>Marechal, Mr. Pierre</td><td>male</td><td>null</td><td>0</td><td>0</td><td>11774</td><td>29.7</td><td>C47</td><td>C</td><td>1</td></tr><tr><td>843</td><td>1</td><td>Serepeca, Miss. Augusta</td><td>female</td><td>30.0</td><td>0</td><td>0</td><td>113798</td><td>31.0</td><td>null</td><td>C</td><td>1</td></tr><tr><td>850</td><td>1</td><td>Goldenberg, Mrs. Samuel L (Edwiga Grabowska)</td><td>female</td><td>null</td><td>1</td><td>0</td><td>17453</td><td>89.1042</td><td>C92</td><td>C</td><td>1</td></tr><tr><td>854</td><td>1</td><td>Lines, Miss. Mary Conover</td><td>female</td><td>16.0</td><td>0</td><td>1</td><td>PC 17592</td><td>39.4</td><td>D28</td><td>S</td><td>1</td></tr><tr><td>856</td><td>3</td><td>Aks, Mrs. Sam (Leah Rosen)</td><td>female</td><td>18.0</td><td>0</td><td>1</td><td>392091</td><td>9.35</td><td>null</td><td>S</td><td>1</td></tr><tr><td>857</td><td>1</td><td>Wick, Mrs. George Dennick (Mary Hitchcock)</td><td>female</td><td>45.0</td><td>1</td><td>1</td><td>36928</td><td>164.8667</td><td>null</td><td>S</td><td>1</td></tr><tr><td>858</td><td>1</td><td>Daly, Mr. Peter Denis </td><td>male</td><td>51.0</td><td>0</td><td>0</td><td>113055</td><td>26.55</td><td>E17</td><td>S</td><td>1</td></tr><tr><td>859</td><td>3</td><td>Baclini, Mrs. Solomon (Latifa Qurban)</td><td>female</td><td>24.0</td><td>0</td><td>3</td><td>2666</td><td>19.2583</td><td>null</td><td>C</td><td>1</td></tr><tr><td>863</td><td>1</td><td>Swift, Mrs. Frederick Joel (Margaret Welles Barron)</td><td>female</td><td>48.0</td><td>0</td><td>0</td><td>17466</td><td>25.9292</td><td>D17</td><td>S</td><td>1</td></tr><tr><td>866</td><td>2</td><td>Bystrom, Mrs. (Karolina)</td><td>female</td><td>42.0</td><td>0</td><td>0</td><td>236852</td><td>13.0</td><td>null</td><td>S</td><td>1</td></tr><tr><td>867</td><td>2</td><td>Duran y More, Miss. Asuncion</td><td>female</td><td>27.0</td><td>1</td><td>0</td><td>SC/PARIS 2149</td><td>13.8583</td><td>null</td><td>C</td><td>1</td></tr><tr><td>870</td><td>3</td><td>Johnson, Master. Harold Theodor</td><td>male</td><td>4.0</td><td>1</td><td>1</td><td>347742</td><td>11.1333</td><td>null</td><td>S</td><td>1</td></tr><tr><td>872</td><td>1</td><td>Beckwith, Mrs. Richard Leonard (Sallie Monypeny)</td><td>female</td><td>47.0</td><td>1</td><td>1</td><td>11751</td><td>52.5542</td><td>D35</td><td>S</td><td>1</td></tr><tr><td>875</td><td>2</td><td>Abelson, Mrs. Samuel (Hannah Wizosky)</td><td>female</td><td>28.0</td><td>1</td><td>0</td><td>P/PP 3381</td><td>24.0</td><td>null</td><td>C</td><td>1</td></tr><tr><td>876</td><td>3</td><td>\"Najib, Miss. Adele Kiamie \"\"Jane\"\"\"</td><td>female</td><td>15.0</td><td>0</td><td>0</td><td>2667</td><td>7.225</td><td>null</td><td>C</td><td>1</td></tr><tr><td>880</td><td>1</td><td>Potter, Mrs. Thomas Jr (Lily Alexenia Wilson)</td><td>female</td><td>56.0</td><td>0</td><td>1</td><td>11767</td><td>83.1583</td><td>C50</td><td>C</td><td>1</td></tr><tr><td>881</td><td>2</td><td>Shelley, Mrs. William (Imanita Parrish Hall)</td><td>female</td><td>25.0</td><td>0</td><td>1</td><td>230433</td><td>26.0</td><td>null</td><td>S</td><td>1</td></tr><tr><td>888</td><td>1</td><td>Graham, Miss. Margaret Edith</td><td>female</td><td>19.0</td><td>0</td><td>0</td><td>112053</td><td>30.0</td><td>B42</td><td>S</td><td>1</td></tr><tr><td>890</td><td>1</td><td>Behr, Mr. Karl Howell</td><td>male</td><td>26.0</td><td>0</td><td>0</td><td>111369</td><td>30.0</td><td>C148</td><td>C</td><td>1</td></tr></tbody></table></div>"
      ]
     },
     "metadata": {
      "application/vnd.databricks.v1+output": {
       "addedWidgets": {},
       "aggData": [],
       "aggError": "",
       "aggOverflow": false,
       "aggSchema": [],
       "aggSeriesLimitReached": false,
       "aggType": "",
       "arguments": {},
       "columnCustomDisplayInfos": {},
       "data": [
        [
         "2",
         1,
         "Cumings, Mrs. John Bradley (Florence Briggs Thayer)",
         "female",
         38.0,
         1,
         0,
         "PC 17599",
         71.2833,
         "C85",
         "C",
         1
        ],
        [
         "3",
         3,
         "Heikkinen, Miss. Laina",
         "female",
         26.0,
         0,
         0,
         "STON/O2. 3101282",
         7.925,
         null,
         "S",
         1
        ],
        [
         "4",
         1,
         "Futrelle, Mrs. Jacques Heath (Lily May Peel)",
         "female",
         35.0,
         1,
         0,
         "113803",
         53.1,
         "C123",
         "S",
         1
        ],
        [
         "9",
         3,
         "Johnson, Mrs. Oscar W (Elisabeth Vilhelmina Berg)",
         "female",
         27.0,
         0,
         2,
         "347742",
         11.1333,
         null,
         "S",
         1
        ],
        [
         "10",
         2,
         "Nasser, Mrs. Nicholas (Adele Achem)",
         "female",
         14.0,
         1,
         0,
         "237736",
         30.0708,
         null,
         "C",
         1
        ],
        [
         "11",
         3,
         "Sandstrom, Miss. Marguerite Rut",
         "female",
         4.0,
         1,
         1,
         "PP 9549",
         16.7,
         "G6",
         "S",
         1
        ],
        [
         "12",
         1,
         "Bonnell, Miss. Elizabeth",
         "female",
         58.0,
         0,
         0,
         "113783",
         26.55,
         "C103",
         "S",
         1
        ],
        [
         "16",
         2,
         "Hewlett, Mrs. (Mary D Kingcome) ",
         "female",
         55.0,
         0,
         0,
         "248706",
         16.0,
         null,
         "S",
         1
        ],
        [
         "18",
         2,
         "Williams, Mr. Charles Eugene",
         "male",
         null,
         0,
         0,
         "244373",
         13.0,
         null,
         "S",
         1
        ],
        [
         "20",
         3,
         "Masselmani, Mrs. Fatima",
         "female",
         null,
         0,
         0,
         "2649",
         7.225,
         null,
         "C",
         1
        ],
        [
         "22",
         2,
         "Beesley, Mr. Lawrence",
         "male",
         34.0,
         0,
         0,
         "248698",
         13.0,
         "D56",
         "S",
         1
        ],
        [
         "23",
         3,
         "\"McGowan, Miss. Anna \"\"Annie\"\"\"",
         "female",
         15.0,
         0,
         0,
         "330923",
         8.0292,
         null,
         "Q",
         1
        ],
        [
         "24",
         1,
         "Sloper, Mr. William Thompson",
         "male",
         28.0,
         0,
         0,
         "113788",
         35.5,
         "A6",
         "S",
         1
        ],
        [
         "26",
         3,
         "Asplund, Mrs. Carl Oscar (Selma Augusta Emilia Johansson)",
         "female",
         38.0,
         1,
         5,
         "347077",
         31.3875,
         null,
         "S",
         1
        ],
        [
         "29",
         3,
         "\"O'Dwyer, Miss. Ellen \"\"Nellie\"\"\"",
         "female",
         null,
         0,
         0,
         "330959",
         7.8792,
         null,
         "Q",
         1
        ],
        [
         "32",
         1,
         "Spencer, Mrs. William Augustus (Marie Eugenie)",
         "female",
         null,
         1,
         0,
         "PC 17569",
         146.5208,
         "B78",
         "C",
         1
        ],
        [
         "33",
         3,
         "Glynn, Miss. Mary Agatha",
         "female",
         null,
         0,
         0,
         "335677",
         7.75,
         null,
         "Q",
         1
        ],
        [
         "37",
         3,
         "Mamee, Mr. Hanna",
         "male",
         null,
         0,
         0,
         "2677",
         7.2292,
         null,
         "C",
         1
        ],
        [
         "40",
         3,
         "Nicola-Yarred, Miss. Jamila",
         "female",
         14.0,
         1,
         0,
         "2651",
         11.2417,
         null,
         "C",
         1
        ],
        [
         "44",
         2,
         "Laroche, Miss. Simonne Marie Anne Andree",
         "female",
         3.0,
         1,
         2,
         "SC/Paris 2123",
         41.5792,
         null,
         "C",
         1
        ],
        [
         "45",
         3,
         "Devaney, Miss. Margaret Delia",
         "female",
         19.0,
         0,
         0,
         "330958",
         7.8792,
         null,
         "Q",
         1
        ],
        [
         "48",
         3,
         "O'Driscoll, Miss. Bridget",
         "female",
         null,
         0,
         0,
         "14311",
         7.75,
         null,
         "Q",
         1
        ],
        [
         "53",
         1,
         "Harper, Mrs. Henry Sleeper (Myna Haxtun)",
         "female",
         49.0,
         1,
         0,
         "PC 17572",
         76.7292,
         "D33",
         "C",
         1
        ],
        [
         "54",
         2,
         "Faunthorpe, Mrs. Lizzie (Elizabeth Anne Wilkinson)",
         "female",
         29.0,
         1,
         0,
         "2926",
         26.0,
         null,
         "S",
         1
        ],
        [
         "56",
         1,
         "Woolner, Mr. Hugh",
         "male",
         null,
         0,
         0,
         "19947",
         35.5,
         "C52",
         "S",
         1
        ],
        [
         "57",
         2,
         "Rugg, Miss. Emily",
         "female",
         21.0,
         0,
         0,
         "C.A. 31026",
         10.5,
         null,
         "S",
         1
        ],
        [
         "59",
         2,
         "West, Miss. Constance Mirium",
         "female",
         5.0,
         1,
         2,
         "C.A. 34651",
         27.75,
         null,
         "S",
         1
        ],
        [
         "62",
         1,
         "Icard, Miss. Amelie",
         "female",
         38.0,
         0,
         0,
         "113572",
         80.0,
         "B28",
         null,
         1
        ],
        [
         "66",
         3,
         "Moubarek, Master. Gerios",
         "male",
         null,
         1,
         1,
         "2661",
         15.2458,
         null,
         "C",
         1
        ],
        [
         "67",
         2,
         "Nye, Mrs. (Elizabeth Ramell)",
         "female",
         29.0,
         0,
         0,
         "C.A. 29395",
         10.5,
         "F33",
         "S",
         1
        ],
        [
         "69",
         3,
         "Andersson, Miss. Erna Alexandra",
         "female",
         17.0,
         4,
         2,
         "3101281",
         7.925,
         null,
         "S",
         1
        ],
        [
         "75",
         3,
         "Bing, Mr. Lee",
         "male",
         32.0,
         0,
         0,
         "1601",
         56.4958,
         null,
         "S",
         1
        ],
        [
         "79",
         2,
         "Caldwell, Master. Alden Gates",
         "male",
         0.83,
         0,
         2,
         "248738",
         29.0,
         null,
         "S",
         1
        ],
        [
         "80",
         3,
         "Dowdell, Miss. Elizabeth",
         "female",
         30.0,
         0,
         0,
         "364516",
         12.475,
         null,
         "S",
         1
        ],
        [
         "82",
         3,
         "Sheerlinck, Mr. Jan Baptist",
         "male",
         29.0,
         0,
         0,
         "345779",
         9.5,
         null,
         "S",
         1
        ],
        [
         "83",
         3,
         "McDermott, Miss. Brigdet Delia",
         "female",
         null,
         0,
         0,
         "330932",
         7.7875,
         null,
         "Q",
         1
        ],
        [
         "85",
         2,
         "Ilett, Miss. Bertha",
         "female",
         17.0,
         0,
         0,
         "SO/C 14885",
         10.5,
         null,
         "S",
         1
        ],
        [
         "86",
         3,
         "Backstrom, Mrs. Karl Alfred (Maria Mathilda Gustafsson)",
         "female",
         33.0,
         3,
         0,
         "3101278",
         15.85,
         null,
         "S",
         1
        ],
        [
         "89",
         1,
         "Fortune, Miss. Mabel Helen",
         "female",
         23.0,
         3,
         2,
         "19950",
         263.0,
         "C23 C25 C27",
         "S",
         1
        ],
        [
         "98",
         1,
         "Greenfield, Mr. William Bertram",
         "male",
         23.0,
         0,
         1,
         "PC 17759",
         63.3583,
         "D10 D12",
         "C",
         1
        ],
        [
         "99",
         2,
         "Doling, Mrs. John T (Ada Julia Bone)",
         "female",
         34.0,
         0,
         1,
         "231919",
         23.0,
         null,
         "S",
         1
        ],
        [
         "107",
         3,
         "Salkjelsvik, Miss. Anna Kristine",
         "female",
         21.0,
         0,
         0,
         "343120",
         7.65,
         null,
         "S",
         1
        ],
        [
         "108",
         3,
         "Moss, Mr. Albert Johan",
         "male",
         null,
         0,
         0,
         "312991",
         7.775,
         null,
         "S",
         1
        ],
        [
         "110",
         3,
         "Moran, Miss. Bertha",
         "female",
         null,
         1,
         0,
         "371110",
         24.15,
         null,
         "Q",
         1
        ],
        [
         "124",
         2,
         "Webber, Miss. Susan",
         "female",
         32.5,
         0,
         0,
         "27267",
         13.0,
         "E101",
         "S",
         1
        ],
        [
         "126",
         3,
         "Nicola-Yarred, Master. Elias",
         "male",
         12.0,
         1,
         0,
         "2651",
         11.2417,
         null,
         "C",
         1
        ],
        [
         "128",
         3,
         "Madsen, Mr. Fridtjof Arne",
         "male",
         24.0,
         0,
         0,
         "C 17369",
         7.1417,
         null,
         "S",
         1
        ],
        [
         "129",
         3,
         "Peter, Miss. Anna",
         "female",
         null,
         1,
         1,
         "2668",
         22.3583,
         "F E69",
         "C",
         1
        ],
        [
         "134",
         2,
         "Weisz, Mrs. Leopold (Mathilde Francoise Pede)",
         "female",
         29.0,
         1,
         0,
         "228414",
         26.0,
         null,
         "S",
         1
        ],
        [
         "137",
         1,
         "Newsom, Miss. Helen Monypeny",
         "female",
         19.0,
         0,
         2,
         "11752",
         26.2833,
         "D47",
         "S",
         1
        ],
        [
         "142",
         3,
         "Nysten, Miss. Anna Sofia",
         "female",
         22.0,
         0,
         0,
         "347081",
         7.75,
         null,
         "S",
         1
        ],
        [
         "143",
         3,
         "Hakkarainen, Mrs. Pekka Pietari (Elin Matilda Dolck)",
         "female",
         24.0,
         1,
         0,
         "STON/O2. 3101279",
         15.85,
         null,
         "S",
         1
        ],
        [
         "147",
         3,
         "\"Andersson, Mr. August Edvard (\"\"Wennerstrom\"\")\"",
         "male",
         27.0,
         0,
         0,
         "350043",
         7.7958,
         null,
         "S",
         1
        ],
        [
         "152",
         1,
         "Pears, Mrs. Thomas (Edith Wearne)",
         "female",
         22.0,
         1,
         0,
         "113776",
         66.6,
         "C2",
         "S",
         1
        ],
        [
         "157",
         3,
         "\"Gilnagh, Miss. Katherine \"\"Katie\"\"\"",
         "female",
         16.0,
         0,
         0,
         "35851",
         7.7333,
         null,
         "Q",
         1
        ],
        [
         "162",
         2,
         "\"Watt, Mrs. James (Elizabeth \"\"Bessie\"\" Inglis Milne)\"",
         "female",
         40.0,
         0,
         0,
         "C.A. 33595",
         15.75,
         null,
         "S",
         1
        ],
        [
         "166",
         3,
         "\"Goldsmith, Master. Frank John William \"\"Frankie\"\"\"",
         "male",
         9.0,
         0,
         2,
         "363291",
         20.525,
         null,
         "S",
         1
        ],
        [
         "167",
         1,
         "Chibnall, Mrs. (Edith Martha Bowerman)",
         "female",
         null,
         0,
         1,
         "113505",
         55.0,
         "E33",
         "S",
         1
        ],
        [
         "173",
         3,
         "Johnson, Miss. Eleanor Ileen",
         "female",
         1.0,
         1,
         1,
         "347742",
         11.1333,
         null,
         "S",
         1
        ],
        [
         "184",
         2,
         "Becker, Master. Richard F",
         "male",
         1.0,
         2,
         1,
         "230136",
         39.0,
         "F4",
         "S",
         1
        ],
        [
         "185",
         3,
         "Kink-Heilmann, Miss. Luise Gretchen",
         "female",
         4.0,
         0,
         2,
         "315153",
         22.025,
         null,
         "S",
         1
        ],
        [
         "187",
         3,
         "\"O'Brien, Mrs. Thomas (Johanna \"\"Hannah\"\" Godfrey)\"",
         "female",
         null,
         1,
         0,
         "370365",
         15.5,
         null,
         "Q",
         1
        ],
        [
         "188",
         1,
         "\"Romaine, Mr. Charles Hallace (\"\"Mr C Rolmane\"\")\"",
         "male",
         45.0,
         0,
         0,
         "111428",
         26.55,
         null,
         "S",
         1
        ],
        [
         "191",
         2,
         "Pinsky, Mrs. (Rosa)",
         "female",
         32.0,
         0,
         0,
         "234604",
         13.0,
         null,
         "S",
         1
        ],
        [
         "193",
         3,
         "Andersen-Jensen, Miss. Carla Christine Nielsine",
         "female",
         19.0,
         1,
         0,
         "350046",
         7.8542,
         null,
         "S",
         1
        ],
        [
         "194",
         2,
         "Navratil, Master. Michel M",
         "male",
         3.0,
         1,
         1,
         "230080",
         26.0,
         "F2",
         "S",
         1
        ],
        [
         "195",
         1,
         "Brown, Mrs. James Joseph (Margaret Tobin)",
         "female",
         44.0,
         0,
         0,
         "PC 17610",
         27.7208,
         "B4",
         "C",
         1
        ],
        [
         "196",
         1,
         "Lurette, Miss. Elise",
         "female",
         58.0,
         0,
         0,
         "PC 17569",
         146.5208,
         "B80",
         "C",
         1
        ],
        [
         "199",
         3,
         "\"Madigan, Miss. Margaret \"\"Maggie\"\"\"",
         "female",
         null,
         0,
         0,
         "370370",
         7.75,
         null,
         "Q",
         1
        ],
        [
         "205",
         3,
         "\"Cohen, Mr. Gurshon \"\"Gus\"\"\"",
         "male",
         18.0,
         0,
         0,
         "A/5 3540",
         8.05,
         null,
         "S",
         1
        ],
        [
         "208",
         3,
         "Albimona, Mr. Nassef Cassem",
         "male",
         26.0,
         0,
         0,
         "2699",
         18.7875,
         null,
         "C",
         1
        ],
        [
         "209",
         3,
         "\"Carr, Miss. Helen \"\"Ellen\"\"\"",
         "female",
         16.0,
         0,
         0,
         "367231",
         7.75,
         null,
         "Q",
         1
        ],
        [
         "210",
         1,
         "Blank, Mr. Henry",
         "male",
         40.0,
         0,
         0,
         "112277",
         31.0,
         "A31",
         "C",
         1
        ],
        [
         "212",
         2,
         "Cameron, Miss. Clear Annie",
         "female",
         35.0,
         0,
         0,
         "F.C.C. 13528",
         21.0,
         null,
         "S",
         1
        ],
        [
         "216",
         1,
         "Newell, Miss. Madeleine",
         "female",
         31.0,
         1,
         0,
         "35273",
         113.275,
         "D36",
         "C",
         1
        ],
        [
         "217",
         3,
         "Honkanen, Miss. Eliina",
         "female",
         27.0,
         0,
         0,
         "STON/O2. 3101283",
         7.925,
         null,
         "S",
         1
        ],
        [
         "219",
         1,
         "Bazzani, Miss. Albina",
         "female",
         32.0,
         0,
         0,
         "11813",
         76.2917,
         "D15",
         "C",
         1
        ],
        [
         "221",
         3,
         "Sunderland, Mr. Victor Francis",
         "male",
         16.0,
         0,
         0,
         "SOTON/OQ 392089",
         8.05,
         null,
         "S",
         1
        ],
        [
         "225",
         1,
         "Hoyt, Mr. Frederick Maxfield",
         "male",
         38.0,
         1,
         0,
         "19943",
         90.0,
         "C93",
         "S",
         1
        ],
        [
         "227",
         2,
         "Mellors, Mr. William John",
         "male",
         19.0,
         0,
         0,
         "SW/PP 751",
         10.5,
         null,
         "S",
         1
        ],
        [
         "231",
         1,
         "Harris, Mrs. Henry Birkhardt (Irene Wallach)",
         "female",
         35.0,
         1,
         0,
         "36973",
         83.475,
         "C83",
         "S",
         1
        ],
        [
         "234",
         3,
         "Asplund, Miss. Lillian Gertrud",
         "female",
         5.0,
         4,
         2,
         "347077",
         31.3875,
         null,
         "S",
         1
        ],
        [
         "238",
         2,
         "\"Collyer, Miss. Marjorie \"\"Lottie\"\"\"",
         "female",
         8.0,
         0,
         2,
         "C.A. 31921",
         26.25,
         null,
         "S",
         1
        ],
        [
         "242",
         3,
         "\"Murphy, Miss. Katherine \"\"Kate\"\"\"",
         "female",
         null,
         1,
         0,
         "367230",
         15.5,
         null,
         "Q",
         1
        ],
        [
         "248",
         2,
         "Hamalainen, Mrs. William (Anna)",
         "female",
         24.0,
         0,
         2,
         "250649",
         14.5,
         null,
         "S",
         1
        ],
        [
         "249",
         1,
         "Beckwith, Mr. Richard Leonard",
         "male",
         37.0,
         1,
         1,
         "11751",
         52.5542,
         "D35",
         "S",
         1
        ],
        [
         "256",
         3,
         "Touma, Mrs. Darwis (Hanne Youssef Razi)",
         "female",
         29.0,
         0,
         2,
         "2650",
         15.2458,
         null,
         "C",
         1
        ],
        [
         "257",
         1,
         "Thorne, Mrs. Gertrude Maybelle",
         "female",
         null,
         0,
         0,
         "PC 17585",
         79.2,
         null,
         "C",
         1
        ],
        [
         "258",
         1,
         "Cherry, Miss. Gladys",
         "female",
         30.0,
         0,
         0,
         "110152",
         86.5,
         "B77",
         "S",
         1
        ],
        [
         "259",
         1,
         "Ward, Miss. Anna",
         "female",
         35.0,
         0,
         0,
         "PC 17755",
         512.3292,
         null,
         "C",
         1
        ],
        [
         "260",
         2,
         "Parrish, Mrs. (Lutie Davis)",
         "female",
         50.0,
         0,
         1,
         "230433",
         26.0,
         null,
         "S",
         1
        ],
        [
         "262",
         3,
         "Asplund, Master. Edvin Rojj Felix",
         "male",
         3.0,
         4,
         2,
         "347077",
         31.3875,
         null,
         "S",
         1
        ],
        [
         "268",
         3,
         "Persson, Mr. Ernst Ulrik",
         "male",
         25.0,
         1,
         0,
         "347083",
         7.775,
         null,
         "S",
         1
        ],
        [
         "269",
         1,
         "Graham, Mrs. William Thompson (Edith Junkins)",
         "female",
         58.0,
         0,
         1,
         "PC 17582",
         153.4625,
         "C125",
         "S",
         1
        ],
        [
         "270",
         1,
         "Bissette, Miss. Amelia",
         "female",
         35.0,
         0,
         0,
         "PC 17760",
         135.6333,
         "C99",
         "S",
         1
        ],
        [
         "272",
         3,
         "Tornquist, Mr. William Henry",
         "male",
         25.0,
         0,
         0,
         "LINE",
         0.0,
         null,
         "S",
         1
        ],
        [
         "273",
         2,
         "Mellinger, Mrs. (Elizabeth Anne Maidment)",
         "female",
         41.0,
         0,
         1,
         "250644",
         19.5,
         null,
         "S",
         1
        ],
        [
         "275",
         3,
         "\"Healy, Miss. Hanora \"\"Nora\"\"\"",
         "female",
         null,
         0,
         0,
         "370375",
         7.75,
         null,
         "Q",
         1
        ],
        [
         "276",
         1,
         "Andrews, Miss. Kornelia Theodosia",
         "female",
         63.0,
         1,
         0,
         "13502",
         77.9583,
         "D7",
         "S",
         1
        ],
        [
         "280",
         3,
         "Abbott, Mrs. Stanton (Rosa Hunt)",
         "female",
         35.0,
         1,
         1,
         "C.A. 2673",
         20.25,
         null,
         "S",
         1
        ],
        [
         "284",
         3,
         "Dorking, Mr. Edward Arthur",
         "male",
         19.0,
         0,
         0,
         "A/5. 10482",
         8.05,
         null,
         "S",
         1
        ],
        [
         "287",
         3,
         "de Mulder, Mr. Theodore",
         "male",
         30.0,
         0,
         0,
         "345774",
         9.5,
         null,
         "S",
         1
        ],
        [
         "289",
         2,
         "Hosono, Mr. Masabumi",
         "male",
         42.0,
         0,
         0,
         "237798",
         13.0,
         null,
         "S",
         1
        ],
        [
         "290",
         3,
         "Connolly, Miss. Kate",
         "female",
         22.0,
         0,
         0,
         "370373",
         7.75,
         null,
         "Q",
         1
        ],
        [
         "291",
         1,
         "\"Barber, Miss. Ellen \"\"Nellie\"\"\"",
         "female",
         26.0,
         0,
         0,
         "19877",
         78.85,
         null,
         "S",
         1
        ],
        [
         "292",
         1,
         "Bishop, Mrs. Dickinson H (Helen Walton)",
         "female",
         19.0,
         1,
         0,
         "11967",
         91.0792,
         "B49",
         "C",
         1
        ],
        [
         "299",
         1,
         "Saalfeld, Mr. Adolphe",
         "male",
         null,
         0,
         0,
         "19988",
         30.5,
         "C106",
         "S",
         1
        ],
        [
         "300",
         1,
         "Baxter, Mrs. James (Helene DeLaudeniere Chaput)",
         "female",
         50.0,
         0,
         1,
         "PC 17558",
         247.5208,
         "B58 B60",
         "C",
         1
        ],
        [
         "301",
         3,
         "\"Kelly, Miss. Anna Katherine \"\"Annie Kate\"\"\"",
         "female",
         null,
         0,
         0,
         "9234",
         7.75,
         null,
         "Q",
         1
        ],
        [
         "302",
         3,
         "McCoy, Mr. Bernard",
         "male",
         null,
         2,
         0,
         "367226",
         23.25,
         null,
         "Q",
         1
        ],
        [
         "304",
         2,
         "Keane, Miss. Nora A",
         "female",
         null,
         0,
         0,
         "226593",
         12.35,
         "E101",
         "Q",
         1
        ],
        [
         "306",
         1,
         "Allison, Master. Hudson Trevor",
         "male",
         0.92,
         1,
         2,
         "113781",
         151.55,
         "C22 C26",
         "S",
         1
        ],
        [
         "307",
         1,
         "Fleming, Miss. Margaret",
         "female",
         null,
         0,
         0,
         "17421",
         110.8833,
         null,
         "C",
         1
        ],
        [
         "308",
         1,
         "Penasco y Castellana, Mrs. Victor de Satode (Maria Josefa Perez de Soto y Vallejo)",
         "female",
         17.0,
         1,
         0,
         "PC 17758",
         108.9,
         "C65",
         "C",
         1
        ],
        [
         "310",
         1,
         "Francatelli, Miss. Laura Mabel",
         "female",
         30.0,
         0,
         0,
         "PC 17485",
         56.9292,
         "E36",
         "C",
         1
        ],
        [
         "311",
         1,
         "Hays, Miss. Margaret Bechstein",
         "female",
         24.0,
         0,
         0,
         "11767",
         83.1583,
         "C54",
         "C",
         1
        ],
        [
         "312",
         1,
         "Ryerson, Miss. Emily Borie",
         "female",
         18.0,
         2,
         2,
         "PC 17608",
         262.375,
         "B57 B59 B63 B66",
         "C",
         1
        ],
        [
         "316",
         3,
         "Nilsson, Miss. Helmina Josefina",
         "female",
         26.0,
         0,
         0,
         "347470",
         7.8542,
         null,
         "S",
         1
        ],
        [
         "317",
         2,
         "Kantor, Mrs. Sinai (Miriam Sternin)",
         "female",
         24.0,
         1,
         0,
         "244367",
         26.0,
         null,
         "S",
         1
        ],
        [
         "319",
         1,
         "Wick, Miss. Mary Natalie",
         "female",
         31.0,
         0,
         2,
         "36928",
         164.8667,
         "C7",
         "S",
         1
        ],
        [
         "320",
         1,
         "Spedden, Mrs. Frederic Oakley (Margaretta Corning Stone)",
         "female",
         40.0,
         1,
         1,
         "16966",
         134.5,
         "E34",
         "C",
         1
        ],
        [
         "323",
         2,
         "Slayter, Miss. Hilda Mary",
         "female",
         30.0,
         0,
         0,
         "234818",
         12.35,
         null,
         "Q",
         1
        ],
        [
         "324",
         2,
         "Caldwell, Mrs. Albert Francis (Sylvia Mae Harbaugh)",
         "female",
         22.0,
         1,
         1,
         "248738",
         29.0,
         null,
         "S",
         1
        ],
        [
         "326",
         1,
         "Young, Miss. Marie Grice",
         "female",
         36.0,
         0,
         0,
         "PC 17760",
         135.6333,
         "C32",
         "C",
         1
        ],
        [
         "328",
         2,
         "Ball, Mrs. (Ada E Hall)",
         "female",
         36.0,
         0,
         0,
         "28551",
         13.0,
         "D",
         "S",
         1
        ],
        [
         "329",
         3,
         "Goldsmith, Mrs. Frank John (Emily Alice Brown)",
         "female",
         31.0,
         1,
         1,
         "363291",
         20.525,
         null,
         "S",
         1
        ],
        [
         "330",
         1,
         "Hippach, Miss. Jean Gertrude",
         "female",
         16.0,
         0,
         1,
         "111361",
         57.9792,
         "B18",
         "C",
         1
        ],
        [
         "331",
         3,
         "McCoy, Miss. Agnes",
         "female",
         null,
         2,
         0,
         "367226",
         23.25,
         null,
         "Q",
         1
        ],
        [
         "335",
         1,
         "Frauenthal, Mrs. Henry William (Clara Heinsheimer)",
         "female",
         null,
         1,
         0,
         "PC 17611",
         133.65,
         null,
         "S",
         1
        ],
        [
         "338",
         1,
         "Burns, Miss. Elizabeth Margaret",
         "female",
         41.0,
         0,
         0,
         "16966",
         134.5,
         "E40",
         "C",
         1
        ],
        [
         "339",
         3,
         "Dahl, Mr. Karl Edwart",
         "male",
         45.0,
         0,
         0,
         "7598",
         8.05,
         null,
         "S",
         1
        ],
        [
         "341",
         2,
         "Navratil, Master. Edmond Roger",
         "male",
         2.0,
         1,
         1,
         "230080",
         26.0,
         "F2",
         "S",
         1
        ],
        [
         "342",
         1,
         "Fortune, Miss. Alice Elizabeth",
         "female",
         24.0,
         3,
         2,
         "19950",
         263.0,
         "C23 C25 C27",
         "S",
         1
        ],
        [
         "346",
         2,
         "\"Brown, Miss. Amelia \"\"Mildred\"\"\"",
         "female",
         24.0,
         0,
         0,
         "248733",
         13.0,
         "F33",
         "S",
         1
        ],
        [
         "347",
         2,
         "Smith, Miss. Marion Elsie",
         "female",
         40.0,
         0,
         0,
         "31418",
         13.0,
         null,
         "S",
         1
        ],
        [
         "348",
         3,
         "Davison, Mrs. Thomas Henry (Mary E Finck)",
         "female",
         null,
         1,
         0,
         "386525",
         16.1,
         null,
         "S",
         1
        ],
        [
         "349",
         3,
         "\"Coutts, Master. William Loch \"\"William\"\"\"",
         "male",
         3.0,
         1,
         1,
         "C.A. 37671",
         15.9,
         null,
         "S",
         1
        ],
        [
         "357",
         1,
         "Bowerman, Miss. Elsie Edith",
         "female",
         22.0,
         0,
         1,
         "113505",
         55.0,
         "E33",
         "S",
         1
        ],
        [
         "359",
         3,
         "McGovern, Miss. Mary",
         "female",
         null,
         0,
         0,
         "330931",
         7.8792,
         null,
         "Q",
         1
        ],
        [
         "360",
         3,
         "\"Mockler, Miss. Helen Mary \"\"Ellie\"\"\"",
         "female",
         null,
         0,
         0,
         "330980",
         7.8792,
         null,
         "Q",
         1
        ],
        [
         "367",
         1,
         "Warren, Mrs. Frank Manley (Anna Sophia Atkinson)",
         "female",
         60.0,
         1,
         0,
         "110813",
         75.25,
         "D37",
         "C",
         1
        ],
        [
         "368",
         3,
         "Moussa, Mrs. (Mantoura Boulos)",
         "female",
         null,
         0,
         0,
         "2626",
         7.2292,
         null,
         "C",
         1
        ],
        [
         "369",
         3,
         "Jermyn, Miss. Annie",
         "female",
         null,
         0,
         0,
         "14313",
         7.75,
         null,
         "Q",
         1
        ],
        [
         "370",
         1,
         "Aubart, Mme. Leontine Pauline",
         "female",
         24.0,
         0,
         0,
         "PC 17477",
         69.3,
         "B35",
         "C",
         1
        ],
        [
         "371",
         1,
         "Harder, Mr. George Achilles",
         "male",
         25.0,
         1,
         0,
         "11765",
         55.4417,
         "E50",
         "C",
         1
        ],
        [
         "376",
         1,
         "Meyer, Mrs. Edgar Joseph (Leila Saks)",
         "female",
         null,
         1,
         0,
         "PC 17604",
         82.1708,
         null,
         "C",
         1
        ],
        [
         "377",
         3,
         "Landergren, Miss. Aurora Adelia",
         "female",
         22.0,
         0,
         0,
         "C 7077",
         7.25,
         null,
         "S",
         1
        ],
        [
         "381",
         1,
         "Bidois, Miss. Rosalie",
         "female",
         42.0,
         0,
         0,
         "PC 17757",
         227.525,
         null,
         "C",
         1
        ],
        [
         "382",
         3,
         "\"Nakid, Miss. Maria (\"\"Mary\"\")\"",
         "female",
         1.0,
         0,
         2,
         "2653",
         15.7417,
         null,
         "C",
         1
        ],
        [
         "384",
         1,
         "Holverson, Mrs. Alexander Oskar (Mary Aline Towner)",
         "female",
         35.0,
         1,
         0,
         "113789",
         52.0,
         null,
         "S",
         1
        ],
        [
         "388",
         2,
         "Buss, Miss. Kate",
         "female",
         36.0,
         0,
         0,
         "27849",
         13.0,
         null,
         "S",
         1
        ],
        [
         "390",
         2,
         "Lehmann, Miss. Bertha",
         "female",
         17.0,
         0,
         0,
         "SC 1748",
         12.0,
         null,
         "C",
         1
        ],
        [
         "391",
         1,
         "Carter, Mr. William Ernest",
         "male",
         36.0,
         1,
         2,
         "113760",
         120.0,
         "B96 B98",
         "S",
         1
        ],
        [
         "392",
         3,
         "Jansson, Mr. Carl Olof",
         "male",
         21.0,
         0,
         0,
         "350034",
         7.7958,
         null,
         "S",
         1
        ],
        [
         "394",
         1,
         "Newell, Miss. Marjorie",
         "female",
         23.0,
         1,
         0,
         "35273",
         113.275,
         "D36",
         "C",
         1
        ],
        [
         "395",
         3,
         "Sandstrom, Mrs. Hjalmar (Agnes Charlotta Bengtsson)",
         "female",
         24.0,
         0,
         2,
         "PP 9549",
         16.7,
         "G6",
         "S",
         1
        ],
        [
         "400",
         2,
         "Trout, Mrs. William H (Jessie L)",
         "female",
         28.0,
         0,
         0,
         "240929",
         12.65,
         null,
         "S",
         1
        ],
        [
         "401",
         3,
         "Niskanen, Mr. Juha",
         "male",
         39.0,
         0,
         0,
         "STON/O 2. 3101289",
         7.925,
         null,
         "S",
         1
        ],
        [
         "408",
         2,
         "Richards, Master. William Rowe",
         "male",
         3.0,
         1,
         1,
         "29106",
         18.75,
         null,
         "S",
         1
        ],
        [
         "413",
         1,
         "Minahan, Miss. Daisy E",
         "female",
         33.0,
         1,
         0,
         "19928",
         90.0,
         "C78",
         "Q",
         1
        ],
        [
         "415",
         3,
         "Sundman, Mr. Johan Julian",
         "male",
         44.0,
         0,
         0,
         "STON/O 2. 3101269",
         7.925,
         null,
         "S",
         1
        ],
        [
         "417",
         2,
         "Drew, Mrs. James Vivian (Lulu Thorne Christian)",
         "female",
         34.0,
         1,
         1,
         "28220",
         32.5,
         null,
         "S",
         1
        ],
        [
         "418",
         2,
         "Silven, Miss. Lyyli Karoliina",
         "female",
         18.0,
         0,
         2,
         "250652",
         13.0,
         null,
         "S",
         1
        ],
        [
         "427",
         2,
         "Clarke, Mrs. Charles V (Ada Maria Winfield)",
         "female",
         28.0,
         1,
         0,
         "2003",
         26.0,
         null,
         "S",
         1
        ],
        [
         "428",
         2,
         "\"Phillips, Miss. Kate Florence (\"\"Mrs Kate Louise Phillips Marshall\"\")\"",
         "female",
         19.0,
         0,
         0,
         "250655",
         26.0,
         null,
         "S",
         1
        ],
        [
         "430",
         3,
         "Pickard, Mr. Berk (Berk Trembisky)",
         "male",
         32.0,
         0,
         0,
         "SOTON/O.Q. 392078",
         8.05,
         "E10",
         "S",
         1
        ],
        [
         "431",
         1,
         "Bjornstrom-Steffansson, Mr. Mauritz Hakan",
         "male",
         28.0,
         0,
         0,
         "110564",
         26.55,
         "C52",
         "S",
         1
        ],
        [
         "432",
         3,
         "Thorneycroft, Mrs. Percival (Florence Kate White)",
         "female",
         null,
         1,
         0,
         "376564",
         16.1,
         null,
         "S",
         1
        ],
        [
         "433",
         2,
         "Louch, Mrs. Charles Alexander (Alice Adelaide Slow)",
         "female",
         42.0,
         1,
         0,
         "SC/AH 3085",
         26.0,
         null,
         "S",
         1
        ],
        [
         "436",
         1,
         "Carter, Miss. Lucile Polk",
         "female",
         14.0,
         1,
         2,
         "113760",
         120.0,
         "B96 B98",
         "S",
         1
        ],
        [
         "438",
         2,
         "Richards, Mrs. Sidney (Emily Hocking)",
         "female",
         24.0,
         2,
         3,
         "29106",
         18.75,
         null,
         "S",
         1
        ],
        [
         "441",
         2,
         "Hart, Mrs. Benjamin (Esther Ada Bloomfield)",
         "female",
         45.0,
         1,
         1,
         "F.C.C. 13529",
         26.25,
         null,
         "S",
         1
        ],
        [
         "444",
         2,
         "Reynaldo, Ms. Encarnacion",
         "female",
         28.0,
         0,
         0,
         "230434",
         13.0,
         null,
         "S",
         1
        ],
        [
         "445",
         3,
         "Johannesen-Bratthammer, Mr. Bernt",
         "male",
         null,
         0,
         0,
         "65306",
         8.1125,
         null,
         "S",
         1
        ],
        [
         "446",
         1,
         "Dodge, Master. Washington",
         "male",
         4.0,
         0,
         2,
         "33638",
         81.8583,
         "A34",
         "S",
         1
        ],
        [
         "447",
         2,
         "Mellinger, Miss. Madeleine Violet",
         "female",
         13.0,
         0,
         1,
         "250644",
         19.5,
         null,
         "S",
         1
        ],
        [
         "448",
         1,
         "Seward, Mr. Frederic Kimber",
         "male",
         34.0,
         0,
         0,
         "113794",
         26.55,
         null,
         "S",
         1
        ],
        [
         "449",
         3,
         "Baclini, Miss. Marie Catherine",
         "female",
         5.0,
         2,
         1,
         "2666",
         19.2583,
         null,
         "C",
         1
        ],
        [
         "450",
         1,
         "Peuchen, Major. Arthur Godfrey",
         "male",
         52.0,
         0,
         0,
         "113786",
         30.5,
         "C104",
         "S",
         1
        ],
        [
         "454",
         1,
         "Goldenberg, Mr. Samuel L",
         "male",
         49.0,
         1,
         0,
         "17453",
         89.1042,
         "C92",
         "C",
         1
        ],
        [
         "456",
         3,
         "Jalsevac, Mr. Ivan",
         "male",
         29.0,
         0,
         0,
         "349240",
         7.8958,
         null,
         "C",
         1
        ],
        [
         "458",
         1,
         "Kenyon, Mrs. Frederick R (Marion)",
         "female",
         null,
         1,
         0,
         "17464",
         51.8625,
         "D21",
         "S",
         1
        ],
        [
         "459",
         2,
         "Toomey, Miss. Ellen",
         "female",
         50.0,
         0,
         0,
         "F.C.C. 13531",
         10.5,
         null,
         "S",
         1
        ],
        [
         "461",
         1,
         "Anderson, Mr. Harry",
         "male",
         48.0,
         0,
         0,
         "19952",
         26.55,
         "E12",
         "S",
         1
        ],
        [
         "470",
         3,
         "Baclini, Miss. Helene Barbara",
         "female",
         0.75,
         2,
         1,
         "2666",
         19.2583,
         null,
         "C",
         1
        ],
        [
         "473",
         2,
         "West, Mrs. Edwy Arthur (Ada Mary Worth)",
         "female",
         33.0,
         1,
         2,
         "C.A. 34651",
         27.75,
         null,
         "S",
         1
        ],
        [
         "474",
         2,
         "Jerwan, Mrs. Amin S (Marie Marthe Thuillard)",
         "female",
         23.0,
         0,
         0,
         "SC/AH Basle 541",
         13.7917,
         "D",
         "C",
         1
        ],
        [
         "480",
         3,
         "Hirvonen, Miss. Hildur E",
         "female",
         2.0,
         0,
         1,
         "3101298",
         12.2875,
         null,
         "S",
         1
        ],
        [
         "484",
         3,
         "Turkula, Mrs. (Hedwig)",
         "female",
         63.0,
         0,
         0,
         "4134",
         9.5875,
         null,
         "S",
         1
        ],
        [
         "485",
         1,
         "Bishop, Mr. Dickinson H",
         "male",
         25.0,
         1,
         0,
         "11967",
         91.0792,
         "B49",
         "C",
         1
        ],
        [
         "487",
         1,
         "Hoyt, Mrs. Frederick Maxfield (Jane Anne Forby)",
         "female",
         35.0,
         1,
         0,
         "19943",
         90.0,
         "C93",
         "S",
         1
        ],
        [
         "490",
         3,
         "\"Coutts, Master. Eden Leslie \"\"Neville\"\"\"",
         "male",
         9.0,
         1,
         1,
         "C.A. 37671",
         15.9,
         null,
         "S",
         1
        ],
        [
         "497",
         1,
         "Eustis, Miss. Elizabeth Mussey",
         "female",
         54.0,
         1,
         0,
         "36947",
         78.2667,
         "D20",
         "C",
         1
        ],
        [
         "505",
         1,
         "Maioni, Miss. Roberta",
         "female",
         16.0,
         0,
         0,
         "110152",
         86.5,
         "B79",
         "S",
         1
        ],
        [
         "507",
         2,
         "Quick, Mrs. Frederick Charles (Jane Richards)",
         "female",
         33.0,
         0,
         2,
         "26360",
         26.0,
         null,
         "S",
         1
        ],
        [
         "508",
         1,
         "\"Bradley, Mr. George (\"\"George Arthur Brayton\"\")\"",
         "male",
         null,
         0,
         0,
         "111427",
         26.55,
         null,
         "S",
         1
        ],
        [
         "510",
         3,
         "Lang, Mr. Fang",
         "male",
         26.0,
         0,
         0,
         "1601",
         56.4958,
         null,
         "S",
         1
        ],
        [
         "511",
         3,
         "Daly, Mr. Eugene Patrick",
         "male",
         29.0,
         0,
         0,
         "382651",
         7.75,
         null,
         "Q",
         1
        ],
        [
         "513",
         1,
         "McGough, Mr. James Robert",
         "male",
         36.0,
         0,
         0,
         "PC 17473",
         26.2875,
         "E25",
         "S",
         1
        ],
        [
         "514",
         1,
         "Rothschild, Mrs. Martin (Elizabeth L. Barrett)",
         "female",
         54.0,
         1,
         0,
         "PC 17603",
         59.4,
         null,
         "C",
         1
        ],
        [
         "517",
         2,
         "Lemore, Mrs. (Amelia Milley)",
         "female",
         34.0,
         0,
         0,
         "C.A. 34260",
         10.5,
         "F33",
         "S",
         1
        ],
        [
         "519",
         2,
         "\"Angle, Mrs. William A (Florence \"\"Mary\"\" Agnes Hughes)\"",
         "female",
         36.0,
         1,
         0,
         "226875",
         26.0,
         null,
         "S",
         1
        ],
        [
         "521",
         1,
         "Perreault, Miss. Anne",
         "female",
         30.0,
         0,
         0,
         "12749",
         93.5,
         "B73",
         "S",
         1
        ],
        [
         "524",
         1,
         "Hippach, Mrs. Louis Albert (Ida Sophia Fischer)",
         "female",
         44.0,
         0,
         1,
         "111361",
         57.9792,
         "B18",
         "C",
         1
        ],
        [
         "527",
         2,
         "Ridsdale, Miss. Lucy",
         "female",
         50.0,
         0,
         0,
         "W./C. 14258",
         10.5,
         null,
         "S",
         1
        ],
        [
         "531",
         2,
         "Quick, Miss. Phyllis May",
         "female",
         2.0,
         1,
         1,
         "26360",
         26.0,
         null,
         "S",
         1
        ],
        [
         "534",
         3,
         "Peter, Mrs. Catherine (Catherine Rizk)",
         "female",
         null,
         0,
         2,
         "2668",
         22.3583,
         null,
         "C",
         1
        ],
        [
         "536",
         2,
         "Hart, Miss. Eva Miriam",
         "female",
         7.0,
         0,
         2,
         "F.C.C. 13529",
         26.25,
         null,
         "S",
         1
        ],
        [
         "538",
         1,
         "LeRoy, Miss. Bertha",
         "female",
         30.0,
         0,
         0,
         "PC 17761",
         106.425,
         null,
         "C",
         1
        ],
        [
         "540",
         1,
         "Frolicher, Miss. Hedwig Margaritha",
         "female",
         22.0,
         0,
         2,
         "13568",
         49.5,
         "B39",
         "C",
         1
        ],
        [
         "541",
         1,
         "Crosby, Miss. Harriet R",
         "female",
         36.0,
         0,
         2,
         "WE/P 5735",
         71.0,
         "B22",
         "S",
         1
        ],
        [
         "544",
         2,
         "Beane, Mr. Edward",
         "male",
         32.0,
         1,
         0,
         "2908",
         26.0,
         null,
         "S",
         1
        ],
        [
         "547",
         2,
         "Beane, Mrs. Edward (Ethel Clarke)",
         "female",
         19.0,
         1,
         0,
         "2908",
         26.0,
         null,
         "S",
         1
        ],
        [
         "548",
         2,
         "Padro y Manent, Mr. Julian",
         "male",
         null,
         0,
         0,
         "SC/PARIS 2146",
         13.8625,
         null,
         "C",
         1
        ],
        [
         "550",
         2,
         "Davies, Master. John Morgan Jr",
         "male",
         8.0,
         1,
         1,
         "C.A. 33112",
         36.75,
         null,
         "S",
         1
        ],
        [
         "551",
         1,
         "Thayer, Mr. John Borland Jr",
         "male",
         17.0,
         0,
         2,
         "17421",
         110.8833,
         "C70",
         "C",
         1
        ],
        [
         "554",
         3,
         "\"Leeni, Mr. Fahim (\"\"Philip Zenni\"\")\"",
         "male",
         22.0,
         0,
         0,
         "2620",
         7.225,
         null,
         "C",
         1
        ],
        [
         "555",
         3,
         "Ohman, Miss. Velin",
         "female",
         22.0,
         0,
         0,
         "347085",
         7.775,
         null,
         "S",
         1
        ],
        [
         "557",
         1,
         "\"Duff Gordon, Lady. (Lucille Christiana Sutherland) (\"\"Mrs Morgan\"\")\"",
         "female",
         48.0,
         1,
         0,
         "11755",
         39.6,
         "A16",
         "C",
         1
        ],
        [
         "559",
         1,
         "Taussig, Mrs. Emil (Tillie Mandelbaum)",
         "female",
         39.0,
         1,
         1,
         "110413",
         79.65,
         "E67",
         "S",
         1
        ],
        [
         "560",
         3,
         "de Messemaeker, Mrs. Guillaume Joseph (Emma)",
         "female",
         36.0,
         1,
         0,
         "345572",
         17.4,
         null,
         "S",
         1
        ],
        [
         "570",
         3,
         "Jonsson, Mr. Carl",
         "male",
         32.0,
         0,
         0,
         "350417",
         7.8542,
         null,
         "S",
         1
        ],
        [
         "571",
         2,
         "Harris, Mr. George",
         "male",
         62.0,
         0,
         0,
         "S.W./PP 752",
         10.5,
         null,
         "S",
         1
        ],
        [
         "572",
         1,
         "Appleton, Mrs. Edward Dale (Charlotte Lamson)",
         "female",
         53.0,
         2,
         0,
         "11769",
         51.4792,
         "C101",
         "S",
         1
        ],
        [
         "573",
         1,
         "\"Flynn, Mr. John Irwin (\"\"Irving\"\")\"",
         "male",
         36.0,
         0,
         0,
         "PC 17474",
         26.3875,
         "E25",
         "S",
         1
        ],
        [
         "574",
         3,
         "Kelly, Miss. Mary",
         "female",
         null,
         0,
         0,
         "14312",
         7.75,
         null,
         "Q",
         1
        ],
        [
         "577",
         2,
         "Garside, Miss. Ethel",
         "female",
         34.0,
         0,
         0,
         "243880",
         13.0,
         null,
         "S",
         1
        ],
        [
         "578",
         1,
         "Silvey, Mrs. William Baird (Alice Munger)",
         "female",
         39.0,
         1,
         0,
         "13507",
         55.9,
         "E44",
         "S",
         1
        ],
        [
         "580",
         3,
         "Jussila, Mr. Eiriik",
         "male",
         32.0,
         0,
         0,
         "STON/O 2. 3101286",
         7.925,
         null,
         "S",
         1
        ],
        [
         "581",
         2,
         "Christy, Miss. Julie Rachel",
         "female",
         25.0,
         1,
         1,
         "237789",
         30.0,
         null,
         "S",
         1
        ],
        [
         "582",
         1,
         "Thayer, Mrs. John Borland (Marian Longstreth Morris)",
         "female",
         39.0,
         1,
         1,
         "17421",
         110.8833,
         "C68",
         "C",
         1
        ],
        [
         "586",
         1,
         "Taussig, Miss. Ruth",
         "female",
         18.0,
         0,
         2,
         "110413",
         79.65,
         "E68",
         "S",
         1
        ],
        [
         "588",
         1,
         "Frolicher-Stehli, Mr. Maxmillian",
         "male",
         60.0,
         1,
         1,
         "13567",
         79.2,
         "B41",
         "C",
         1
        ],
        [
         "592",
         1,
         "Stephenson, Mrs. Walter Bertram (Martha Eustis)",
         "female",
         52.0,
         1,
         0,
         "36947",
         78.2667,
         "D20",
         "C",
         1
        ],
        [
         "597",
         2,
         "Leitch, Miss. Jessie Wills",
         "female",
         null,
         0,
         0,
         "248727",
         33.0,
         null,
         "S",
         1
        ],
        [
         "600",
         1,
         "\"Duff Gordon, Sir. Cosmo Edmund (\"\"Mr Morgan\"\")\"",
         "male",
         49.0,
         1,
         0,
         "PC 17485",
         56.9292,
         "A20",
         "C",
         1
        ],
        [
         "601",
         2,
         "Jacobsohn, Mrs. Sidney Samuel (Amy Frances Christy)",
         "female",
         24.0,
         2,
         1,
         "243847",
         27.0,
         null,
         "S",
         1
        ],
        [
         "605",
         1,
         "\"Homer, Mr. Harry (\"\"Mr E Haven\"\")\"",
         "male",
         35.0,
         0,
         0,
         "111426",
         26.55,
         null,
         "C",
         1
        ],
        [
         "608",
         1,
         "Daniel, Mr. Robert Williams",
         "male",
         27.0,
         0,
         0,
         "113804",
         30.5,
         null,
         "S",
         1
        ],
        [
         "609",
         2,
         "Laroche, Mrs. Joseph (Juliette Marie Louise Lafargue)",
         "female",
         22.0,
         1,
         2,
         "SC/Paris 2123",
         41.5792,
         null,
         "C",
         1
        ],
        [
         "610",
         1,
         "Shutes, Miss. Elizabeth W",
         "female",
         40.0,
         0,
         0,
         "PC 17582",
         153.4625,
         "C125",
         "S",
         1
        ],
        [
         "613",
         3,
         "Murphy, Miss. Margaret Jane",
         "female",
         null,
         1,
         0,
         "367230",
         15.5,
         null,
         "Q",
         1
        ],
        [
         "616",
         2,
         "Herman, Miss. Alice",
         "female",
         24.0,
         1,
         2,
         "220845",
         65.0,
         null,
         "S",
         1
        ],
        [
         "619",
         2,
         "Becker, Miss. Marion Louise",
         "female",
         4.0,
         2,
         1,
         "230136",
         39.0,
         "F4",
         "S",
         1
        ],
        [
         "622",
         1,
         "Kimball, Mr. Edwin Nelson Jr",
         "male",
         42.0,
         1,
         0,
         "11753",
         52.5542,
         "D19",
         "S",
         1
        ],
        [
         "623",
         3,
         "Nakid, Mr. Sahid",
         "male",
         20.0,
         1,
         1,
         "2653",
         15.7417,
         null,
         "C",
         1
        ],
        [
         "628",
         1,
         "Longley, Miss. Gretchen Fiske",
         "female",
         21.0,
         0,
         0,
         "13502",
         77.9583,
         "D9",
         "S",
         1
        ],
        [
         "631",
         1,
         "Barkworth, Mr. Algernon Henry Wilson",
         "male",
         80.0,
         0,
         0,
         "27042",
         30.0,
         "A23",
         "S",
         1
        ],
        [
         "633",
         1,
         "Stahelin-Maeglin, Dr. Max",
         "male",
         32.0,
         0,
         0,
         "13214",
         30.5,
         "B50",
         "C",
         1
        ],
        [
         "636",
         2,
         "Davis, Miss. Mary",
         "female",
         28.0,
         0,
         0,
         "237668",
         13.0,
         null,
         "S",
         1
        ],
        [
         "642",
         1,
         "Sagesser, Mlle. Emma",
         "female",
         24.0,
         0,
         0,
         "PC 17477",
         69.3,
         "B35",
         "C",
         1
        ],
        [
         "644",
         3,
         "Foo, Mr. Choong",
         "male",
         null,
         0,
         0,
         "1601",
         56.4958,
         null,
         "S",
         1
        ],
        [
         "645",
         3,
         "Baclini, Miss. Eugenie",
         "female",
         0.75,
         2,
         1,
         "2666",
         19.2583,
         null,
         "C",
         1
        ],
        [
         "646",
         1,
         "Harper, Mr. Henry Sleeper",
         "male",
         48.0,
         1,
         0,
         "PC 17572",
         76.7292,
         "D33",
         "C",
         1
        ],
        [
         "648",
         1,
         "Simonius-Blumer, Col. Oberst Alfons",
         "male",
         56.0,
         0,
         0,
         "13213",
         35.5,
         "A26",
         "C",
         1
        ],
        [
         "650",
         3,
         "Stanley, Miss. Amy Zillah Elsie",
         "female",
         23.0,
         0,
         0,
         "CA. 2314",
         7.55,
         null,
         "S",
         1
        ],
        [
         "652",
         2,
         "Doling, Miss. Elsie",
         "female",
         18.0,
         0,
         1,
         "231919",
         23.0,
         null,
         "S",
         1
        ],
        [
         "654",
         3,
         "\"O'Leary, Miss. Hanora \"\"Norah\"\"\"",
         "female",
         null,
         0,
         0,
         "330919",
         7.8292,
         null,
         "Q",
         1
        ],
        [
         "661",
         1,
         "Frauenthal, Dr. Henry William",
         "male",
         50.0,
         2,
         0,
         "PC 17611",
         133.65,
         null,
         "S",
         1
        ],
        [
         "665",
         3,
         "Lindqvist, Mr. Eino William",
         "male",
         20.0,
         1,
         0,
         "STON/O 2. 3101285",
         7.925,
         null,
         "S",
         1
        ],
        [
         "670",
         1,
         "Taylor, Mrs. Elmer Zebley (Juliet Cummins Wright)",
         "female",
         null,
         1,
         0,
         "19996",
         52.0,
         "C126",
         "S",
         1
        ],
        [
         "671",
         2,
         "Brown, Mrs. Thomas William Solomon (Elizabeth Catherine Ford)",
         "female",
         40.0,
         1,
         1,
         "29750",
         39.0,
         null,
         "S",
         1
        ],
        [
         "674",
         2,
         "Wilhelms, Mr. Charles",
         "male",
         31.0,
         0,
         0,
         "244270",
         13.0,
         null,
         "S",
         1
        ],
        [
         "678",
         3,
         "Turja, Miss. Anna Sofia",
         "female",
         18.0,
         0,
         0,
         "4138",
         9.8417,
         null,
         "S",
         1
        ],
        [
         "680",
         1,
         "Cardeza, Mr. Thomas Drake Martinez",
         "male",
         36.0,
         0,
         1,
         "PC 17755",
         512.3292,
         "B51 B53 B55",
         "C",
         1
        ],
        [
         "682",
         1,
         "Hassab, Mr. Hammad",
         "male",
         27.0,
         0,
         0,
         "PC 17572",
         76.7292,
         "D49",
         "C",
         1
        ],
        [
         "690",
         1,
         "Madill, Miss. Georgette Alexandra",
         "female",
         15.0,
         0,
         1,
         "24160",
         211.3375,
         "B5",
         "S",
         1
        ],
        [
         "691",
         1,
         "Dick, Mr. Albert Adrian",
         "male",
         31.0,
         1,
         0,
         "17474",
         57.0,
         "B20",
         "S",
         1
        ],
        [
         "692",
         3,
         "Karun, Miss. Manca",
         "female",
         4.0,
         0,
         1,
         "349256",
         13.4167,
         null,
         "C",
         1
        ],
        [
         "693",
         3,
         "Lam, Mr. Ali",
         "male",
         null,
         0,
         0,
         "1601",
         56.4958,
         null,
         "S",
         1
        ],
        [
         "698",
         3,
         "\"Mullens, Miss. Katherine \"\"Katie\"\"\"",
         "female",
         null,
         0,
         0,
         "35852",
         7.7333,
         null,
         "Q",
         1
        ],
        [
         "701",
         1,
         "Astor, Mrs. John Jacob (Madeleine Talmadge Force)",
         "female",
         18.0,
         1,
         0,
         "PC 17757",
         227.525,
         "C62 C64",
         "C",
         1
        ],
        [
         "702",
         1,
         "Silverthorne, Mr. Spencer Victor",
         "male",
         35.0,
         0,
         0,
         "PC 17475",
         26.2875,
         "E24",
         "S",
         1
        ],
        [
         "707",
         2,
         "\"Kelly, Mrs. Florence \"\"Fannie\"\"\"",
         "female",
         45.0,
         0,
         0,
         "223596",
         13.5,
         null,
         "S",
         1
        ],
        [
         "708",
         1,
         "Calderhead, Mr. Edward Pennington",
         "male",
         42.0,
         0,
         0,
         "PC 17476",
         26.2875,
         "E24",
         "S",
         1
        ],
        [
         "709",
         1,
         "Cleaver, Miss. Alice",
         "female",
         22.0,
         0,
         0,
         "113781",
         151.55,
         null,
         "S",
         1
        ],
        [
         "710",
         3,
         "\"Moubarek, Master. Halim Gonios (\"\"William George\"\")\"",
         "male",
         null,
         1,
         1,
         "2661",
         15.2458,
         null,
         "C",
         1
        ],
        [
         "711",
         1,
         "\"Mayne, Mlle. Berthe Antonine (\"\"Mrs de Villiers\"\")\"",
         "female",
         24.0,
         0,
         0,
         "PC 17482",
         49.5042,
         "C90",
         "C",
         1
        ],
        [
         "713",
         1,
         "Taylor, Mr. Elmer Zebley",
         "male",
         48.0,
         1,
         0,
         "19996",
         52.0,
         "C126",
         "S",
         1
        ],
        [
         "717",
         1,
         "Endres, Miss. Caroline Louise",
         "female",
         38.0,
         0,
         0,
         "PC 17757",
         227.525,
         "C45",
         "C",
         1
        ],
        [
         "718",
         2,
         "\"Troutt, Miss. Edwina Celia \"\"Winnie\"\"\"",
         "female",
         27.0,
         0,
         0,
         "34218",
         10.5,
         "E101",
         "S",
         1
        ],
        [
         "721",
         2,
         "\"Harper, Miss. Annie Jessie \"\"Nina\"\"\"",
         "female",
         6.0,
         0,
         1,
         "248727",
         33.0,
         null,
         "S",
         1
        ],
        [
         "725",
         1,
         "Chambers, Mr. Norman Campbell",
         "male",
         27.0,
         1,
         0,
         "113806",
         53.1,
         "E8",
         "S",
         1
        ],
        [
         "727",
         2,
         "Renouf, Mrs. Peter Henry (Lillian Jefferys)",
         "female",
         30.0,
         3,
         0,
         "31027",
         21.0,
         null,
         "S",
         1
        ],
        [
         "728",
         3,
         "Mannion, Miss. Margareth",
         "female",
         null,
         0,
         0,
         "36866",
         7.7375,
         null,
         "Q",
         1
        ],
        [
         "731",
         1,
         "Allen, Miss. Elisabeth Walton",
         "female",
         29.0,
         0,
         0,
         "24160",
         211.3375,
         "B5",
         "S",
         1
        ],
        [
         "738",
         1,
         "Lesurer, Mr. Gustave J",
         "male",
         35.0,
         0,
         0,
         "PC 17755",
         512.3292,
         "B101",
         "C",
         1
        ],
        [
         "741",
         1,
         "Hawksford, Mr. Walter James",
         "male",
         null,
         0,
         0,
         "16988",
         30.0,
         "D45",
         "S",
         1
        ],
        [
         "743",
         1,
         "\"Ryerson, Miss. Susan Parker \"\"Suzette\"\"\"",
         "female",
         21.0,
         2,
         2,
         "PC 17608",
         262.375,
         "B57 B59 B63 B66",
         "C",
         1
        ],
        [
         "745",
         3,
         "Stranden, Mr. Juho",
         "male",
         31.0,
         0,
         0,
         "STON/O 2. 3101288",
         7.925,
         null,
         "S",
         1
        ],
        [
         "748",
         2,
         "Sinkkonen, Miss. Anna",
         "female",
         30.0,
         0,
         0,
         "250648",
         13.0,
         null,
         "S",
         1
        ],
        [
         "751",
         2,
         "Wells, Miss. Joan",
         "female",
         4.0,
         1,
         1,
         "29103",
         23.0,
         null,
         "S",
         1
        ],
        [
         "752",
         3,
         "Moor, Master. Meier",
         "male",
         6.0,
         0,
         1,
         "392096",
         12.475,
         "E121",
         "S",
         1
        ],
        [
         "755",
         2,
         "Herman, Mrs. Samuel (Jane Laver)",
         "female",
         48.0,
         1,
         2,
         "220845",
         65.0,
         null,
         "S",
         1
        ],
        [
         "756",
         2,
         "Hamalainen, Master. Viljo",
         "male",
         0.67,
         1,
         1,
         "250649",
         14.5,
         null,
         "S",
         1
        ],
        [
         "760",
         1,
         "Rothes, the Countess. of (Lucy Noel Martha Dyer-Edwards)",
         "female",
         33.0,
         0,
         0,
         "110152",
         86.5,
         "B77",
         "S",
         1
        ],
        [
         "763",
         3,
         "Barah, Mr. Hanna Assi",
         "male",
         20.0,
         0,
         0,
         "2663",
         7.2292,
         null,
         "C",
         1
        ],
        [
         "764",
         1,
         "Carter, Mrs. William Ernest (Lucile Polk)",
         "female",
         36.0,
         1,
         2,
         "113760",
         120.0,
         "B96 B98",
         "S",
         1
        ],
        [
         "766",
         1,
         "Hogeboom, Mrs. John C (Anna Andrews)",
         "female",
         51.0,
         1,
         0,
         "13502",
         77.9583,
         "D11",
         "S",
         1
        ],
        [
         "775",
         2,
         "Hocking, Mrs. Elizabeth (Eliza Needs)",
         "female",
         54.0,
         1,
         3,
         "29105",
         23.0,
         null,
         "S",
         1
        ],
        [
         "778",
         3,
         "Emanuel, Miss. Virginia Ethel",
         "female",
         5.0,
         0,
         0,
         "364516",
         12.475,
         null,
         "S",
         1
        ],
        [
         "780",
         1,
         "Robert, Mrs. Edward Scott (Elisabeth Walton McMillan)",
         "female",
         43.0,
         0,
         1,
         "24160",
         211.3375,
         "B3",
         "S",
         1
        ],
        [
         "781",
         3,
         "Ayoub, Miss. Banoura",
         "female",
         13.0,
         0,
         0,
         "2687",
         7.2292,
         null,
         "C",
         1
        ],
        [
         "782",
         1,
         "Dick, Mrs. Albert Adrian (Vera Gillespie)",
         "female",
         17.0,
         1,
         0,
         "17474",
         57.0,
         "B20",
         "S",
         1
        ],
        [
         "787",
         3,
         "Sjoblom, Miss. Anna Sofia",
         "female",
         18.0,
         0,
         0,
         "3101265",
         7.4958,
         null,
         "S",
         1
        ],
        [
         "789",
         3,
         "Dean, Master. Bertram Vere",
         "male",
         1.0,
         1,
         2,
         "C.A. 2315",
         20.575,
         null,
         "S",
         1
        ],
        [
         "797",
         1,
         "Leader, Dr. Alice (Farnham)",
         "female",
         49.0,
         0,
         0,
         "17465",
         25.9292,
         "D17",
         "S",
         1
        ],
        [
         "798",
         3,
         "Osman, Mrs. Mara",
         "female",
         31.0,
         0,
         0,
         "349244",
         8.6833,
         null,
         "S",
         1
        ],
        [
         "802",
         2,
         "Collyer, Mrs. Harvey (Charlotte Annie Tate)",
         "female",
         31.0,
         1,
         1,
         "C.A. 31921",
         26.25,
         null,
         "S",
         1
        ],
        [
         "803",
         1,
         "Carter, Master. William Thornton II",
         "male",
         11.0,
         1,
         2,
         "113760",
         120.0,
         "B96 B98",
         "S",
         1
        ],
        [
         "804",
         3,
         "Thomas, Master. Assad Alexander",
         "male",
         0.42,
         0,
         1,
         "2625",
         8.5167,
         null,
         "C",
         1
        ],
        [
         "805",
         3,
         "Hedman, Mr. Oskar Arvid",
         "male",
         27.0,
         0,
         0,
         "347089",
         6.975,
         null,
         "S",
         1
        ],
        [
         "810",
         1,
         "Chambers, Mrs. Norman Campbell (Bertha Griggs)",
         "female",
         33.0,
         1,
         0,
         "113806",
         53.1,
         "E8",
         "S",
         1
        ],
        [
         "821",
         1,
         "Hays, Mrs. Charles Melville (Clara Jennings Gregg)",
         "female",
         52.0,
         1,
         1,
         "12749",
         93.5,
         "B69",
         "S",
         1
        ],
        [
         "822",
         3,
         "Lulic, Mr. Nikola",
         "male",
         27.0,
         0,
         0,
         "315098",
         8.6625,
         null,
         "S",
         1
        ],
        [
         "824",
         3,
         "Moor, Mrs. (Beila)",
         "female",
         27.0,
         0,
         1,
         "392096",
         12.475,
         "E121",
         "S",
         1
        ],
        [
         "828",
         2,
         "Mallet, Master. Andre",
         "male",
         1.0,
         0,
         2,
         "S.C./PARIS 2079",
         37.0042,
         null,
         "C",
         1
        ],
        [
         "829",
         3,
         "McCormack, Mr. Thomas Joseph",
         "male",
         null,
         0,
         0,
         "367228",
         7.75,
         null,
         "Q",
         1
        ],
        [
         "830",
         1,
         "Stone, Mrs. George Nelson (Martha Evelyn)",
         "female",
         62.0,
         0,
         0,
         "113572",
         80.0,
         "B28",
         null,
         1
        ],
        [
         "831",
         3,
         "Yasbeck, Mrs. Antoni (Selini Alexander)",
         "female",
         15.0,
         1,
         0,
         "2659",
         14.4542,
         null,
         "C",
         1
        ],
        [
         "832",
         2,
         "Richards, Master. George Sibley",
         "male",
         0.83,
         1,
         1,
         "29106",
         18.75,
         null,
         "S",
         1
        ],
        [
         "836",
         1,
         "Compton, Miss. Sara Rebecca",
         "female",
         39.0,
         1,
         1,
         "PC 17756",
         83.1583,
         "E49",
         "C",
         1
        ],
        [
         "839",
         3,
         "Chip, Mr. Chang",
         "male",
         32.0,
         0,
         0,
         "1601",
         56.4958,
         null,
         "S",
         1
        ],
        [
         "840",
         1,
         "Marechal, Mr. Pierre",
         "male",
         null,
         0,
         0,
         "11774",
         29.7,
         "C47",
         "C",
         1
        ],
        [
         "843",
         1,
         "Serepeca, Miss. Augusta",
         "female",
         30.0,
         0,
         0,
         "113798",
         31.0,
         null,
         "C",
         1
        ],
        [
         "850",
         1,
         "Goldenberg, Mrs. Samuel L (Edwiga Grabowska)",
         "female",
         null,
         1,
         0,
         "17453",
         89.1042,
         "C92",
         "C",
         1
        ],
        [
         "854",
         1,
         "Lines, Miss. Mary Conover",
         "female",
         16.0,
         0,
         1,
         "PC 17592",
         39.4,
         "D28",
         "S",
         1
        ],
        [
         "856",
         3,
         "Aks, Mrs. Sam (Leah Rosen)",
         "female",
         18.0,
         0,
         1,
         "392091",
         9.35,
         null,
         "S",
         1
        ],
        [
         "857",
         1,
         "Wick, Mrs. George Dennick (Mary Hitchcock)",
         "female",
         45.0,
         1,
         1,
         "36928",
         164.8667,
         null,
         "S",
         1
        ],
        [
         "858",
         1,
         "Daly, Mr. Peter Denis ",
         "male",
         51.0,
         0,
         0,
         "113055",
         26.55,
         "E17",
         "S",
         1
        ],
        [
         "859",
         3,
         "Baclini, Mrs. Solomon (Latifa Qurban)",
         "female",
         24.0,
         0,
         3,
         "2666",
         19.2583,
         null,
         "C",
         1
        ],
        [
         "863",
         1,
         "Swift, Mrs. Frederick Joel (Margaret Welles Barron)",
         "female",
         48.0,
         0,
         0,
         "17466",
         25.9292,
         "D17",
         "S",
         1
        ],
        [
         "866",
         2,
         "Bystrom, Mrs. (Karolina)",
         "female",
         42.0,
         0,
         0,
         "236852",
         13.0,
         null,
         "S",
         1
        ],
        [
         "867",
         2,
         "Duran y More, Miss. Asuncion",
         "female",
         27.0,
         1,
         0,
         "SC/PARIS 2149",
         13.8583,
         null,
         "C",
         1
        ],
        [
         "870",
         3,
         "Johnson, Master. Harold Theodor",
         "male",
         4.0,
         1,
         1,
         "347742",
         11.1333,
         null,
         "S",
         1
        ],
        [
         "872",
         1,
         "Beckwith, Mrs. Richard Leonard (Sallie Monypeny)",
         "female",
         47.0,
         1,
         1,
         "11751",
         52.5542,
         "D35",
         "S",
         1
        ],
        [
         "875",
         2,
         "Abelson, Mrs. Samuel (Hannah Wizosky)",
         "female",
         28.0,
         1,
         0,
         "P/PP 3381",
         24.0,
         null,
         "C",
         1
        ],
        [
         "876",
         3,
         "\"Najib, Miss. Adele Kiamie \"\"Jane\"\"\"",
         "female",
         15.0,
         0,
         0,
         "2667",
         7.225,
         null,
         "C",
         1
        ],
        [
         "880",
         1,
         "Potter, Mrs. Thomas Jr (Lily Alexenia Wilson)",
         "female",
         56.0,
         0,
         1,
         "11767",
         83.1583,
         "C50",
         "C",
         1
        ],
        [
         "881",
         2,
         "Shelley, Mrs. William (Imanita Parrish Hall)",
         "female",
         25.0,
         0,
         1,
         "230433",
         26.0,
         null,
         "S",
         1
        ],
        [
         "888",
         1,
         "Graham, Miss. Margaret Edith",
         "female",
         19.0,
         0,
         0,
         "112053",
         30.0,
         "B42",
         "S",
         1
        ],
        [
         "890",
         1,
         "Behr, Mr. Karl Howell",
         "male",
         26.0,
         0,
         0,
         "111369",
         30.0,
         "C148",
         "C",
         1
        ]
       ],
       "datasetInfos": [],
       "dbfsResultPath": null,
       "isJsonSchema": true,
       "metadata": {},
       "overflow": false,
       "plotOptions": {
        "customPlotOptions": {},
        "displayType": "table",
        "pivotAggregation": null,
        "pivotColumns": null,
        "xColumns": null,
        "yColumns": null
       },
       "removedWidgets": [],
       "schema": [
        {
         "metadata": "{}",
         "name": "PassengerId",
         "type": "\"string\""
        },
        {
         "metadata": "{}",
         "name": "Pclass",
         "type": "\"integer\""
        },
        {
         "metadata": "{}",
         "name": "Name",
         "type": "\"string\""
        },
        {
         "metadata": "{}",
         "name": "Sex",
         "type": "\"string\""
        },
        {
         "metadata": "{}",
         "name": "Age",
         "type": "\"double\""
        },
        {
         "metadata": "{}",
         "name": "SibSp",
         "type": "\"integer\""
        },
        {
         "metadata": "{}",
         "name": "Parch",
         "type": "\"integer\""
        },
        {
         "metadata": "{}",
         "name": "Ticket",
         "type": "\"string\""
        },
        {
         "metadata": "{}",
         "name": "Fare",
         "type": "\"double\""
        },
        {
         "metadata": "{}",
         "name": "Cabin",
         "type": "\"string\""
        },
        {
         "metadata": "{}",
         "name": "Embarked",
         "type": "\"string\""
        },
        {
         "metadata": "{}",
         "name": "Survived",
         "type": "\"integer\""
        }
       ],
       "type": "table"
      }
     },
     "output_type": "display_data"
    }
   ],
   "source": [
    "%sql\n",
    "select * from titanic_view where Survived=1"
   ]
  },
  {
   "cell_type": "code",
   "execution_count": 0,
   "metadata": {
    "application/vnd.databricks.v1+cell": {
     "cellMetadata": {
      "byteLimit": 2048000,
      "implicitDf": true,
      "rowLimit": 10000
     },
     "inputWidgets": {},
     "nuid": "abcd5e16-835d-429d-89c6-4a9fe2a25406",
     "showTitle": false,
     "title": ""
    }
   },
   "outputs": [
    {
     "output_type": "display_data",
     "data": {
      "text/html": [
       "<style scoped>\n",
       "  .table-result-container {\n",
       "    max-height: 300px;\n",
       "    overflow: auto;\n",
       "  }\n",
       "  table, th, td {\n",
       "    border: 1px solid black;\n",
       "    border-collapse: collapse;\n",
       "  }\n",
       "  th, td {\n",
       "    padding: 5px;\n",
       "  }\n",
       "  th {\n",
       "    text-align: left;\n",
       "  }\n",
       "</style><div class='table-result-container'><table class='table-result'><thead style='background-color: white'><tr><th>Pclass</th></tr></thead><tbody><tr><td>1</td></tr><tr><td>3</td></tr><tr><td>1</td></tr><tr><td>3</td></tr><tr><td>2</td></tr><tr><td>3</td></tr><tr><td>1</td></tr><tr><td>2</td></tr><tr><td>2</td></tr><tr><td>3</td></tr><tr><td>2</td></tr><tr><td>3</td></tr><tr><td>1</td></tr><tr><td>3</td></tr><tr><td>3</td></tr><tr><td>1</td></tr><tr><td>3</td></tr><tr><td>3</td></tr><tr><td>3</td></tr><tr><td>2</td></tr><tr><td>3</td></tr><tr><td>3</td></tr><tr><td>1</td></tr><tr><td>2</td></tr><tr><td>1</td></tr><tr><td>2</td></tr><tr><td>2</td></tr><tr><td>1</td></tr><tr><td>3</td></tr><tr><td>2</td></tr><tr><td>3</td></tr><tr><td>3</td></tr><tr><td>2</td></tr><tr><td>3</td></tr><tr><td>3</td></tr><tr><td>3</td></tr><tr><td>2</td></tr><tr><td>3</td></tr><tr><td>1</td></tr><tr><td>1</td></tr><tr><td>2</td></tr><tr><td>3</td></tr><tr><td>3</td></tr><tr><td>3</td></tr><tr><td>2</td></tr><tr><td>3</td></tr><tr><td>3</td></tr><tr><td>3</td></tr><tr><td>2</td></tr><tr><td>1</td></tr><tr><td>3</td></tr><tr><td>3</td></tr><tr><td>3</td></tr><tr><td>1</td></tr><tr><td>3</td></tr><tr><td>2</td></tr><tr><td>3</td></tr><tr><td>1</td></tr><tr><td>3</td></tr><tr><td>2</td></tr><tr><td>3</td></tr><tr><td>3</td></tr><tr><td>1</td></tr><tr><td>2</td></tr><tr><td>3</td></tr><tr><td>2</td></tr><tr><td>1</td></tr><tr><td>1</td></tr><tr><td>3</td></tr><tr><td>3</td></tr><tr><td>3</td></tr><tr><td>3</td></tr><tr><td>1</td></tr><tr><td>2</td></tr><tr><td>1</td></tr><tr><td>3</td></tr><tr><td>1</td></tr><tr><td>3</td></tr><tr><td>1</td></tr><tr><td>2</td></tr><tr><td>1</td></tr><tr><td>3</td></tr><tr><td>2</td></tr><tr><td>3</td></tr><tr><td>2</td></tr><tr><td>1</td></tr><tr><td>3</td></tr><tr><td>1</td></tr><tr><td>1</td></tr><tr><td>1</td></tr><tr><td>2</td></tr><tr><td>3</td></tr><tr><td>3</td></tr><tr><td>1</td></tr><tr><td>1</td></tr><tr><td>3</td></tr><tr><td>2</td></tr><tr><td>3</td></tr><tr><td>1</td></tr><tr><td>3</td></tr><tr><td>3</td></tr><tr><td>3</td></tr><tr><td>2</td></tr><tr><td>3</td></tr><tr><td>1</td></tr><tr><td>1</td></tr><tr><td>1</td></tr><tr><td>1</td></tr><tr><td>3</td></tr><tr><td>3</td></tr><tr><td>2</td></tr><tr><td>1</td></tr><tr><td>1</td></tr><tr><td>1</td></tr><tr><td>1</td></tr><tr><td>1</td></tr><tr><td>1</td></tr><tr><td>3</td></tr><tr><td>2</td></tr><tr><td>1</td></tr><tr><td>1</td></tr><tr><td>2</td></tr><tr><td>2</td></tr><tr><td>1</td></tr><tr><td>2</td></tr><tr><td>3</td></tr><tr><td>1</td></tr><tr><td>3</td></tr><tr><td>1</td></tr><tr><td>1</td></tr><tr><td>3</td></tr><tr><td>2</td></tr><tr><td>1</td></tr><tr><td>2</td></tr><tr><td>2</td></tr><tr><td>3</td></tr><tr><td>3</td></tr><tr><td>1</td></tr><tr><td>3</td></tr><tr><td>3</td></tr><tr><td>1</td></tr><tr><td>3</td></tr><tr><td>3</td></tr><tr><td>1</td></tr><tr><td>1</td></tr><tr><td>1</td></tr><tr><td>3</td></tr><tr><td>1</td></tr><tr><td>3</td></tr><tr><td>1</td></tr><tr><td>2</td></tr><tr><td>2</td></tr><tr><td>1</td></tr><tr><td>3</td></tr><tr><td>1</td></tr><tr><td>3</td></tr><tr><td>2</td></tr><tr><td>3</td></tr><tr><td>2</td></tr><tr><td>1</td></tr><tr><td>3</td></tr><tr><td>2</td></tr><tr><td>2</td></tr><tr><td>2</td></tr><tr><td>2</td></tr><tr><td>3</td></tr><tr><td>1</td></tr><tr><td>3</td></tr><tr><td>2</td></tr><tr><td>1</td></tr><tr><td>2</td></tr><tr><td>2</td></tr><tr><td>2</td></tr><tr><td>3</td></tr><tr><td>1</td></tr><tr><td>2</td></tr><tr><td>1</td></tr><tr><td>3</td></tr><tr><td>1</td></tr><tr><td>1</td></tr><tr><td>3</td></tr><tr><td>1</td></tr><tr><td>2</td></tr><tr><td>1</td></tr><tr><td>3</td></tr><tr><td>2</td></tr><tr><td>2</td></tr><tr><td>3</td></tr><tr><td>3</td></tr><tr><td>1</td></tr><tr><td>1</td></tr><tr><td>3</td></tr><tr><td>1</td></tr><tr><td>1</td></tr><tr><td>2</td></tr><tr><td>1</td></tr><tr><td>3</td></tr><tr><td>3</td></tr><tr><td>1</td></tr><tr><td>1</td></tr><tr><td>2</td></tr><tr><td>2</td></tr><tr><td>1</td></tr><tr><td>1</td></tr><tr><td>2</td></tr><tr><td>2</td></tr><tr><td>3</td></tr><tr><td>2</td></tr><tr><td>1</td></tr><tr><td>1</td></tr><tr><td>1</td></tr><tr><td>2</td></tr><tr><td>2</td></tr><tr><td>2</td></tr><tr><td>2</td></tr><tr><td>1</td></tr><tr><td>3</td></tr><tr><td>3</td></tr><tr><td>1</td></tr><tr><td>1</td></tr><tr><td>3</td></tr><tr><td>3</td></tr><tr><td>2</td></tr><tr><td>1</td></tr><tr><td>1</td></tr><tr><td>3</td></tr><tr><td>2</td></tr><tr><td>1</td></tr><tr><td>3</td></tr><tr><td>2</td></tr><tr><td>1</td></tr><tr><td>1</td></tr><tr><td>1</td></tr><tr><td>1</td></tr><tr><td>2</td></tr><tr><td>1</td></tr><tr><td>2</td></tr><tr><td>1</td></tr><tr><td>1</td></tr><tr><td>2</td></tr><tr><td>1</td></tr><tr><td>3</td></tr><tr><td>2</td></tr><tr><td>2</td></tr><tr><td>1</td></tr><tr><td>3</td></tr><tr><td>1</td></tr><tr><td>1</td></tr><tr><td>1</td></tr><tr><td>2</td></tr><tr><td>1</td></tr><tr><td>3</td></tr><tr><td>3</td></tr><tr><td>1</td></tr><tr><td>1</td></tr><tr><td>3</td></tr><tr><td>2</td></tr><tr><td>3</td></tr><tr><td>1</td></tr><tr><td>3</td></tr><tr><td>1</td></tr><tr><td>2</td></tr><tr><td>2</td></tr><tr><td>3</td></tr><tr><td>1</td></tr><tr><td>1</td></tr><tr><td>1</td></tr><tr><td>1</td></tr><tr><td>3</td></tr><tr><td>3</td></tr><tr><td>3</td></tr><tr><td>1</td></tr><tr><td>1</td></tr><tr><td>2</td></tr><tr><td>1</td></tr><tr><td>1</td></tr><tr><td>3</td></tr><tr><td>1</td></tr><tr><td>1</td></tr><tr><td>1</td></tr><tr><td>2</td></tr><tr><td>2</td></tr><tr><td>1</td></tr><tr><td>2</td></tr><tr><td>3</td></tr><tr><td>1</td></tr><tr><td>1</td></tr><tr><td>1</td></tr><tr><td>1</td></tr><tr><td>3</td></tr><tr><td>2</td></tr><tr><td>2</td></tr><tr><td>3</td></tr><tr><td>2</td></tr><tr><td>2</td></tr><tr><td>1</td></tr><tr><td>3</td></tr><tr><td>1</td></tr><tr><td>1</td></tr><tr><td>2</td></tr><tr><td>3</td></tr><tr><td>1</td></tr><tr><td>3</td></tr><tr><td>1</td></tr><tr><td>3</td></tr><tr><td>3</td></tr><tr><td>1</td></tr><tr><td>3</td></tr><tr><td>2</td></tr><tr><td>1</td></tr><tr><td>3</td></tr><tr><td>3</td></tr><tr><td>1</td></tr><tr><td>1</td></tr><tr><td>3</td></tr><tr><td>3</td></tr><tr><td>2</td></tr><tr><td>3</td></tr><tr><td>1</td></tr><tr><td>3</td></tr><tr><td>2</td></tr><tr><td>1</td></tr><tr><td>3</td></tr><tr><td>1</td></tr><tr><td>1</td></tr><tr><td>1</td></tr><tr><td>1</td></tr><tr><td>3</td></tr><tr><td>1</td></tr><tr><td>1</td></tr><tr><td>3</td></tr><tr><td>1</td></tr><tr><td>2</td></tr><tr><td>2</td></tr><tr><td>3</td></tr><tr><td>1</td></tr><tr><td>2</td></tr><tr><td>3</td></tr><tr><td>1</td></tr><tr><td>2</td></tr><tr><td>1</td></tr><tr><td>1</td></tr></tbody></table></div>"
      ]
     },
     "metadata": {
      "application/vnd.databricks.v1+output": {
       "addedWidgets": {},
       "aggData": [],
       "aggError": "",
       "aggOverflow": false,
       "aggSchema": [],
       "aggSeriesLimitReached": false,
       "aggType": "",
       "arguments": {},
       "columnCustomDisplayInfos": {},
       "data": [
        [
         1
        ],
        [
         3
        ],
        [
         1
        ],
        [
         3
        ],
        [
         2
        ],
        [
         3
        ],
        [
         1
        ],
        [
         2
        ],
        [
         2
        ],
        [
         3
        ],
        [
         2
        ],
        [
         3
        ],
        [
         1
        ],
        [
         3
        ],
        [
         3
        ],
        [
         1
        ],
        [
         3
        ],
        [
         3
        ],
        [
         3
        ],
        [
         2
        ],
        [
         3
        ],
        [
         3
        ],
        [
         1
        ],
        [
         2
        ],
        [
         1
        ],
        [
         2
        ],
        [
         2
        ],
        [
         1
        ],
        [
         3
        ],
        [
         2
        ],
        [
         3
        ],
        [
         3
        ],
        [
         2
        ],
        [
         3
        ],
        [
         3
        ],
        [
         3
        ],
        [
         2
        ],
        [
         3
        ],
        [
         1
        ],
        [
         1
        ],
        [
         2
        ],
        [
         3
        ],
        [
         3
        ],
        [
         3
        ],
        [
         2
        ],
        [
         3
        ],
        [
         3
        ],
        [
         3
        ],
        [
         2
        ],
        [
         1
        ],
        [
         3
        ],
        [
         3
        ],
        [
         3
        ],
        [
         1
        ],
        [
         3
        ],
        [
         2
        ],
        [
         3
        ],
        [
         1
        ],
        [
         3
        ],
        [
         2
        ],
        [
         3
        ],
        [
         3
        ],
        [
         1
        ],
        [
         2
        ],
        [
         3
        ],
        [
         2
        ],
        [
         1
        ],
        [
         1
        ],
        [
         3
        ],
        [
         3
        ],
        [
         3
        ],
        [
         3
        ],
        [
         1
        ],
        [
         2
        ],
        [
         1
        ],
        [
         3
        ],
        [
         1
        ],
        [
         3
        ],
        [
         1
        ],
        [
         2
        ],
        [
         1
        ],
        [
         3
        ],
        [
         2
        ],
        [
         3
        ],
        [
         2
        ],
        [
         1
        ],
        [
         3
        ],
        [
         1
        ],
        [
         1
        ],
        [
         1
        ],
        [
         2
        ],
        [
         3
        ],
        [
         3
        ],
        [
         1
        ],
        [
         1
        ],
        [
         3
        ],
        [
         2
        ],
        [
         3
        ],
        [
         1
        ],
        [
         3
        ],
        [
         3
        ],
        [
         3
        ],
        [
         2
        ],
        [
         3
        ],
        [
         1
        ],
        [
         1
        ],
        [
         1
        ],
        [
         1
        ],
        [
         3
        ],
        [
         3
        ],
        [
         2
        ],
        [
         1
        ],
        [
         1
        ],
        [
         1
        ],
        [
         1
        ],
        [
         1
        ],
        [
         1
        ],
        [
         3
        ],
        [
         2
        ],
        [
         1
        ],
        [
         1
        ],
        [
         2
        ],
        [
         2
        ],
        [
         1
        ],
        [
         2
        ],
        [
         3
        ],
        [
         1
        ],
        [
         3
        ],
        [
         1
        ],
        [
         1
        ],
        [
         3
        ],
        [
         2
        ],
        [
         1
        ],
        [
         2
        ],
        [
         2
        ],
        [
         3
        ],
        [
         3
        ],
        [
         1
        ],
        [
         3
        ],
        [
         3
        ],
        [
         1
        ],
        [
         3
        ],
        [
         3
        ],
        [
         1
        ],
        [
         1
        ],
        [
         1
        ],
        [
         3
        ],
        [
         1
        ],
        [
         3
        ],
        [
         1
        ],
        [
         2
        ],
        [
         2
        ],
        [
         1
        ],
        [
         3
        ],
        [
         1
        ],
        [
         3
        ],
        [
         2
        ],
        [
         3
        ],
        [
         2
        ],
        [
         1
        ],
        [
         3
        ],
        [
         2
        ],
        [
         2
        ],
        [
         2
        ],
        [
         2
        ],
        [
         3
        ],
        [
         1
        ],
        [
         3
        ],
        [
         2
        ],
        [
         1
        ],
        [
         2
        ],
        [
         2
        ],
        [
         2
        ],
        [
         3
        ],
        [
         1
        ],
        [
         2
        ],
        [
         1
        ],
        [
         3
        ],
        [
         1
        ],
        [
         1
        ],
        [
         3
        ],
        [
         1
        ],
        [
         2
        ],
        [
         1
        ],
        [
         3
        ],
        [
         2
        ],
        [
         2
        ],
        [
         3
        ],
        [
         3
        ],
        [
         1
        ],
        [
         1
        ],
        [
         3
        ],
        [
         1
        ],
        [
         1
        ],
        [
         2
        ],
        [
         1
        ],
        [
         3
        ],
        [
         3
        ],
        [
         1
        ],
        [
         1
        ],
        [
         2
        ],
        [
         2
        ],
        [
         1
        ],
        [
         1
        ],
        [
         2
        ],
        [
         2
        ],
        [
         3
        ],
        [
         2
        ],
        [
         1
        ],
        [
         1
        ],
        [
         1
        ],
        [
         2
        ],
        [
         2
        ],
        [
         2
        ],
        [
         2
        ],
        [
         1
        ],
        [
         3
        ],
        [
         3
        ],
        [
         1
        ],
        [
         1
        ],
        [
         3
        ],
        [
         3
        ],
        [
         2
        ],
        [
         1
        ],
        [
         1
        ],
        [
         3
        ],
        [
         2
        ],
        [
         1
        ],
        [
         3
        ],
        [
         2
        ],
        [
         1
        ],
        [
         1
        ],
        [
         1
        ],
        [
         1
        ],
        [
         2
        ],
        [
         1
        ],
        [
         2
        ],
        [
         1
        ],
        [
         1
        ],
        [
         2
        ],
        [
         1
        ],
        [
         3
        ],
        [
         2
        ],
        [
         2
        ],
        [
         1
        ],
        [
         3
        ],
        [
         1
        ],
        [
         1
        ],
        [
         1
        ],
        [
         2
        ],
        [
         1
        ],
        [
         3
        ],
        [
         3
        ],
        [
         1
        ],
        [
         1
        ],
        [
         3
        ],
        [
         2
        ],
        [
         3
        ],
        [
         1
        ],
        [
         3
        ],
        [
         1
        ],
        [
         2
        ],
        [
         2
        ],
        [
         3
        ],
        [
         1
        ],
        [
         1
        ],
        [
         1
        ],
        [
         1
        ],
        [
         3
        ],
        [
         3
        ],
        [
         3
        ],
        [
         1
        ],
        [
         1
        ],
        [
         2
        ],
        [
         1
        ],
        [
         1
        ],
        [
         3
        ],
        [
         1
        ],
        [
         1
        ],
        [
         1
        ],
        [
         2
        ],
        [
         2
        ],
        [
         1
        ],
        [
         2
        ],
        [
         3
        ],
        [
         1
        ],
        [
         1
        ],
        [
         1
        ],
        [
         1
        ],
        [
         3
        ],
        [
         2
        ],
        [
         2
        ],
        [
         3
        ],
        [
         2
        ],
        [
         2
        ],
        [
         1
        ],
        [
         3
        ],
        [
         1
        ],
        [
         1
        ],
        [
         2
        ],
        [
         3
        ],
        [
         1
        ],
        [
         3
        ],
        [
         1
        ],
        [
         3
        ],
        [
         3
        ],
        [
         1
        ],
        [
         3
        ],
        [
         2
        ],
        [
         1
        ],
        [
         3
        ],
        [
         3
        ],
        [
         1
        ],
        [
         1
        ],
        [
         3
        ],
        [
         3
        ],
        [
         2
        ],
        [
         3
        ],
        [
         1
        ],
        [
         3
        ],
        [
         2
        ],
        [
         1
        ],
        [
         3
        ],
        [
         1
        ],
        [
         1
        ],
        [
         1
        ],
        [
         1
        ],
        [
         3
        ],
        [
         1
        ],
        [
         1
        ],
        [
         3
        ],
        [
         1
        ],
        [
         2
        ],
        [
         2
        ],
        [
         3
        ],
        [
         1
        ],
        [
         2
        ],
        [
         3
        ],
        [
         1
        ],
        [
         2
        ],
        [
         1
        ],
        [
         1
        ]
       ],
       "datasetInfos": [],
       "dbfsResultPath": null,
       "isJsonSchema": true,
       "metadata": {},
       "overflow": false,
       "plotOptions": {
        "customPlotOptions": {},
        "displayType": "table",
        "pivotAggregation": null,
        "pivotColumns": null,
        "xColumns": null,
        "yColumns": null
       },
       "removedWidgets": [],
       "schema": [
        {
         "metadata": "{}",
         "name": "Pclass",
         "type": "\"integer\""
        }
       ],
       "type": "table"
      }
     },
     "output_type": "display_data"
    }
   ],
   "source": [
    "%sql\n",
    "select Pclass from titanic_view where Survived=1"
   ]
  },
  {
   "cell_type": "code",
   "execution_count": 0,
   "metadata": {
    "application/vnd.databricks.v1+cell": {
     "cellMetadata": {
      "byteLimit": 2048000,
      "implicitDf": true,
      "rowLimit": 10000
     },
     "inputWidgets": {},
     "nuid": "da078938-eba9-4a04-8e99-7b7c83732662",
     "showTitle": false,
     "title": ""
    }
   },
   "outputs": [
    {
     "output_type": "display_data",
     "data": {
      "text/html": [
       "<style scoped>\n",
       "  .table-result-container {\n",
       "    max-height: 300px;\n",
       "    overflow: auto;\n",
       "  }\n",
       "  table, th, td {\n",
       "    border: 1px solid black;\n",
       "    border-collapse: collapse;\n",
       "  }\n",
       "  th, td {\n",
       "    padding: 5px;\n",
       "  }\n",
       "  th {\n",
       "    text-align: left;\n",
       "  }\n",
       "</style><div class='table-result-container'><table class='table-result'><thead style='background-color: white'><tr><th>Pclass</th><th>count(1)</th></tr></thead><tbody><tr><td>1</td><td>136</td></tr><tr><td>3</td><td>119</td></tr><tr><td>2</td><td>87</td></tr></tbody></table></div>"
      ]
     },
     "metadata": {
      "application/vnd.databricks.v1+output": {
       "addedWidgets": {},
       "aggData": [],
       "aggError": "",
       "aggOverflow": false,
       "aggSchema": [],
       "aggSeriesLimitReached": false,
       "aggType": "",
       "arguments": {},
       "columnCustomDisplayInfos": {},
       "data": [
        [
         1,
         136
        ],
        [
         3,
         119
        ],
        [
         2,
         87
        ]
       ],
       "datasetInfos": [],
       "dbfsResultPath": null,
       "isJsonSchema": true,
       "metadata": {},
       "overflow": false,
       "plotOptions": {
        "customPlotOptions": {},
        "displayType": "table",
        "pivotAggregation": null,
        "pivotColumns": null,
        "xColumns": null,
        "yColumns": null
       },
       "removedWidgets": [],
       "schema": [
        {
         "metadata": "{}",
         "name": "Pclass",
         "type": "\"integer\""
        },
        {
         "metadata": "{\"__autoGeneratedAlias\":\"true\"}",
         "name": "count(1)",
         "type": "\"long\""
        }
       ],
       "type": "table"
      }
     },
     "output_type": "display_data"
    }
   ],
   "source": [
    "%sql\n",
    "select Pclass, count(*) from titanic_view where Survived =1 group by Pclass"
   ]
  },
  {
   "cell_type": "code",
   "execution_count": 0,
   "metadata": {
    "application/vnd.databricks.v1+cell": {
     "cellMetadata": {
      "byteLimit": 2048000,
      "implicitDf": true,
      "rowLimit": 10000
     },
     "inputWidgets": {},
     "nuid": "14d85b30-d990-4e4f-82c4-fc60d61bdb10",
     "showTitle": false,
     "title": ""
    }
   },
   "outputs": [
    {
     "output_type": "display_data",
     "data": {
      "text/html": [
       "<style scoped>\n",
       "  .table-result-container {\n",
       "    max-height: 300px;\n",
       "    overflow: auto;\n",
       "  }\n",
       "  table, th, td {\n",
       "    border: 1px solid black;\n",
       "    border-collapse: collapse;\n",
       "  }\n",
       "  th, td {\n",
       "    padding: 5px;\n",
       "  }\n",
       "  th {\n",
       "    text-align: left;\n",
       "  }\n",
       "</style><div class='table-result-container'><table class='table-result'><thead style='background-color: white'><tr><th>Pclass</th><th>Survived</th><th>count(1)</th></tr></thead><tbody><tr><td>1</td><td>1</td><td>136</td></tr><tr><td>1</td><td>0</td><td>80</td></tr><tr><td>2</td><td>1</td><td>87</td></tr><tr><td>2</td><td>0</td><td>97</td></tr><tr><td>3</td><td>1</td><td>119</td></tr><tr><td>3</td><td>0</td><td>372</td></tr></tbody></table></div>"
      ]
     },
     "metadata": {
      "application/vnd.databricks.v1+output": {
       "addedWidgets": {},
       "aggData": [],
       "aggError": "",
       "aggOverflow": false,
       "aggSchema": [],
       "aggSeriesLimitReached": false,
       "aggType": "",
       "arguments": {},
       "columnCustomDisplayInfos": {},
       "data": [
        [
         1,
         1,
         136
        ],
        [
         1,
         0,
         80
        ],
        [
         2,
         1,
         87
        ],
        [
         2,
         0,
         97
        ],
        [
         3,
         1,
         119
        ],
        [
         3,
         0,
         372
        ]
       ],
       "datasetInfos": [],
       "dbfsResultPath": null,
       "isJsonSchema": true,
       "metadata": {},
       "overflow": false,
       "plotOptions": {
        "customPlotOptions": {},
        "displayType": "table",
        "pivotAggregation": null,
        "pivotColumns": null,
        "xColumns": null,
        "yColumns": null
       },
       "removedWidgets": [],
       "schema": [
        {
         "metadata": "{}",
         "name": "Pclass",
         "type": "\"integer\""
        },
        {
         "metadata": "{}",
         "name": "Survived",
         "type": "\"integer\""
        },
        {
         "metadata": "{\"__autoGeneratedAlias\":\"true\"}",
         "name": "count(1)",
         "type": "\"long\""
        }
       ],
       "type": "table"
      }
     },
     "output_type": "display_data"
    }
   ],
   "source": [
    "%sql\n",
    "select Pclass, Survived, count(*) from titanic_view group by Pclass, Survived order by Pclass, Survived desc"
   ]
  },
  {
   "cell_type": "code",
   "execution_count": 0,
   "metadata": {
    "application/vnd.databricks.v1+cell": {
     "cellMetadata": {
      "byteLimit": 2048000,
      "rowLimit": 10000
     },
     "inputWidgets": {},
     "nuid": "a5391465-da9e-4e71-9916-499597824d39",
     "showTitle": false,
     "title": ""
    }
   },
   "outputs": [
    {
     "output_type": "stream",
     "name": "stdout",
     "output_type": "stream",
     "text": [
      "+---------------+---+---+\n|Pclass_Survived|  0|  1|\n+---------------+---+---+\n|              1| 80|136|\n|              3|372|119|\n|              2| 97| 87|\n+---------------+---+---+\n\n"
     ]
    }
   ],
   "source": [
    "df_train.crosstab('Pclass', 'Survived').show()"
   ]
  },
  {
   "cell_type": "code",
   "execution_count": 0,
   "metadata": {
    "application/vnd.databricks.v1+cell": {
     "cellMetadata": {
      "byteLimit": 2048000,
      "implicitDf": true,
      "rowLimit": 10000
     },
     "inputWidgets": {},
     "nuid": "17846e38-c296-4de4-bc8d-b30fc55295bc",
     "showTitle": false,
     "title": ""
    }
   },
   "outputs": [
    {
     "output_type": "display_data",
     "data": {
      "text/html": [
       "<style scoped>\n",
       "  .table-result-container {\n",
       "    max-height: 300px;\n",
       "    overflow: auto;\n",
       "  }\n",
       "  table, th, td {\n",
       "    border: 1px solid black;\n",
       "    border-collapse: collapse;\n",
       "  }\n",
       "  th, td {\n",
       "    padding: 5px;\n",
       "  }\n",
       "  th {\n",
       "    text-align: left;\n",
       "  }\n",
       "</style><div class='table-result-container'><table class='table-result'><thead style='background-color: white'><tr><th>Sex</th><th>Survived</th><th>count(1)</th></tr></thead><tbody><tr><td>female</td><td>1</td><td>233</td></tr><tr><td>female</td><td>0</td><td>81</td></tr><tr><td>male</td><td>1</td><td>109</td></tr><tr><td>male</td><td>0</td><td>468</td></tr></tbody></table></div>"
      ]
     },
     "metadata": {
      "application/vnd.databricks.v1+output": {
       "addedWidgets": {},
       "aggData": [],
       "aggError": "",
       "aggOverflow": false,
       "aggSchema": [],
       "aggSeriesLimitReached": false,
       "aggType": "",
       "arguments": {},
       "columnCustomDisplayInfos": {},
       "data": [
        [
         "female",
         1,
         233
        ],
        [
         "female",
         0,
         81
        ],
        [
         "male",
         1,
         109
        ],
        [
         "male",
         0,
         468
        ]
       ],
       "datasetInfos": [],
       "dbfsResultPath": null,
       "isJsonSchema": true,
       "metadata": {},
       "overflow": false,
       "plotOptions": {
        "customPlotOptions": {},
        "displayType": "table",
        "pivotAggregation": null,
        "pivotColumns": null,
        "xColumns": null,
        "yColumns": null
       },
       "removedWidgets": [],
       "schema": [
        {
         "metadata": "{}",
         "name": "Sex",
         "type": "\"string\""
        },
        {
         "metadata": "{}",
         "name": "Survived",
         "type": "\"integer\""
        },
        {
         "metadata": "{\"__autoGeneratedAlias\":\"true\"}",
         "name": "count(1)",
         "type": "\"long\""
        }
       ],
       "type": "table"
      }
     },
     "output_type": "display_data"
    }
   ],
   "source": [
    "%sql\n",
    "select Sex, Survived, count(*) from titanic_view group by Sex, Survived order by Sex, Survived desc"
   ]
  },
  {
   "cell_type": "code",
   "execution_count": 0,
   "metadata": {
    "application/vnd.databricks.v1+cell": {
     "cellMetadata": {
      "byteLimit": 2048000,
      "rowLimit": 10000
     },
     "inputWidgets": {},
     "nuid": "572a7361-8caf-48d0-ac2e-b141b5c31418",
     "showTitle": false,
     "title": ""
    }
   },
   "outputs": [
    {
     "output_type": "stream",
     "name": "stdout",
     "output_type": "stream",
     "text": [
      "+------------+---+---+\n|Sex_Survived|  0|  1|\n+------------+---+---+\n|        male|468|109|\n|      female| 81|233|\n+------------+---+---+\n\n"
     ]
    }
   ],
   "source": [
    "df_train.crosstab('Sex', 'Survived').show()"
   ]
  },
  {
   "cell_type": "code",
   "execution_count": 0,
   "metadata": {
    "application/vnd.databricks.v1+cell": {
     "cellMetadata": {
      "byteLimit": 2048000,
      "rowLimit": 10000
     },
     "inputWidgets": {},
     "nuid": "cfc25f7a-82b4-40cd-a04a-4372798a0291",
     "showTitle": false,
     "title": ""
    }
   },
   "outputs": [
    {
     "output_type": "stream",
     "name": "stdout",
     "output_type": "stream",
     "text": [
      "Out[56]: <seaborn.axisgrid.FacetGrid at 0x7f6d99435a30>"
     ]
    },
    {
     "output_type": "display_data",
     "data": {
      "image/png": "[encoded data removed]"
     },
     "metadata": {
      "application/vnd.databricks.v1+output": {
       "addedWidgets": {},
       "arguments": {},
       "data": "data:image/png;base64,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\n",
       "datasetInfos": [],
       "metadata": {},
       "removedWidgets": [],
       "type": "image"
      }
     },
     "output_type": "display_data"
    }
   ],
   "source": [
    "sns.factorplot('Pclass', 'Survived', hue='Sex', data = df_train.toPandas())"
   ]
  },
  {
   "cell_type": "code",
   "execution_count": 0,
   "metadata": {
    "application/vnd.databricks.v1+cell": {
     "cellMetadata": {
      "byteLimit": 2048000,
      "rowLimit": 10000
     },
     "inputWidgets": {},
     "nuid": "e3cefa61-789f-4b6b-8865-8a5982ff80b0",
     "showTitle": false,
     "title": ""
    }
   },
   "outputs": [
    {
     "output_type": "stream",
     "name": "stdout",
     "output_type": "stream",
     "text": [
      "+-----------+------+--------------------+------+----+-----+-----+----------------+--------+-----+--------+--------+\n|PassengerId|Pclass|                Name|   Sex| Age|SibSp|Parch|          Ticket|    Fare|Cabin|Embarked|Survived|\n+-----------+------+--------------------+------+----+-----+-----+----------------+--------+-----+--------+--------+\n|          2|     1|Cumings, Mrs. Joh...|female|38.0|    1|    0|        PC 17599| 71.2833|  C85|       C|       1|\n|          3|     3|Heikkinen, Miss. ...|female|26.0|    0|    0|STON/O2. 3101282|   7.925| null|       S|       1|\n|          4|     1|Futrelle, Mrs. Ja...|female|35.0|    1|    0|          113803|    53.1| C123|       S|       1|\n|          9|     3|Johnson, Mrs. Osc...|female|27.0|    0|    2|          347742| 11.1333| null|       S|       1|\n|         10|     2|Nasser, Mrs. Nich...|female|14.0|    1|    0|          237736| 30.0708| null|       C|       1|\n|         11|     3|Sandstrom, Miss. ...|female| 4.0|    1|    1|         PP 9549|    16.7|   G6|       S|       1|\n|         12|     1|Bonnell, Miss. El...|female|58.0|    0|    0|          113783|   26.55| C103|       S|       1|\n|         16|     2|Hewlett, Mrs. (Ma...|female|55.0|    0|    0|          248706|    16.0| null|       S|       1|\n|         18|     2|Williams, Mr. Cha...|  male|null|    0|    0|          244373|    13.0| null|       S|       1|\n|         20|     3|Masselmani, Mrs. ...|female|null|    0|    0|            2649|   7.225| null|       C|       1|\n|         22|     2|Beesley, Mr. Lawr...|  male|34.0|    0|    0|          248698|    13.0|  D56|       S|       1|\n|         23|     3|\"McGowan, Miss. A...|female|15.0|    0|    0|          330923|  8.0292| null|       Q|       1|\n|         24|     1|Sloper, Mr. Willi...|  male|28.0|    0|    0|          113788|    35.5|   A6|       S|       1|\n|         26|     3|Asplund, Mrs. Car...|female|38.0|    1|    5|          347077| 31.3875| null|       S|       1|\n|         29|     3|\"O'Dwyer, Miss. E...|female|null|    0|    0|          330959|  7.8792| null|       Q|       1|\n|         32|     1|Spencer, Mrs. Wil...|female|null|    1|    0|        PC 17569|146.5208|  B78|       C|       1|\n|         33|     3|Glynn, Miss. Mary...|female|null|    0|    0|          335677|    7.75| null|       Q|       1|\n|         37|     3|    Mamee, Mr. Hanna|  male|null|    0|    0|            2677|  7.2292| null|       C|       1|\n|         40|     3|Nicola-Yarred, Mi...|female|14.0|    1|    0|            2651| 11.2417| null|       C|       1|\n|         44|     2|Laroche, Miss. Si...|female| 3.0|    1|    2|   SC/Paris 2123| 41.5792| null|       C|       1|\n+-----------+------+--------------------+------+----+-----+-----+----------------+--------+-----+--------+--------+\nonly showing top 20 rows\n\n"
     ]
    }
   ],
   "source": [
    "df_train.filter(df_train['Survived'] == 1).show()"
   ]
  },
  {
   "cell_type": "code",
   "execution_count": 0,
   "metadata": {
    "application/vnd.databricks.v1+cell": {
     "cellMetadata": {
      "byteLimit": 2048000,
      "rowLimit": 10000
     },
     "inputWidgets": {},
     "nuid": "e7d7fd97-723c-486b-97e5-3396258051a8",
     "showTitle": false,
     "title": ""
    }
   },
   "outputs": [
    {
     "output_type": "stream",
     "name": "stdout",
     "output_type": "stream",
     "text": [
      "+----+\n| age|\n+----+\n|38.0|\n|26.0|\n|35.0|\n|27.0|\n|14.0|\n| 4.0|\n|58.0|\n|55.0|\n|null|\n|null|\n|34.0|\n|15.0|\n|28.0|\n|38.0|\n|null|\n|null|\n|null|\n|null|\n|14.0|\n| 3.0|\n+----+\nonly showing top 20 rows\n\n"
     ]
    }
   ],
   "source": [
    "df_train[['age']].filter(df_train['Survived'] == 1 ).show()"
   ]
  },
  {
   "cell_type": "code",
   "execution_count": 0,
   "metadata": {
    "application/vnd.databricks.v1+cell": {
     "cellMetadata": {
      "byteLimit": 2048000,
      "rowLimit": 10000
     },
     "inputWidgets": {},
     "nuid": "3f2e64f2-da62-43d7-a288-0fe5233e41dd",
     "showTitle": false,
     "title": ""
    }
   },
   "outputs": [
    {
     "output_type": "stream",
     "name": "stdout",
     "output_type": "stream",
     "text": [
      "+----+\n| Age|\n+----+\n|22.0|\n|35.0|\n|null|\n|54.0|\n| 2.0|\n|20.0|\n|39.0|\n|14.0|\n| 2.0|\n|31.0|\n|35.0|\n| 8.0|\n|null|\n|19.0|\n|null|\n|40.0|\n|66.0|\n|28.0|\n|42.0|\n|21.0|\n+----+\nonly showing top 20 rows\n\n"
     ]
    }
   ],
   "source": [
    "df_train[['Age']].filter(df_train['Survived'] == 0 ).show()"
   ]
  },
  {
   "cell_type": "code",
   "execution_count": 0,
   "metadata": {
    "application/vnd.databricks.v1+cell": {
     "cellMetadata": {
      "byteLimit": 2048000,
      "rowLimit": 10000
     },
     "inputWidgets": {},
     "nuid": "9af3d4c0-bcd3-494d-85a7-ba1f739fe8dc",
     "showTitle": false,
     "title": ""
    }
   },
   "outputs": [
    {
     "output_type": "stream",
     "name": "stdout",
     "output_type": "stream",
     "text": [
      "Out[60]: <matplotlib.legend.Legend at 0x7f6d7c168d60>"
     ]
    },
    {
     "output_type": "display_data",
     "data": {
      "image/png": "[encoded data removed]"
     },
     "metadata": {
      "application/vnd.databricks.v1+output": {
       "addedWidgets": {},
       "arguments": {},
       "data": "data:image/png;base64,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\n",
       "datasetInfos": [],
       "metadata": {},
       "removedWidgets": [],
       "type": "image"
      }
     },
     "output_type": "display_data"
    }
   ],
   "source": [
    "plt.figure(figsize=(15,8))\n",
    "sns.kdeplot(data=df_train.toPandas(), x='Age', hue='Survived')\n",
    "plt.legend(['survived_age', 'dead_age'])"
   ]
  },
  {
   "cell_type": "code",
   "execution_count": 0,
   "metadata": {
    "application/vnd.databricks.v1+cell": {
     "cellMetadata": {
      "byteLimit": 2048000,
      "implicitDf": true,
      "rowLimit": 10000
     },
     "inputWidgets": {},
     "nuid": "9ba715bd-d644-44dc-bbfd-4d9ebd072d9b",
     "showTitle": false,
     "title": ""
    }
   },
   "outputs": [
    {
     "output_type": "display_data",
     "data": {
      "text/html": [
       "<style scoped>\n",
       "  .table-result-container {\n",
       "    max-height: 300px;\n",
       "    overflow: auto;\n",
       "  }\n",
       "  table, th, td {\n",
       "    border: 1px solid black;\n",
       "    border-collapse: collapse;\n",
       "  }\n",
       "  th, td {\n",
       "    padding: 5px;\n",
       "  }\n",
       "  th {\n",
       "    text-align: left;\n",
       "  }\n",
       "</style><div class='table-result-container'><table class='table-result'><thead style='background-color: white'><tr><th>Embarked</th><th>Survived</th><th>count(1)</th></tr></thead><tbody><tr><td>null</td><td>1</td><td>2</td></tr><tr><td>C</td><td>1</td><td>93</td></tr><tr><td>C</td><td>0</td><td>75</td></tr><tr><td>Q</td><td>1</td><td>30</td></tr><tr><td>Q</td><td>0</td><td>47</td></tr><tr><td>S</td><td>1</td><td>217</td></tr><tr><td>S</td><td>0</td><td>427</td></tr></tbody></table></div>"
      ]
     },
     "metadata": {
      "application/vnd.databricks.v1+output": {
       "addedWidgets": {},
       "aggData": [],
       "aggError": "",
       "aggOverflow": false,
       "aggSchema": [],
       "aggSeriesLimitReached": false,
       "aggType": "",
       "arguments": {},
       "columnCustomDisplayInfos": {},
       "data": [
        [
         null,
         1,
         2
        ],
        [
         "C",
         1,
         93
        ],
        [
         "C",
         0,
         75
        ],
        [
         "Q",
         1,
         30
        ],
        [
         "Q",
         0,
         47
        ],
        [
         "S",
         1,
         217
        ],
        [
         "S",
         0,
         427
        ]
       ],
       "datasetInfos": [],
       "dbfsResultPath": null,
       "isJsonSchema": true,
       "metadata": {},
       "overflow": false,
       "plotOptions": {
        "customPlotOptions": {},
        "displayType": "table",
        "pivotAggregation": null,
        "pivotColumns": null,
        "xColumns": null,
        "yColumns": null
       },
       "removedWidgets": [],
       "schema": [
        {
         "metadata": "{}",
         "name": "Embarked",
         "type": "\"string\""
        },
        {
         "metadata": "{}",
         "name": "Survived",
         "type": "\"integer\""
        },
        {
         "metadata": "{\"__autoGeneratedAlias\":\"true\"}",
         "name": "count(1)",
         "type": "\"long\""
        }
       ],
       "type": "table"
      }
     },
     "output_type": "display_data"
    }
   ],
   "source": [
    "%sql\n",
    "select Embarked, Survived, count(*)\n",
    "from titanic_view\n",
    "group by Embarked, Survived\n",
    "order by Embarked, Survived desc"
   ]
  },
  {
   "cell_type": "code",
   "execution_count": 0,
   "metadata": {
    "application/vnd.databricks.v1+cell": {
     "cellMetadata": {
      "byteLimit": 2048000,
      "rowLimit": 10000
     },
     "inputWidgets": {},
     "nuid": "b7e8d90e-50d7-40ae-82df-ad77fa4a695e",
     "showTitle": false,
     "title": ""
    }
   },
   "outputs": [
    {
     "output_type": "stream",
     "name": "stdout",
     "output_type": "stream",
     "text": [
      "+-----------------+---+---+\n|Embarked_Survived|  0|  1|\n+-----------------+---+---+\n|             null|  0|  2|\n|                Q| 47| 30|\n|                S|427|217|\n|                C| 75| 93|\n+-----------------+---+---+\n\n"
     ]
    }
   ],
   "source": [
    "df_train.crosstab('Embarked', 'Survived').show()"
   ]
  },
  {
   "cell_type": "code",
   "execution_count": 0,
   "metadata": {
    "application/vnd.databricks.v1+cell": {
     "cellMetadata": {
      "byteLimit": 2048000,
      "rowLimit": 10000
     },
     "inputWidgets": {},
     "nuid": "41737d4c-c15a-4e55-a037-0d87efbf457f",
     "showTitle": false,
     "title": ""
    }
   },
   "outputs": [
    {
     "output_type": "stream",
     "name": "stdout",
     "output_type": "stream",
     "text": [
      "+---------------+---+---+---+\n|Embarked_Pclass|  1|  2|  3|\n+---------------+---+---+---+\n|              S|127|164|353|\n|              Q|  2|  3| 72|\n|              C| 85| 17| 66|\n|           null|  2|  0|  0|\n+---------------+---+---+---+\n\n"
     ]
    }
   ],
   "source": [
    "df_train.crosstab('Embarked', 'Pclass').show()"
   ]
  },
  {
   "cell_type": "code",
   "execution_count": 0,
   "metadata": {
    "application/vnd.databricks.v1+cell": {
     "cellMetadata": {
      "byteLimit": 2048000,
      "rowLimit": 10000
     },
     "inputWidgets": {},
     "nuid": "079ab06d-7fce-477e-adf2-b88d6d8595d1",
     "showTitle": false,
     "title": ""
    }
   },
   "outputs": [
    {
     "output_type": "stream",
     "name": "stdout",
     "output_type": "stream",
     "text": [
      "Out[64]: -0.33848103596101514"
     ]
    }
   ],
   "source": [
    "# 상관관계 파악\n",
    "df_train.corr('Pclass', 'Survived')"
   ]
  },
  {
   "cell_type": "code",
   "execution_count": 0,
   "metadata": {
    "application/vnd.databricks.v1+cell": {
     "cellMetadata": {
      "byteLimit": 2048000,
      "rowLimit": 10000
     },
     "inputWidgets": {},
     "nuid": "2a3a1554-c017-43bc-8bfb-dcfe73780677",
     "showTitle": false,
     "title": ""
    }
   },
   "outputs": [
    {
     "output_type": "stream",
     "name": "stdout",
     "output_type": "stream",
     "text": [
      "column.name =  PassengerId\ncolumn.dataType =  StringType\n================================================================================\ncolumn.name =  Pclass\ncolumn.dataType =  IntegerType\n================================================================================\ncolumn.name =  Name\ncolumn.dataType =  StringType\n================================================================================\ncolumn.name =  Sex\ncolumn.dataType =  StringType\n================================================================================\ncolumn.name =  Age\ncolumn.dataType =  DoubleType\n================================================================================\ncolumn.name =  SibSp\ncolumn.dataType =  IntegerType\n================================================================================\ncolumn.name =  Parch\ncolumn.dataType =  IntegerType\n================================================================================\ncolumn.name =  Ticket\ncolumn.dataType =  StringType\n================================================================================\ncolumn.name =  Fare\ncolumn.dataType =  DoubleType\n================================================================================\ncolumn.name =  Cabin\ncolumn.dataType =  StringType\n================================================================================\ncolumn.name =  Embarked\ncolumn.dataType =  StringType\n================================================================================\ncolumn.name =  Survived\ncolumn.dataType =  IntegerType\n================================================================================\n"
     ]
    }
   ],
   "source": [
    "for column in df_train.schema :\n",
    "    \n",
    "    print('column.name = ', column.name)\n",
    "    print('column.dataType = ', column.dataType)\n",
    "    print('='*80)"
   ]
  },
  {
   "cell_type": "code",
   "execution_count": 0,
   "metadata": {
    "application/vnd.databricks.v1+cell": {
     "cellMetadata": {
      "byteLimit": 2048000,
      "rowLimit": 10000
     },
     "inputWidgets": {},
     "nuid": "9b24ee99-5584-48be-ab8b-cc3c84d144ae",
     "showTitle": false,
     "title": ""
    }
   },
   "outputs": [
    {
     "output_type": "stream",
     "name": "stdout",
     "output_type": "stream",
     "text": [
      "column.name =  PassengerId\ncolumn.dataType =  StringType\n================================================================================\ncolumn.name =  Pclass\ncolumn.dataType =  IntegerType\nnumeric type\n================================================================================\ncolumn.name =  Name\ncolumn.dataType =  StringType\n================================================================================\ncolumn.name =  Sex\ncolumn.dataType =  StringType\n================================================================================\ncolumn.name =  Age\ncolumn.dataType =  DoubleType\nnumeric type\n================================================================================\ncolumn.name =  SibSp\ncolumn.dataType =  IntegerType\nnumeric type\n================================================================================\ncolumn.name =  Parch\ncolumn.dataType =  IntegerType\nnumeric type\n================================================================================\ncolumn.name =  Ticket\ncolumn.dataType =  StringType\n================================================================================\ncolumn.name =  Fare\ncolumn.dataType =  DoubleType\nnumeric type\n================================================================================\ncolumn.name =  Cabin\ncolumn.dataType =  StringType\n================================================================================\ncolumn.name =  Embarked\ncolumn.dataType =  StringType\n================================================================================\ncolumn.name =  Survived\ncolumn.dataType =  IntegerType\nnumeric type\n================================================================================\n"
     ]
    }
   ],
   "source": [
    "for column in df_train.schema :\n",
    "    \n",
    "    print('column.name = ', column.name)\n",
    "    print('column.dataType = ', column.dataType)\n",
    "    \n",
    "    if (column.dataType == IntegerType()) or (column.dataType == DoubleType()):\n",
    "        print('numeric type')\n",
    "    print('=' * 80)"
   ]
  },
  {
   "cell_type": "code",
   "execution_count": 0,
   "metadata": {
    "application/vnd.databricks.v1+cell": {
     "cellMetadata": {
      "byteLimit": 2048000,
      "rowLimit": 10000
     },
     "inputWidgets": {},
     "nuid": "ab282546-0ca7-4327-b9c2-8139f42881b9",
     "showTitle": false,
     "title": ""
    }
   },
   "outputs": [
    {
     "output_type": "stream",
     "name": "stdout",
     "output_type": "stream",
     "text": [
      "column.name =  PassengerId\ncolumn.dataType =  StringType\n================================================================================\ncolumn.name =  Pclass\ncolumn.dataType =  IntegerType\nnumeric type\n================================================================================\ncolumn.name =  Name\ncolumn.dataType =  StringType\n================================================================================\ncolumn.name =  Sex\ncolumn.dataType =  StringType\n================================================================================\ncolumn.name =  Age\ncolumn.dataType =  DoubleType\nnumeric type\n================================================================================\ncolumn.name =  SibSp\ncolumn.dataType =  IntegerType\nnumeric type\n================================================================================\ncolumn.name =  Parch\ncolumn.dataType =  IntegerType\nnumeric type\n================================================================================\ncolumn.name =  Ticket\ncolumn.dataType =  StringType\n================================================================================\ncolumn.name =  Fare\ncolumn.dataType =  DoubleType\nnumeric type\n================================================================================\ncolumn.name =  Cabin\ncolumn.dataType =  StringType\n================================================================================\ncolumn.name =  Embarked\ncolumn.dataType =  StringType\n================================================================================\ncolumn.name =  Survived\ncolumn.dataType =  IntegerType\nnumeric type\n================================================================================\n"
     ]
    }
   ],
   "source": [
    "numeric_column_list = []\n",
    "\n",
    "for column in df_train.schema :\n",
    "    \n",
    "    print('column.name = ', column.name)\n",
    "    print('column.dataType = ', column.dataType)\n",
    "    \n",
    "    if (column.dataType == IntegerType()) or (column.dataType == DoubleType()):\n",
    "        print('numeric type')\n",
    "        numeric_column_list.append(column.name)\n",
    "\n",
    "    print('=' * 80)"
   ]
  },
  {
   "cell_type": "code",
   "execution_count": 0,
   "metadata": {
    "application/vnd.databricks.v1+cell": {
     "cellMetadata": {
      "byteLimit": 2048000,
      "rowLimit": 10000
     },
     "inputWidgets": {},
     "nuid": "19127e77-c70c-4801-8501-5c3b44303c77",
     "showTitle": false,
     "title": ""
    }
   },
   "outputs": [
    {
     "output_type": "stream",
     "name": "stdout",
     "output_type": "stream",
     "text": [
      "Out[68]: ['Pclass', 'Age', 'SibSp', 'Parch', 'Fare', 'Survived']"
     ]
    }
   ],
   "source": [
    "numeric_column_list"
   ]
  },
  {
   "cell_type": "code",
   "execution_count": 0,
   "metadata": {
    "application/vnd.databricks.v1+cell": {
     "cellMetadata": {
      "byteLimit": 2048000,
      "rowLimit": 10000
     },
     "inputWidgets": {},
     "nuid": "766daa94-fb8f-40b0-9124-62d3f95f2186",
     "showTitle": false,
     "title": ""
    }
   },
   "outputs": [
    {
     "output_type": "stream",
     "name": "stdout",
     "output_type": "stream",
     "text": [
      "column_name =  Pclass\n-0.33848103596101514\n================================================================================\ncolumn_name =  Age\n0.010539215871285685\n================================================================================\ncolumn_name =  SibSp\n-0.03532249888573558\n================================================================================\ncolumn_name =  Parch\n0.08162940708348336\n================================================================================\ncolumn_name =  Fare\n0.2573065223849626\n================================================================================\ncolumn_name =  Survived\n1.0\n================================================================================\n"
     ]
    }
   ],
   "source": [
    "for column_name in numeric_column_list:\n",
    "    \n",
    "    print('column_name = ', column_name)\n",
    "    print(df_train.corr(column_name, 'Survived'))\n",
    "    print('=' * 80)"
   ]
  },
  {
   "cell_type": "code",
   "execution_count": 0,
   "metadata": {
    "application/vnd.databricks.v1+cell": {
     "cellMetadata": {},
     "inputWidgets": {},
     "nuid": "4ae73abc-000d-4811-a31d-ad8430aef002",
     "showTitle": false,
     "title": ""
    }
   },
   "outputs": [],
   "source": []
  }
 ],
 "metadata": {
  "application/vnd.databricks.v1+notebook": {
   "dashboards": [],
   "language": "python",
   "notebookMetadata": {
    "mostRecentlyExecutedCommandWithImplicitDF": {
     "commandId": 3696449626775686,
     "dataframes": [
      "_sqldf"
     ]
    },
    "pythonIndentUnit": 4
   },
   "notebookName": "Spark_DataFrame02",
   "widgets": {}
  }
 },
 "nbformat": 4,
 "nbformat_minor": 0
}
